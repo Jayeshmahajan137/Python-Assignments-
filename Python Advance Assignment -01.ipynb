{
 "cells": [
  {
   "cell_type": "markdown",
   "id": "2ce66318",
   "metadata": {},
   "source": [
    "# Python Advance Assignment-01"
   ]
  },
  {
   "cell_type": "markdown",
   "id": "e4b6c99f",
   "metadata": {},
   "source": [
    "# Q1.What is the purpose of Python's OOP?"
   ]
  },
  {
   "cell_type": "markdown",
   "id": "46522513",
   "metadata": {},
   "source": [
    "The purpose of Python's Object-Oriented Programming (OOP) is to enable programmers to organize and structure their code in a way that models real-world objects, behaviors, and relationships between them.\n",
    "\n",
    "In OOP, code is organized into classes, which are essentially blueprints for creating objects. These objects can then have their own attributes (data) and methods (functions) that define their behavior.\n",
    "\n",
    "By using OOP in Python, programmers can create reusable code that is easier to maintain and modify, and can also make their programs more modular, meaning that they can break up their code into smaller, more manageable components that can be reused in other parts of the program. Additionally, OOP can help make programs more understandable and easier to reason about, as it allows programmers to model complex systems in a way that is more intuitive and closer to how we think about real-world objects and systems."
   ]
  },
  {
   "cell_type": "markdown",
   "id": "8f02b631",
   "metadata": {},
   "source": [
    "# Q2.Where does an inheritance search look for an attribute?"
   ]
  },
  {
   "cell_type": "markdown",
   "id": "f4733a5c",
   "metadata": {},
   "source": [
    "When an attribute is accessed on an instance of a class that inherits from other classes, Python follows a specific order to search for the attribute. This order is called the Method Resolution Order (MRO).\n",
    "\n",
    "The MRO is determined by the order in which base classes are specified in the class definition. When an attribute is accessed on an instance, Python first looks for the attribute in the instance's own class. If the attribute is not found in the instance's own class, Python then looks for it in the first base class specified in the class definition. If the attribute is not found in the first base class, Python then looks for it in the second base class, and so on, following the MRO until the attribute is found or until all base classes have been searched.\n",
    "\n",
    "The MRO can be accessed through the __mro__ attribute of a class, which returns a tuple of the class and its base classes in the order that Python will search for attributes. This can be useful for debugging and understanding the inheritance hierarchy of a class."
   ]
  },
  {
   "cell_type": "markdown",
   "id": "ce817c06",
   "metadata": {},
   "source": [
    "# Q3. How do you distinguish between a class object and an instance object?"
   ]
  },
  {
   "cell_type": "markdown",
   "id": "a72d33fb",
   "metadata": {},
   "source": [
    "In Python, a class is a blueprint or template that defines the attributes (data) and methods (functions) that all instances of the class will have. An instance, on the other hand, is a specific object that is created from a class and has its own unique data.\n",
    "\n",
    "To distinguish between a class object and an instance object, we can look at the way they are created and used:\n",
    "\n",
    "A class object is created when a class is defined in Python. It is not an instance of the class, but rather a representation of the class itself. For example, if we define a class Person, the object Person is a class object. We can access class attributes and methods using the class object directly, without creating an instance of the class.\n",
    "\n",
    "An instance object is created when we call the class constructor using the class name and parentheses. For example, if we create an instance of the Person class, we would call the constructor like this: person = Person(). The object person is now an instance of the Person class. We can access instance attributes and methods using the instance object, but not using the class object.\n",
    "\n",
    "In summary, a class object represents the class definition itself, while an instance object is a specific object that is created from the class and has its own unique data. The class object is used to access class attributes and methods, while the instance object is used to access instance attributes and methods."
   ]
  },
  {
   "cell_type": "markdown",
   "id": "db6fdb9b",
   "metadata": {},
   "source": [
    "# Q4.What makes the first argument in a class’s method function special?"
   ]
  },
  {
   "cell_type": "markdown",
   "id": "a248d2a7",
   "metadata": {},
   "source": [
    "In Python, the first argument of a class method function is conventionally named self, and it refers to the instance object that the method is called on. This argument is special because it allows the method to access and manipulate the attributes of the instance object.\n",
    "\n",
    "When a method is called on an instance object, Python automatically passes the instance object as the first argument to the method function. This allows the method to access and modify the attributes of the instance object. For example, consider the following class definition:"
   ]
  },
  {
   "cell_type": "code",
   "execution_count": 1,
   "id": "5d29a1d5",
   "metadata": {},
   "outputs": [],
   "source": [
    "class Person:\n",
    "    def __init__(self, name, age):\n",
    "        self.name = name\n",
    "        self.age = age\n",
    "\n",
    "    def get_name(self):\n",
    "        return self.name\n",
    "person = Person(\"Alice\", 30)\n",
    "name = person.get_name()  "
   ]
  },
  {
   "cell_type": "code",
   "execution_count": 2,
   "id": "11dc04ee",
   "metadata": {},
   "outputs": [
    {
     "data": {
      "text/plain": [
       "'Alice'"
      ]
     },
     "execution_count": 2,
     "metadata": {},
     "output_type": "execute_result"
    }
   ],
   "source": [
    "name"
   ]
  },
  {
   "cell_type": "markdown",
   "id": "4a40890d",
   "metadata": {},
   "source": [
    "# Q5. What is the purpose of the __init__ method?"
   ]
  },
  {
   "cell_type": "markdown",
   "id": "4fff9f07",
   "metadata": {},
   "source": [
    "In Python, the __init__ method is a special method that is called automatically when an instance of a class is created. The purpose of the __init__ method is to initialize the attributes of the instance object with any values that are provided as arguments when the instance is created.\n",
    "\n",
    "The __init__ method is usually used to set the initial state of the instance object. It takes self as its first argument, followed by any additional arguments that are needed to initialize the attributes of the instance. For example, consider the following class definition:"
   ]
  },
  {
   "cell_type": "code",
   "execution_count": 3,
   "id": "1002177b",
   "metadata": {},
   "outputs": [],
   "source": [
    "class Person:\n",
    "    def __init__(self, name, age):\n",
    "        self.name = name\n",
    "        self.age = age\n",
    "person = Person(\"Alice\", 30)\n"
   ]
  },
  {
   "cell_type": "markdown",
   "id": "9d526820",
   "metadata": {},
   "source": [
    "# Q6. What is the process for creating a class instance?"
   ]
  },
  {
   "cell_type": "markdown",
   "id": "8d2700ee",
   "metadata": {},
   "source": [
    "In Python, creating a class instance involves the following steps:\n",
    "\n",
    "Define the class: First, we define the class using the class keyword and define the attributes and methods that the class will have.\n",
    "\n",
    "Instantiate the class: To create an instance of the class, we call the class constructor using the class name and parentheses. This creates a new instance object of the class.\n",
    "\n",
    "Initialize the instance attributes: If the class has an __init__ method, it is called automatically when the instance is created to initialize the instance attributes with any values that are provided as arguments.\n",
    "\n",
    "Use the instance object: Once the instance object is created and initialized, we can use it to access the attributes and methods of the class.\n",
    "\n",
    "Here is an example that demonstrates these steps:"
   ]
  },
  {
   "cell_type": "code",
   "execution_count": 4,
   "id": "fb9b555a",
   "metadata": {},
   "outputs": [
    {
     "name": "stdout",
     "output_type": "stream",
     "text": [
      "Hello, my name is Alice and I am 30 years old.\n"
     ]
    }
   ],
   "source": [
    "# Step 1: Define the class\n",
    "class Person:\n",
    "    def __init__(self, name, age):\n",
    "        self.name = name\n",
    "        self.age = age\n",
    "\n",
    "    def say_hello(self):\n",
    "        print(f\"Hello, my name is {self.name} and I am {self.age} years old.\")\n",
    "\n",
    "# Step 2: Instantiate the class\n",
    "person = Person(\"Alice\", 30)\n",
    "\n",
    "# Step 3: Initialize the instance attributes\n",
    "# This step is automatically done by Python when we call the constructor in Step 2\n",
    "\n",
    "# Step 4: Use the instance object\n",
    "person.say_hello()  # Output: \"Hello, my name is Alice and I am 30 years old.\"\n"
   ]
  },
  {
   "cell_type": "markdown",
   "id": "c7ff00a0",
   "metadata": {},
   "source": [
    "# Q7. What is the process for creating a class?"
   ]
  },
  {
   "cell_type": "markdown",
   "id": "ad7f1a4b",
   "metadata": {},
   "source": [
    "In Python, creating a class involves the following steps:\n",
    "\n",
    "Define the class: First, we define the class using the class keyword, followed by the name of the class and a colon. We then define the attributes and methods that the class will have.\n",
    "\n",
    "Initialize the class attributes: We can define class-level attributes by setting them outside of any method definition in the class. These attributes are shared by all instances of the class.\n",
    "\n",
    "Define class methods: We can define methods that operate on the class as a whole, rather than on individual instances. These methods are defined using the @classmethod decorator.\n",
    "\n",
    "Here is an example that demonstrates these steps:"
   ]
  },
  {
   "cell_type": "code",
   "execution_count": 5,
   "id": "2d6c63c5",
   "metadata": {},
   "outputs": [
    {
     "name": "stdout",
     "output_type": "stream",
     "text": [
      "human\n",
      "Hello, my name is Alice and I am 30 years old.\n"
     ]
    }
   ],
   "source": [
    "# Step 1: Define the class\n",
    "class Person:\n",
    "    # Step 2: Initialize the class attributes\n",
    "    species = \"human\"\n",
    "\n",
    "    # Step 3: Define class methods\n",
    "    @classmethod\n",
    "    def get_species(cls):\n",
    "        return cls.species\n",
    "\n",
    "    def __init__(self, name, age):\n",
    "        self.name = name\n",
    "        self.age = age\n",
    "\n",
    "    def say_hello(self):\n",
    "        print(f\"Hello, my name is {self.name} and I am {self.age} years old.\")\n",
    "\n",
    "# Usage example\n",
    "species = Person.get_species()  # Get the class attribute\n",
    "print(species)  # Output: \"human\"\n",
    "\n",
    "person = Person(\"Alice\", 30)  # Create an instance of the class\n",
    "person.say_hello()  # Output: \"Hello, my name is Alice and I am 30 years old.\"\n"
   ]
  },
  {
   "cell_type": "markdown",
   "id": "0b52ae4d",
   "metadata": {},
   "source": [
    "# Q8. How would you define the superclasses of a class?"
   ]
  },
  {
   "cell_type": "markdown",
   "id": "4c707394",
   "metadata": {},
   "source": [
    "In Python, the superclasses of a class are defined using inheritance.\n",
    "\n",
    "When we create a new class, we can specify one or more parent classes from which the new class inherits. The parent classes are also known as superclasses or base classes.\n",
    "\n",
    "To specify a superclass, we include the name of the superclass in parentheses after the name of the new class. Here is an example:"
   ]
  },
  {
   "cell_type": "code",
   "execution_count": 6,
   "id": "bdf1889b",
   "metadata": {},
   "outputs": [],
   "source": [
    "class Animal:\n",
    "    def make_sound(self):\n",
    "        pass\n",
    "\n",
    "class Dog(Animal):\n",
    "    def make_sound(self):\n",
    "        print(\"Woof!\")\n",
    "\n",
    "class Cat(Animal):\n",
    "    def make_sound(self):\n",
    "        print(\"Meow!\")\n"
   ]
  },
  {
   "cell_type": "markdown",
   "id": "b3a5c458",
   "metadata": {},
   "source": [
    "In this example, we define a parent class Animal with a method make_sound. We then define two child classes Dog and Cat that inherit from the Animal class by including Animal in parentheses after the name of the child class.\n",
    "\n",
    "The Dog and Cat classes override the make_sound method to provide their own implementation. Since they inherit from the Animal class, they also have access to the make_sound method defined in the Animal class.\n",
    "\n",
    "In summary, the superclasses of a class in Python are the parent classes that are specified using inheritance when defining the new class."
   ]
  },
  {
   "cell_type": "code",
   "execution_count": null,
   "id": "6ee53d0d",
   "metadata": {},
   "outputs": [],
   "source": []
  }
 ],
 "metadata": {
  "kernelspec": {
   "display_name": "Python 3 (ipykernel)",
   "language": "python",
   "name": "python3"
  },
  "language_info": {
   "codemirror_mode": {
    "name": "ipython",
    "version": 3
   },
   "file_extension": ".py",
   "mimetype": "text/x-python",
   "name": "python",
   "nbconvert_exporter": "python",
   "pygments_lexer": "ipython3",
   "version": "3.9.13"
  }
 },
 "nbformat": 4,
 "nbformat_minor": 5
}
