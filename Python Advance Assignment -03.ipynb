{
 "cells": [
  {
   "cell_type": "markdown",
   "id": "cf5030f8",
   "metadata": {},
   "source": [
    "# Python advance Assignment-03"
   ]
  },
  {
   "cell_type": "markdown",
   "id": "dc112796",
   "metadata": {},
   "source": [
    "# Q1.What is the concept of an abstract superclass?"
   ]
  },
  {
   "cell_type": "markdown",
   "id": "f155e756",
   "metadata": {},
   "source": [
    "An abstract superclass is a class in object-oriented programming that is designed to be inherited by other classes, but is not intended to be instantiated directly. Instead, it defines a set of methods and attributes that its subclasses are required to implement or override.\n",
    "\n",
    "In Python, an abstract superclass is typically created using the abc module, which provides the ABC class and the abstractmethod decorator. To create an abstract superclass, you would define a class that inherits from ABC, and then define one or more abstract methods using the abstractmethod decorator. For example:"
   ]
  },
  {
   "cell_type": "code",
   "execution_count": null,
   "id": "8c09d5fb",
   "metadata": {},
   "outputs": [],
   "source": [
    "from abc import ABC, abstractmethod\n",
    "\n",
    "class Animal(ABC):\n",
    "    @abstractmethod\n",
    "    def make_sound(self):\n",
    "        pass\n",
    "\n",
    "class Cat(Animal):\n",
    "    def make_sound(self):\n",
    "        print(\"Meow!\")\n",
    "\n",
    "class Dog(Animal):\n",
    "    def make_sound(self):\n",
    "        print(\"Woof!\")\n"
   ]
  },
  {
   "cell_type": "markdown",
   "id": "22a67f4b",
   "metadata": {},
   "source": [
    "In this example, the Animal class is an abstract superclass that defines an abstract method make_sound(). This method is not implemented in the Animal class, but is instead left to its subclasses to define. The Cat and Dog classes both inherit from Animal and provide their own implementations of the make_sound() method.\n",
    "\n",
    "By defining an abstract superclass with abstract methods, you can ensure that any class that inherits from it provides the necessary functionality. This can make your code more flexible and easier to maintain, since you can write code that works with any subclass of the abstract superclass, without having to worry about the specific details of each subclass."
   ]
  },
  {
   "cell_type": "markdown",
   "id": "543d8eb9",
   "metadata": {},
   "source": [
    "# Q2. What happens when a class statement's top level contains a basic assignment statement?"
   ]
  },
  {
   "cell_type": "markdown",
   "id": "a4cbea55",
   "metadata": {},
   "source": [
    "When a class statement's top level contains a basic assignment statement, a class variable is created. This class variable is shared by all instances of the class, meaning that any changes made to the variable will be visible to all instances of the class.\n",
    "\n",
    "For example, consider the following code:"
   ]
  },
  {
   "cell_type": "code",
   "execution_count": null,
   "id": "fd6b419a",
   "metadata": {},
   "outputs": [],
   "source": [
    "class MyClass:\n",
    "    class_variable = 1\n",
    "\n",
    "    def __init__(self, instance_variable):\n",
    "        self.instance_variable = instance_variable\n"
   ]
  },
  {
   "cell_type": "markdown",
   "id": "69d7bb61",
   "metadata": {},
   "source": [
    "In this code, the MyClass class contains a class variable called class_variable, which is assigned the value 1. This variable can be accessed using the class name, like this:"
   ]
  },
  {
   "cell_type": "code",
   "execution_count": null,
   "id": "5ed95b17",
   "metadata": {},
   "outputs": [],
   "source": [
    "print(MyClass.class_variable)  # prints 1\n"
   ]
  },
  {
   "cell_type": "markdown",
   "id": "24ea6886",
   "metadata": {},
   "source": [
    "When an instance of MyClass is created, it also has access to the class variable:"
   ]
  },
  {
   "cell_type": "code",
   "execution_count": null,
   "id": "eccf03da",
   "metadata": {},
   "outputs": [],
   "source": [
    "my_instance = MyClass(2)\n",
    "print(my_instance.class_variable)  # prints 1\n"
   ]
  },
  {
   "cell_type": "markdown",
   "id": "2189093b",
   "metadata": {},
   "source": [
    "If the class variable is modified, the change will be visible to all instances of the class:"
   ]
  },
  {
   "cell_type": "code",
   "execution_count": null,
   "id": "20d6e1bb",
   "metadata": {},
   "outputs": [],
   "source": [
    "MyClass.class_variable = 3\n",
    "print(my_instance.class_variable)  # prints 3\n"
   ]
  },
  {
   "cell_type": "markdown",
   "id": "98c93808",
   "metadata": {},
   "source": [
    "It's important to be aware of the fact that class variables are shared by all instances of the class. If you want to create an instance variable that is unique to each instance of the class, you need to define it within an instance method or the __init__() method."
   ]
  },
  {
   "cell_type": "markdown",
   "id": "75e9d0d9",
   "metadata": {},
   "source": [
    "# Q3. Why does a class need to manually call a superclass's __init__ method?"
   ]
  },
  {
   "cell_type": "markdown",
   "id": "ceec6449",
   "metadata": {},
   "source": [
    "A class needs to manually call a superclass's __init__() method if it wants to inherit the superclass's behavior, attributes, and methods. By calling the superclass's __init__() method, the subclass is effectively initializing the superclass and making its functionality available to itself.\n",
    "\n",
    "When a subclass overrides a superclass's __init__() method, it can choose whether or not to call the superclass's __init__() method. If it does not call the superclass's __init__() method, then the superclass's initialization code will not be executed, and the subclass will not inherit any of the superclass's behavior or attributes.\n",
    "\n",
    "For example, consider the following code:"
   ]
  },
  {
   "cell_type": "code",
   "execution_count": null,
   "id": "2b8c5298",
   "metadata": {},
   "outputs": [],
   "source": [
    "class Animal:\n",
    "    def __init__(self, name):\n",
    "        self.name = name\n",
    "        print(\"Animal __init__ method called.\")\n",
    "\n",
    "class Dog(Animal):\n",
    "    def __init__(self, name):\n",
    "        print(\"Dog __init__ method called.\")\n",
    "        # Uncomment the following line to call the superclass's __init__ method\n",
    "        # super().__init__(name)\n",
    "\n",
    "my_dog = Dog(\"Fido\")\n",
    "print(my_dog.name)\n"
   ]
  },
  {
   "cell_type": "markdown",
   "id": "1c03f531",
   "metadata": {},
   "source": [
    "In this code, the Animal class defines an __init__() method that sets the name attribute of the animal. The Dog class overrides the Animal class's __init__() method, and defines its own initialization code. If the Dog class does not call the superclass's __init__() method, then the name attribute will not be set, and attempting to access it will raise an AttributeError.\n",
    "\n",
    "If we uncomment the super().__init__(name) line, then the superclass's __init__() method will be called, and the name attribute will be set:"
   ]
  },
  {
   "cell_type": "code",
   "execution_count": null,
   "id": "a9715218",
   "metadata": {},
   "outputs": [],
   "source": [
    "class Dog(Animal):\n",
    "    def __init__(self, name):\n",
    "        print(\"Dog __init__ method called.\")\n",
    "        super().__init__(name)\n",
    "\n",
    "my_dog = Dog(\"Fido\")\n",
    "print(my_dog.name)  # prints \"Fido\"\n"
   ]
  },
  {
   "cell_type": "markdown",
   "id": "0df8333f",
   "metadata": {},
   "source": [
    "In this code, the Dog class calls the superclass's __init__() method using the super() function. This initializes the Animal superclass and sets the name attribute, which is then available to the Dog subclass."
   ]
  },
  {
   "cell_type": "markdown",
   "id": "106bc122",
   "metadata": {},
   "source": [
    "# Q4.How can you augment, instead of completely replacing, an inherited method?"
   ]
  },
  {
   "cell_type": "markdown",
   "id": "e9addef4",
   "metadata": {},
   "source": [
    "To augment an inherited method instead of completely replacing it, you can override the method in the subclass and then call the superclass's implementation of the method using the super() function. This allows you to add additional behavior to the method without losing the behavior defined in the superclass.\n",
    "\n",
    "For example, consider the following code:"
   ]
  },
  {
   "cell_type": "code",
   "execution_count": null,
   "id": "4a6ef357",
   "metadata": {},
   "outputs": [],
   "source": [
    "class Animal:\n",
    "    def __init__(self, name):\n",
    "        self.name = name\n",
    "    \n",
    "    def speak(self):\n",
    "        print(f\"{self.name} says hello\")\n",
    "\n",
    "class Dog(Animal):\n",
    "    def speak(self):\n",
    "        super().speak()\n",
    "        print(f\"{self.name} barks\")\n",
    "\n",
    "my_dog = Dog(\"Fido\")\n",
    "my_dog.speak()\n"
   ]
  },
  {
   "cell_type": "markdown",
   "id": "c13a3990",
   "metadata": {},
   "source": [
    "In this code, the Animal class defines a speak() method that prints a greeting. The Dog class overrides the speak() method and calls the superclass's implementation using super().speak(). It then adds additional behavior to the method by printing a bark.\n",
    "\n",
    "When we create an instance of Dog and call the speak() method, both the superclass's and subclass's implementation of the method are called, resulting in the following output:"
   ]
  },
  {
   "cell_type": "code",
   "execution_count": null,
   "id": "99bfe843",
   "metadata": {},
   "outputs": [],
   "source": [
    "Fido says hello\n",
    "Fido barks\n"
   ]
  },
  {
   "cell_type": "markdown",
   "id": "70db9b71",
   "metadata": {},
   "source": [
    "By calling the superclass's implementation of the method using super().speak(), the subclass is able to augment the method instead of completely replacing it. This technique is known as method overriding with super()."
   ]
  },
  {
   "cell_type": "markdown",
   "id": "7fc3c100",
   "metadata": {},
   "source": [
    "# Q5.How is the local scope of a class different from that of a function?"
   ]
  },
  {
   "cell_type": "markdown",
   "id": "d1d64a71",
   "metadata": {},
   "source": [
    "The local scope of a class and that of a function are different in a few key ways:\n",
    "\n",
    "Time of creation: Class scopes are created at the time of definition, while function scopes are created at the time of function call.\n",
    "\n",
    "Access to enclosing scopes: While both class and function scopes have access to the global scope, only function scopes have access to the enclosing function scope (if any).\n",
    "\n",
    "Accessibility from outside the scope: Class scopes can be accessed from outside the class by using the class name as a namespace, while function scopes are not accessible from outside the function.\n",
    "\n",
    "Name binding: In a function scope, any names assigned a value within the function are local to that function and do not affect the value of names in other scopes. In a class scope, names assigned a value within the class are considered class attributes and can be accessed from all instances of the class.\n",
    "\n",
    "Special attributes: Classes have several special attributes, such as __name__, __doc__, and __module__, that are not present in function scopes.\n",
    "\n",
    "Overall, the local scope of a class and that of a function differ in their creation time, accessibility, name binding, and special attributes. While there are some similarities in the way that names are looked up and accessed within each scope, it's important to understand these differences in order to write effective object-oriented code in Python."
   ]
  },
  {
   "cell_type": "code",
   "execution_count": null,
   "id": "10bfcdb2",
   "metadata": {},
   "outputs": [],
   "source": []
  }
 ],
 "metadata": {
  "kernelspec": {
   "display_name": "Python 3 (ipykernel)",
   "language": "python",
   "name": "python3"
  },
  "language_info": {
   "codemirror_mode": {
    "name": "ipython",
    "version": 3
   },
   "file_extension": ".py",
   "mimetype": "text/x-python",
   "name": "python",
   "nbconvert_exporter": "python",
   "pygments_lexer": "ipython3",
   "version": "3.9.13"
  }
 },
 "nbformat": 4,
 "nbformat_minor": 5
}
