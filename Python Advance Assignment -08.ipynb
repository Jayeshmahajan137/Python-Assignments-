{
 "cells": [
  {
   "cell_type": "markdown",
   "id": "0c8c963d",
   "metadata": {},
   "source": [
    "# Python Advance Assignment -08"
   ]
  },
  {
   "cell_type": "markdown",
   "id": "a4e896b6",
   "metadata": {},
   "source": [
    "# Q1. What are the two latest user-defined exception constraints in Python 3.X?"
   ]
  },
  {
   "cell_type": "markdown",
   "id": "a4aef22a",
   "metadata": {},
   "source": [
    "As an AI language model, I do not have access to real-time information on the latest user-defined exception constraints in Python 3.X. However, I can provide some examples of user-defined exceptions that have been added in previous versions of Python.\n",
    "\n",
    "In Python 3.3, the OSError exception was expanded to include a new subclass called FileNotFoundError, which is raised when a file or directory is requested but does not exist.\n",
    "\n",
    "In Python 3.5, the TimeoutError exception was introduced, which is raised when a function or method times out before completing its task.\n",
    "\n",
    "It's important to note that the latest version of Python as of my knowledge cutoff (September 2021) is Python 3.10, and there may have been additional user-defined exceptions added since then."
   ]
  },
  {
   "cell_type": "markdown",
   "id": "e2a01923",
   "metadata": {},
   "source": [
    "# Q2. How are class-based exceptions that have been raised matched to handlers?"
   ]
  },
  {
   "cell_type": "markdown",
   "id": "18297c5f",
   "metadata": {},
   "source": [
    "In Python, when an exception is raised, it is propagated through the call stack until it is handled by an appropriate exception handler. The process of matching a raised exception to its appropriate exception handler is called exception handling.\n",
    "\n",
    "When a class-based exception is raised, Python searches for an appropriate exception handler in the following order:\n",
    "\n",
    "The innermost try block that surrounds the line of code that raised the exception.\n",
    "If no handler is found in the surrounding try block, Python moves up the call stack and looks for a try block in the caller of the function that raised the exception.\n",
    "If no handler is found in any try block in the call stack, the Python interpreter prints a traceback message and exits the program.\n",
    "If a try block is found that matches the raised exception class, Python passes the raised exception object to the appropriate except clause that follows the try block. The except clause can then handle the exception by executing the code within it.\n",
    "\n",
    "If no try block is found that matches the raised exception class, the exception is propagated to the calling function, and the search for an appropriate exception handler continues up the call stack until a matching try block is found or the exception is unhandled and the program terminates.\n",
    "\n",
    "It's important to note that if an exception is raised and no appropriate exception handler is found, the program will terminate with an error message, so it's generally a good idea to include exception handlers for all the exceptions that can be raised in your code."
   ]
  },
  {
   "cell_type": "markdown",
   "id": "8acae7ab",
   "metadata": {},
   "source": [
    "# Q3. Describe two methods for attaching context information to exception artefacts."
   ]
  },
  {
   "cell_type": "markdown",
   "id": "0b09c5d4",
   "metadata": {},
   "source": [
    "When an exception is raised in Python, it can be useful to attach additional context information to the exception object to help with debugging and error reporting. Here are two common methods for attaching context information to exception artifacts:\n",
    "\n",
    "Using Exception Arguments: When an exception is raised, you can pass additional context information as arguments to the exception class. For example, if you want to include a message indicating the cause of the exception, you can pass that message as an argument to the exception constructor. Here's an example:"
   ]
  },
  {
   "cell_type": "code",
   "execution_count": null,
   "id": "80dc0480",
   "metadata": {},
   "outputs": [],
   "source": [
    "class MyException(Exception):\n",
    "    def __init__(self, message, context):\n",
    "        super().__init__(message)\n",
    "        self.context = context\n",
    "\n",
    "try:\n",
    "    # Some code that raises MyException\n",
    "except MyException as ex:\n",
    "    print(f\"Exception: {ex}, Context: {ex.context}\")\n"
   ]
  },
  {
   "cell_type": "markdown",
   "id": "597cd2eb",
   "metadata": {},
   "source": [
    "In this example, the MyException class takes two arguments: message and context. The message argument is used to pass a human-readable description of the exception, while the context argument is used to pass additional context information. When an instance of MyException is raised, you can access the context attribute of the exception object to retrieve the additional context information.\n",
    "\n",
    "Using Exception Context Managers: Another way to attach context information to exceptions is by using context managers. A context manager is a Python object that defines the methods __enter__() and __exit__(). The with statement can be used to execute a block of code within the context of a context manager. When an exception is raised within the with block, the context manager's __exit__() method is called, allowing you to attach additional context information to the exception object. Here's an example:"
   ]
  },
  {
   "cell_type": "code",
   "execution_count": null,
   "id": "9d525b72",
   "metadata": {},
   "outputs": [],
   "source": [
    "class MyContext:\n",
    "    def __enter__(self):\n",
    "        return self\n",
    "\n",
    "    def __exit__(self, exc_type, exc_value, traceback):\n",
    "        if exc_type is not None:\n",
    "            print(f\"Exception: {exc_type}, Context: {self.context}\")\n",
    "\n",
    "with MyContext() as ctx:\n",
    "    ctx.context = \"Additional context information\"\n",
    "    # Some code that raises an exception\n"
   ]
  },
  {
   "cell_type": "markdown",
   "id": "bceae897",
   "metadata": {},
   "source": [
    "In this example, the MyContext class is a context manager that defines the __enter__() and __exit__() methods. When the with block is executed, the MyContext object is created and returned by the __enter__() method. You can attach additional context information to the MyContext object before executing the code that might raise an exception. If an exception is raised, the __exit__() method of the MyContext object is called with information about the exception, allowing you to print the exception information along with any additional context information that was attached to the MyContext object."
   ]
  },
  {
   "cell_type": "markdown",
   "id": "64043333",
   "metadata": {},
   "source": [
    "# Q4. Describe two methods for specifying the text of an exception object's error message"
   ]
  },
  {
   "cell_type": "markdown",
   "id": "6eccce0e",
   "metadata": {},
   "source": [
    "When you raise an exception in Python, you can provide an error message that describes the reason for the exception. Here are two common methods for specifying the text of an exception object's error message:\n",
    "\n",
    "Using Exception Arguments: The simplest way to specify the error message for an exception object is to pass it as an argument to the exception constructor. For example:"
   ]
  },
  {
   "cell_type": "code",
   "execution_count": null,
   "id": "1638b613",
   "metadata": {},
   "outputs": [],
   "source": [
    "class MyException(Exception):\n",
    "    pass\n",
    "\n",
    "message = \"Something went wrong\"\n",
    "\n",
    "try:\n",
    "    raise MyException(message)\n",
    "except MyException as ex:\n",
    "    print(f\"Exception: {ex}, Message: {ex.args[0]}\")\n"
   ]
  },
  {
   "cell_type": "markdown",
   "id": "6f6d6d77",
   "metadata": {},
   "source": [
    "In this example, we define a new exception class called MyException. When we raise an instance of MyException, we pass the error message as an argument to the constructor. The error message is stored as the first element in the args tuple of the exception object. We can access the error message by indexing into the args tuple.\n",
    "\n",
    "Overriding the __str__() Method: Another way to specify the error message for an exception object is to override the __str__() method of the exception class. The __str__() method should return a string representation of the exception, which can include the error message. For example:"
   ]
  },
  {
   "cell_type": "code",
   "execution_count": null,
   "id": "6b50a4df",
   "metadata": {},
   "outputs": [],
   "source": [
    "class MyException(Exception):\n",
    "    def __init__(self, context):\n",
    "        super().__init__()\n",
    "        self.context = context\n",
    "\n",
    "    def __str__(self):\n",
    "        return f\"MyException: {self.context}\"\n",
    "\n",
    "context = \"Something went wrong\"\n",
    "\n",
    "try:\n",
    "    raise MyException(context)\n",
    "except MyException as ex:\n",
    "    print(f\"{ex}\")\n"
   ]
  },
  {
   "cell_type": "markdown",
   "id": "935ce585",
   "metadata": {},
   "source": [
    "In this example, we define a new exception class called MyException. We override the __str__() method to return a string representation of the exception that includes the error message stored in the context attribute. When we raise an instance of MyException, we pass the error message as an argument to the constructor, which stores it in the context attribute. We can then print the exception object, which will call the __str__() method to obtain the string representation of the exception, including the error message."
   ]
  },
  {
   "cell_type": "markdown",
   "id": "d4b2d67a",
   "metadata": {},
   "source": [
    "# Q5. Why do you no longer use string-based exceptions?"
   ]
  },
  {
   "cell_type": "markdown",
   "id": "0a29022a",
   "metadata": {},
   "source": [
    "String-based exceptions were used in Python 2.x as a way to raise exceptions by passing a string message to the raise statement. For example:"
   ]
  },
  {
   "cell_type": "code",
   "execution_count": null,
   "id": "b6dbcadd",
   "metadata": {},
   "outputs": [],
   "source": [
    "raise \"Something went wrong\"\n"
   ]
  },
  {
   "cell_type": "markdown",
   "id": "710e29d2",
   "metadata": {},
   "source": [
    "However, this approach was deprecated in Python 2.5 and is no longer supported in Python 3.x. Instead, you should use exception classes to raise and handle exceptions in Python.\n",
    "\n",
    "There are several reasons why string-based exceptions are no longer used in Python:\n",
    "\n",
    "Lack of Structured Data: When you raise an exception using a string, you're essentially passing a plain text message with no structured data. This makes it difficult to programmatically handle and process exceptions. Exception classes, on the other hand, allow you to attach additional information and context to the exception object, making it easier to understand and handle the error.\n",
    "\n",
    "Limited Flexibility: String-based exceptions don't provide any additional functionality beyond the error message. Exception classes, on the other hand, can include methods and attributes that provide additional context and behavior. For example, you can define custom exception classes that implement specific behavior, such as retrying an operation or logging the error.\n",
    "\n",
    "Maintenance and Readability: String-based exceptions are harder to maintain and debug compared to exception classes. They don't provide any encapsulation, so it's difficult to modify or extend the exception handling behavior. Exception classes provide a clear and structured way to define and handle exceptions, making it easier to understand and maintain the code.\n",
    "\n",
    "Overall, it's recommended to use exception classes instead of string-based exceptions for raising and handling exceptions in Python."
   ]
  },
  {
   "cell_type": "code",
   "execution_count": null,
   "id": "7253519c",
   "metadata": {},
   "outputs": [],
   "source": []
  }
 ],
 "metadata": {
  "kernelspec": {
   "display_name": "Python 3 (ipykernel)",
   "language": "python",
   "name": "python3"
  },
  "language_info": {
   "codemirror_mode": {
    "name": "ipython",
    "version": 3
   },
   "file_extension": ".py",
   "mimetype": "text/x-python",
   "name": "python",
   "nbconvert_exporter": "python",
   "pygments_lexer": "ipython3",
   "version": "3.9.13"
  }
 },
 "nbformat": 4,
 "nbformat_minor": 5
}
