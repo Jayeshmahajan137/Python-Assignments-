{
 "cells": [
  {
   "cell_type": "markdown",
   "id": "9dcdf196",
   "metadata": {},
   "source": [
    "# Python Advance Assignment - 10"
   ]
  },
  {
   "cell_type": "markdown",
   "id": "c88331e0",
   "metadata": {},
   "source": [
    "# Q1. What is the difference between __getattr__ and __getattribute__?"
   ]
  },
  {
   "cell_type": "markdown",
   "id": "8369544a",
   "metadata": {},
   "source": [
    "Both __getattr__ and __getattribute__ are special methods in Python that are used for attribute access. However, there is a key difference between them:\n",
    "\n",
    "__getattr__(self, name) is called when an attribute lookup has failed using the usual mechanism. This usually happens when you try to access an attribute that doesn't exist on an object. If __getattr__ is defined on the object, it will be called with the name of the attribute that was not found, and should return a value to be used as the attribute value. If __getattr__ is not defined, a AttributeError will be raised.\n",
    "\n",
    "__getattribute__(self, name) is called for every attribute access on an object, before the usual mechanism of attribute lookup is used. This means that __getattribute__ is called even when accessing attributes that do exist on the object. If __getattribute__ is defined on the object, it will be called with the name of the attribute to be accessed, and should return the attribute value. If __getattribute__ is not defined or raises an exception, the usual attribute lookup mechanism will be used.\n",
    "\n",
    "The key difference between these two methods is that __getattr__ is only called when an attribute is not found, whereas __getattribute__ is called for every attribute access. This makes __getattribute__ more powerful, but also more dangerous, since it can potentially interfere with the normal operation of an object.\n",
    "\n",
    "In general, it is recommended to use __getattr__ when you want to provide default values or handle missing attributes, and to use __getattribute__ when you need to customize the behavior of an object's attributes. However, you should be careful when using __getattribute__, as it can lead to subtle bugs if not used properly."
   ]
  },
  {
   "cell_type": "markdown",
   "id": "6c3390a2",
   "metadata": {},
   "source": [
    "# Q2.What is the difference between properties and descriptors?"
   ]
  },
  {
   "cell_type": "markdown",
   "id": "21a3f2fb",
   "metadata": {},
   "source": [
    "Both properties and descriptors are Python constructs used to manage attribute access and provide controlled access to object attributes. However, there is a key difference between them:\n",
    "\n",
    "Properties are a high-level feature of Python that allow you to define methods that are used to get, set, or delete object attributes, but appear to be regular attributes themselves. Properties are defined using the @property, @<name>.setter, and @<name>.deleter decorators, which allow you to define getter, setter, and deleter methods that are called when the property is accessed, set, or deleted, respectively. Properties are most commonly used to provide controlled access to object attributes, and to hide the implementation details of an object's attributes from the user.\n",
    "\n",
    "Descriptors are a lower-level feature of Python that allow you to define classes that can be used to manage attribute access for other objects. Descriptors are defined by creating a class with one or more of the special methods __get__, __set__, and __delete__, which are called when the descriptor is accessed, set, or deleted, respectively. Descriptors can be used to implement a wide range of behaviors, including computed attributes, attribute validation, and attribute transformation.\n",
    "\n",
    "The key difference between properties and descriptors is that properties are used to manage attribute access for a single object, while descriptors are used to manage attribute access for multiple objects. Properties are defined as part of the object they apply to, while descriptors are defined as a separate class that can be reused across multiple objects.\n",
    "\n",
    "In general, properties are easier to use and understand than descriptors, and are the preferred way to provide controlled access to object attributes in most cases. However, descriptors are a more powerful and flexible feature, and can be used to implement a wide range of behaviors that are not possible with properties alone."
   ]
  },
  {
   "cell_type": "markdown",
   "id": "26a394df",
   "metadata": {},
   "source": [
    "# Q3. What are the key differences in functionality between __getattr__ and __getattribute__, as well as properties and descriptors?"
   ]
  },
  {
   "cell_type": "markdown",
   "id": "6164c2bb",
   "metadata": {},
   "source": [
    "__getattr__ and __getattribute__ are special methods in Python used for attribute access, while properties and descriptors are Python constructs used to manage attribute access and provide controlled access to object attributes. Here are the key differences in functionality between them:\n",
    "\n",
    "__getattr__ is called when an attribute lookup has failed using the usual mechanism, while __getattribute__ is called for every attribute access, even when the attribute exists.\n",
    "__getattr__ is used to provide default values or handle missing attributes, while __getattribute__ is used to customize the behavior of an object's attributes.\n",
    "Properties allow you to define methods that are used to get, set, or delete object attributes, but appear to be regular attributes themselves. They are most commonly used to provide controlled access to object attributes, and to hide the implementation details of an object's attributes from the user.\n",
    "Descriptors allow you to define classes that can be used to manage attribute access for other objects. They can be used to implement a wide range of behaviors, including computed attributes, attribute validation, and attribute transformation.\n",
    "In summary, __getattr__ and __getattribute__ are used to customize the behavior of an object's attributes, while properties and descriptors are used to manage attribute access and provide controlled access to object attributes. Properties are a higher-level feature of Python that provide a simpler interface for managing attribute access, while descriptors are a lower-level feature that allow for more advanced behaviors."
   ]
  },
  {
   "cell_type": "code",
   "execution_count": null,
   "id": "8540e2ee",
   "metadata": {},
   "outputs": [],
   "source": []
  }
 ],
 "metadata": {
  "kernelspec": {
   "display_name": "Python 3 (ipykernel)",
   "language": "python",
   "name": "python3"
  },
  "language_info": {
   "codemirror_mode": {
    "name": "ipython",
    "version": 3
   },
   "file_extension": ".py",
   "mimetype": "text/x-python",
   "name": "python",
   "nbconvert_exporter": "python",
   "pygments_lexer": "ipython3",
   "version": "3.9.13"
  }
 },
 "nbformat": 4,
 "nbformat_minor": 5
}
