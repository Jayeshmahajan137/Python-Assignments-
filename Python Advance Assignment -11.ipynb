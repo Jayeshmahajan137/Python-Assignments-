{
 "cells": [
  {
   "cell_type": "markdown",
   "id": "05440788",
   "metadata": {},
   "source": [
    "# Python Advance Assignment -11"
   ]
  },
  {
   "cell_type": "markdown",
   "id": "36fee63c",
   "metadata": {},
   "source": [
    "# Q1.What is the concept of a metaclass?"
   ]
  },
  {
   "cell_type": "markdown",
   "id": "311ae840",
   "metadata": {},
   "source": [
    "In Python, a metaclass is a class that defines the behavior of other classes. It is responsible for creating and defining the attributes and methods of a class, just like a class is responsible for creating and defining the attributes and methods of an object. In other words, a metaclass is to a class what a class is to an object.\n",
    "\n",
    "When a new class is defined in Python, the Python interpreter uses its metaclass (which is usually the type metaclass) to create the class object. This means that the metaclass is responsible for setting the attributes and methods of the class object before it is created.\n",
    "\n",
    "Metaclasses can be used to customize the behavior of classes in a number of ways. For example, they can be used to automatically generate attribute names, enforce coding standards, or implement custom behavior for class methods.\n",
    "\n",
    "One common use case for metaclasses is to implement the singleton pattern, which ensures that a class has only one instance throughout the entire program. This can be achieved by creating a metaclass that overrides the __new__ method to check if an instance of the class has already been created, and if so, return the existing instance instead of creating a new one.\n",
    "\n",
    "Metaclasses are a powerful and advanced feature of Python, and are typically only used in complex frameworks and libraries. However, they can be a useful tool for developers who need to customize the behavior of classes in a way that is not possible with standard Python features."
   ]
  },
  {
   "cell_type": "markdown",
   "id": "a558581d",
   "metadata": {},
   "source": [
    "# Q2. What is the best way to declare a class's metaclass?"
   ]
  },
  {
   "cell_type": "markdown",
   "id": "2f981184",
   "metadata": {},
   "source": [
    "In Python, there are several ways to declare a class's metaclass, but the most common way is to set the __metaclass__ attribute of the class. The __metaclass__ attribute can be set to either a metaclass object or a callable that returns a metaclass object. For example, here's how you can declare a metaclass for a class named MyClass:"
   ]
  },
  {
   "cell_type": "code",
   "execution_count": null,
   "id": "45efdbe0",
   "metadata": {},
   "outputs": [],
   "source": [
    "class MyMetaclass(type):\n",
    "    pass\n",
    "\n",
    "class MyClass(metaclass=MyMetaclass):\n",
    "    pass\n"
   ]
  },
  {
   "cell_type": "markdown",
   "id": "c27b265b",
   "metadata": {},
   "source": [
    "In this example, MyMetaclass is a subclass of the built-in type metaclass, which means it can be used to create other classes. The MyClass class has its metaclass set to MyMetaclass by passing MyMetaclass as the metaclass argument to the class declaration.\n",
    "\n",
    "It's also possible to declare a metaclass by subclassing an existing class that already has a metaclass. For example, the following code declares a metaclass by subclassing the built-in type metaclass:"
   ]
  },
  {
   "cell_type": "code",
   "execution_count": null,
   "id": "cbb91407",
   "metadata": {},
   "outputs": [],
   "source": [
    "class MyMetaclass(type):\n",
    "    pass\n",
    "\n",
    "class MyBaseClass:\n",
    "    pass\n",
    "\n",
    "class MyClass(MyBaseClass, metaclass=MyMetaclass):\n",
    "    pass\n"
   ]
  },
  {
   "cell_type": "markdown",
   "id": "e7924861",
   "metadata": {},
   "source": [
    "In this example, MyBaseClass has no metaclass, but when MyClass is defined, its metaclass is set to MyMetaclass, which is a subclass of the built-in type metaclass.\n",
    "\n",
    "Note that the __metaclass__ attribute is only used in Python 2.x, and is not supported in Python 3.x. In Python 3.x, you must use the metaclass argument to declare a class's metaclass."
   ]
  },
  {
   "cell_type": "markdown",
   "id": "73e5a709",
   "metadata": {},
   "source": [
    "# Q3.How do class decorators overlap with metaclasses for handling classes?"
   ]
  },
  {
   "cell_type": "markdown",
   "id": "7cfaa0cf",
   "metadata": {},
   "source": [
    "Class decorators and metaclasses are both mechanisms for modifying the behavior of classes in Python, but they operate at different stages of the class creation process.\n",
    "\n",
    "Class decorators are functions that take a class object as input, and return a modified class object as output. They are applied to the class after it has been defined, but before it is executed. Class decorators can modify the attributes and methods of the class, and can also add new attributes and methods to the class. For example, here's a simple class decorator that adds a new method to a class:"
   ]
  },
  {
   "cell_type": "code",
   "execution_count": null,
   "id": "9ec6f1ec",
   "metadata": {},
   "outputs": [],
   "source": [
    "def add_method(cls):\n",
    "    def new_method(self):\n",
    "        print(\"Hello, world!\")\n",
    "    cls.new_method = new_method\n",
    "    return cls\n",
    "\n",
    "@add_method\n",
    "class MyClass:\n",
    "    pass\n",
    "\n",
    "obj = MyClass()\n",
    "obj.new_method()   # prints \"Hello, world!\"\n"
   ]
  },
  {
   "cell_type": "markdown",
   "id": "a8447bef",
   "metadata": {},
   "source": [
    "In this example, the add_method function is a class decorator that takes a class object (cls) as input, defines a new method (new_method), and adds it to the class object. The @add_method decorator is applied to the MyClass class, which causes it to be modified with the new method.\n",
    "\n",
    "Metaclasses, on the other hand, are classes that define the behavior of other classes. They are used to create new classes, and can be used to modify the attributes and methods of the class being created, as well as the class's inheritance hierarchy and other aspects of its behavior. Metaclasses are applied during the class creation process, before the class is executed. Here's an example of using a metaclass to add a new method to a class:"
   ]
  },
  {
   "cell_type": "code",
   "execution_count": null,
   "id": "64d82abd",
   "metadata": {},
   "outputs": [],
   "source": [
    "class AddMethodMetaclass(type):\n",
    "    def __new__(cls, name, bases, dct):\n",
    "        def new_method(self):\n",
    "            print(\"Hello, world!\")\n",
    "        dct['new_method'] = new_method\n",
    "        return type.__new__(cls, name, bases, dct)\n",
    "\n",
    "class MyClass(metaclass=AddMethodMetaclass):\n",
    "    pass\n",
    "\n",
    "obj = MyClass()\n",
    "obj.new_method()   # prints \"Hello, world!\"\n"
   ]
  },
  {
   "cell_type": "markdown",
   "id": "dcb9b8f1",
   "metadata": {},
   "source": [
    "In this example, the AddMethodMetaclass is a metaclass that defines a __new__ method. The __new__ method takes the class name, base classes, and dictionary of attributes as input, and returns a new class object with the modified attributes. The MyClass class is created with the AddMethodMetaclass as its metaclass, which causes the __new__ method of the metaclass to be called, adding the new method to the class.\n",
    "\n",
    "In summary, class decorators and metaclasses can both be used to modify the behavior of classes in Python, but class decorators are applied after the class has been defined, while metaclasses are applied during the class creation process. Class decorators can modify the attributes and methods of a class, while metaclasses can modify the class hierarchy and other aspects of its behavior."
   ]
  },
  {
   "cell_type": "markdown",
   "id": "8c1b27c9",
   "metadata": {},
   "source": [
    "# Q4. How do class decorators overlap with metaclasses for handling instances?"
   ]
  },
  {
   "cell_type": "markdown",
   "id": "e8e007d5",
   "metadata": {},
   "source": [
    "Class decorators and metaclasses can also be used to modify the behavior of instances of a class, although they operate in different ways.\n",
    "\n",
    "Class decorators can modify the behavior of individual instances of a class by adding or modifying attributes or methods of those instances. For example, consider the following class decorator that adds a \"debug\" attribute to instances of a class:"
   ]
  },
  {
   "cell_type": "code",
   "execution_count": null,
   "id": "0be38444",
   "metadata": {},
   "outputs": [],
   "source": [
    "def add_debug_attr(cls):\n",
    "    def _debug(self):\n",
    "        print(\"Debugging:\", self)\n",
    "    cls.debug = _debug\n",
    "    return cls\n",
    "\n",
    "@add_debug_attr\n",
    "class MyClass:\n",
    "    pass\n",
    "\n",
    "obj = MyClass()\n",
    "obj.debug()  # prints \"Debugging: <__main__.MyClass object at 0x...>\"\n"
   ]
  },
  {
   "cell_type": "markdown",
   "id": "41d6171f",
   "metadata": {},
   "source": [
    "In this example, the add_debug_attr decorator adds a debug method to instances of the MyClass class. The @add_debug_attr decorator is applied to the MyClass class, which causes the debug method to be added to instances of the class.\n",
    "\n",
    "Metaclasses can also modify the behavior of instances of a class, but they do so by modifying the behavior of the class itself. For example, consider the following metaclass that modifies the behavior of instances of a class by intercepting attribute access:"
   ]
  },
  {
   "cell_type": "code",
   "execution_count": null,
   "id": "4c8b0715",
   "metadata": {},
   "outputs": [],
   "source": [
    "class InterceptAttrsMetaclass(type):\n",
    "    def __new__(cls, name, bases, dct):\n",
    "        def _intercept_getattr(self, name):\n",
    "            print(\"Getting attribute:\", name)\n",
    "            return object.__getattribute__(self, name)\n",
    "        dct['__getattribute__'] = _intercept_getattr\n",
    "        return type.__new__(cls, name, bases, dct)\n",
    "\n",
    "class MyClass(metaclass=InterceptAttrsMetaclass):\n",
    "    pass\n",
    "\n",
    "obj = MyClass()\n",
    "print(obj.foo)  # prints \"Getting attribute: foo\" followed by an AttributeError\n"
   ]
  },
  {
   "cell_type": "markdown",
   "id": "e61a6491",
   "metadata": {},
   "source": [
    "In this example, the InterceptAttrsMetaclass metaclass defines a __getattribute__ method that intercepts attribute access for instances of the MyClass class. The MyClass class is created with the InterceptAttrsMetaclass as its metaclass, which causes the __new__ method of the metaclass to be called, adding the __getattribute__ method to the class. When an instance of the class is created and an attribute is accessed, the __getattribute__ method of the class is called, intercepting the attribute access and printing a message."
   ]
  },
  {
   "cell_type": "code",
   "execution_count": null,
   "id": "597878da",
   "metadata": {},
   "outputs": [],
   "source": []
  }
 ],
 "metadata": {
  "kernelspec": {
   "display_name": "Python 3 (ipykernel)",
   "language": "python",
   "name": "python3"
  },
  "language_info": {
   "codemirror_mode": {
    "name": "ipython",
    "version": 3
   },
   "file_extension": ".py",
   "mimetype": "text/x-python",
   "name": "python",
   "nbconvert_exporter": "python",
   "pygments_lexer": "ipython3",
   "version": "3.9.13"
  }
 },
 "nbformat": 4,
 "nbformat_minor": 5
}
