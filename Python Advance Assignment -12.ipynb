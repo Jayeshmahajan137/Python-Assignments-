{
 "cells": [
  {
   "cell_type": "markdown",
   "id": "c60e058e",
   "metadata": {},
   "source": [
    "# Python Advance Assignment-12"
   ]
  },
  {
   "cell_type": "markdown",
   "id": "7ba749d4",
   "metadata": {},
   "source": [
    "# Q1. Does assigning a value to a string's indexed character violate Python's string immutability?"
   ]
  },
  {
   "cell_type": "markdown",
   "id": "8bfd7600",
   "metadata": {},
   "source": [
    "In Python, strings are immutable, which means that once a string is created, its contents cannot be modified.\n",
    "\n",
    "Assigning a value to a string's indexed character creates a new string object in memory with the modified character and returns it. The original string object is not modified. Therefore, this operation does not violate Python's string immutability.\n",
    "\n",
    "For example:"
   ]
  },
  {
   "cell_type": "code",
   "execution_count": null,
   "id": "21e7715e",
   "metadata": {},
   "outputs": [],
   "source": [
    "my_string = \"hello\"\n",
    "my_string[0] = \"j\"\n"
   ]
  },
  {
   "cell_type": "markdown",
   "id": "84b1cf74",
   "metadata": {},
   "source": [
    "The code above will raise a TypeError with the message \" 'str' object does not support item assignment\", indicating that string object does not support item assignment.\n",
    "\n",
    "However, you can create a new string object with the modified character and assign it to a new variable:"
   ]
  },
  {
   "cell_type": "code",
   "execution_count": null,
   "id": "5d47404e",
   "metadata": {},
   "outputs": [],
   "source": [
    "new_string = \"j\" + my_string[1:]\n",
    "print(new_string)  # \"jello\"\n"
   ]
  },
  {
   "cell_type": "markdown",
   "id": "685c9893",
   "metadata": {},
   "source": [
    "This code creates a new string object with the character \"j\" at the beginning and the remaining characters of the original string, \"ello\". The original string remains unchanged, and the new_string variable holds the modified string."
   ]
  },
  {
   "cell_type": "markdown",
   "id": "1b88ef03",
   "metadata": {},
   "source": [
    "# Q2. Does using the += operator to concatenate strings violate Python's string immutability? Why or why not?"
   ]
  },
  {
   "cell_type": "markdown",
   "id": "fa26b86a",
   "metadata": {},
   "source": [
    "The += operator can be used to concatenate strings in Python. For example:"
   ]
  },
  {
   "cell_type": "code",
   "execution_count": null,
   "id": "d5c130c9",
   "metadata": {},
   "outputs": [],
   "source": [
    "my_string = \"hello\"\n",
    "my_string += \" world\"\n",
    "print(my_string)  # \"hello world\"\n"
   ]
  },
  {
   "cell_type": "markdown",
   "id": "48b75cb9",
   "metadata": {},
   "source": [
    "In this case, the += operator does not violate Python's string immutability. Instead of modifying the original string, it creates a new string object by concatenating the original string with the new string, and then assigns the new string object to the same variable.\n",
    "\n",
    "This can be demonstrated with the id() function, which returns the memory address of an object in Python:"
   ]
  },
  {
   "cell_type": "code",
   "execution_count": null,
   "id": "534b4205",
   "metadata": {},
   "outputs": [],
   "source": [
    "my_string = \"hello\"\n",
    "print(id(my_string))  # 140242586183824\n",
    "\n",
    "my_string += \" world\"\n",
    "print(id(my_string))  # 140242581153776\n"
   ]
  },
  {
   "cell_type": "markdown",
   "id": "91e5f45b",
   "metadata": {},
   "source": [
    "As you can see, the memory address of the my_string object changes after the += operation, indicating that a new string object was created and assigned to the variable.\n",
    "\n",
    "In summary, using the += operator to concatenate strings does not violate Python's string immutability because it creates a new string object instead of modifying the original string."
   ]
  },
  {
   "cell_type": "markdown",
   "id": "d2cdb752",
   "metadata": {},
   "source": [
    "# Q3. In Python, how many different ways are there to index a character?\n"
   ]
  },
  {
   "cell_type": "markdown",
   "id": "b2cb4d28",
   "metadata": {},
   "source": [
    "In Python, there is only one way to index a character in a string, and that is by using square brackets ([]) with the index of the character you want to access.\n",
    "\n",
    "For example, if we have a string my_string:"
   ]
  },
  {
   "cell_type": "code",
   "execution_count": 1,
   "id": "1fcffefb",
   "metadata": {},
   "outputs": [],
   "source": [
    "my_string = \"hello\"\n"
   ]
  },
  {
   "cell_type": "markdown",
   "id": "728eb6bf",
   "metadata": {},
   "source": [
    "We can access the first character (which is \"h\") by using:"
   ]
  },
  {
   "cell_type": "code",
   "execution_count": null,
   "id": "917d407b",
   "metadata": {},
   "outputs": [],
   "source": [
    "my_string[0]\n"
   ]
  },
  {
   "cell_type": "markdown",
   "id": "c40b2ef0",
   "metadata": {},
   "source": [
    "This will return the character at index 0, which is \"h\".\n",
    "\n",
    "It's important to note that strings are zero-indexed in Python, which means that the first character has an index of 0, the second character has an index of 1, and so on. If we try to access an index that is out of range (i.e., larger than the length of the string), we will get an IndexError."
   ]
  },
  {
   "cell_type": "markdown",
   "id": "601a68f7",
   "metadata": {},
   "source": [
    "# Q4. What is the relationship between indexing and slicing?"
   ]
  },
  {
   "cell_type": "markdown",
   "id": "2f0dfdbd",
   "metadata": {},
   "source": [
    "Indexing and slicing are two ways to access specific parts of a sequence (such as a string or a list) in Python.\n",
    "\n",
    "Indexing is used to access a single element of the sequence, which is identified by its position (index) within the sequence. In Python, we use square brackets ([]) with the index of the element we want to access. For example, if we have a string my_string:"
   ]
  },
  {
   "cell_type": "code",
   "execution_count": null,
   "id": "72bd2e75",
   "metadata": {},
   "outputs": [],
   "source": [
    "my_string = \"hello\"\n"
   ]
  },
  {
   "cell_type": "markdown",
   "id": "0faccb61",
   "metadata": {},
   "source": [
    "We can access the first character (which is \"h\") by using:"
   ]
  },
  {
   "cell_type": "code",
   "execution_count": null,
   "id": "1251a298",
   "metadata": {},
   "outputs": [],
   "source": [
    "my_string[0]\n"
   ]
  },
  {
   "cell_type": "markdown",
   "id": "4abc1fea",
   "metadata": {},
   "source": [
    "Slicing, on the other hand, is used to access a range of elements within the sequence, which is identified by its start and end positions (indices) within the sequence. In Python, we use square brackets ([]) with the start and end indices separated by a colon (:). For example, if we have a string my_string:"
   ]
  },
  {
   "cell_type": "code",
   "execution_count": null,
   "id": "390ee05d",
   "metadata": {},
   "outputs": [],
   "source": [
    "my_string = \"hello\"\n"
   ]
  },
  {
   "cell_type": "markdown",
   "id": "47d18e0f",
   "metadata": {},
   "source": [
    "We can access a slice of the string that includes the second through fourth characters (which are \"e\", \"l\", and \"l\") by using:"
   ]
  },
  {
   "cell_type": "code",
   "execution_count": null,
   "id": "63a5e37f",
   "metadata": {},
   "outputs": [],
   "source": [
    "my_string[1:4]\n"
   ]
  },
  {
   "cell_type": "markdown",
   "id": "e4b7098a",
   "metadata": {},
   "source": [
    "This will return a new string that includes the characters from index 1 up to (but not including) index 4.\n",
    "\n",
    "In summary, indexing and slicing are both used to access specific parts of a sequence in Python, but indexing is used to access a single element while slicing is used to access a range of elements."
   ]
  },
  {
   "cell_type": "markdown",
   "id": "a57182f9",
   "metadata": {},
   "source": [
    "# Q5.What is an indexed character's exact data type? What is the data form of a slicing-generated substring?"
   ]
  },
  {
   "cell_type": "markdown",
   "id": "e51d5a01",
   "metadata": {},
   "source": [
    "In Python, an indexed character of a string has the data type str. This means that when we access a character of a string using indexing, we get a single-character string as a result.\n",
    "\n",
    "For example, if we have a string my_string:"
   ]
  },
  {
   "cell_type": "code",
   "execution_count": null,
   "id": "da6a53c0",
   "metadata": {},
   "outputs": [],
   "source": [
    "my_string = \"hello\"\n"
   ]
  },
  {
   "cell_type": "markdown",
   "id": "1e4dd082",
   "metadata": {},
   "source": [
    "We can access the first character (which is \"h\") by using:"
   ]
  },
  {
   "cell_type": "code",
   "execution_count": null,
   "id": "932213f6",
   "metadata": {},
   "outputs": [],
   "source": [
    "my_char = my_string[0]\n",
    "print(type(my_char))  # <class 'str'>\n"
   ]
  },
  {
   "cell_type": "markdown",
   "id": "5096f482",
   "metadata": {},
   "source": [
    "This will return the character at index 0, which is \"h\", as a string data type.\n",
    "\n",
    "A slicing-generated substring is also a string data type. When we slice a string in Python, we get a new string that contains the characters within the specified range. This new string has the same data type as the original string.\n",
    "\n",
    "For example, if we have a string my_string:"
   ]
  },
  {
   "cell_type": "code",
   "execution_count": null,
   "id": "0a6e1b6c",
   "metadata": {},
   "outputs": [],
   "source": [
    "my_string = \"hello\"\n"
   ]
  },
  {
   "cell_type": "markdown",
   "id": "5465f6e1",
   "metadata": {},
   "source": [
    "We can slice a substring that includes the second through fourth characters (which are \"e\", \"l\", and \"l\") by using:"
   ]
  },
  {
   "cell_type": "code",
   "execution_count": null,
   "id": "074590d2",
   "metadata": {},
   "outputs": [],
   "source": [
    "my_substring = my_string[1:4]\n",
    "print(my_substring)  # \"ell\"\n",
    "print(type(my_substring))  # <class 'str'>\n"
   ]
  },
  {
   "cell_type": "markdown",
   "id": "a3c81388",
   "metadata": {},
   "source": [
    "This will return a new string that includes the characters from index 1 up to (but not including) index 4, which is \"ell\". This new string is of the same data type (str) as the original string."
   ]
  },
  {
   "cell_type": "markdown",
   "id": "26c298f0",
   "metadata": {},
   "source": [
    "# Q6. What is the relationship between string and character \"types\" in Python?"
   ]
  },
  {
   "cell_type": "markdown",
   "id": "745efede",
   "metadata": {},
   "source": [
    "in Python, there is only one type for individual characters, which is the str (string) data type. This means that each character in a string is represented as a string object.\n",
    "\n",
    "For example, if we have a string my_string:\n",
    "\n",
    "\n",
    "my_string = \"hello\"\n",
    "\n",
    "Each character in the string my_string is represented as a string object. We can access individual characters of the string using indexing:\n",
    "\n",
    "\n",
    "my_char = my_string[0]\n",
    "print(my_char)  # \"h\"\n",
    "print(type(my_char))  # <class 'str'>\n",
    "\n",
    "This will return the first character of the string, which is \"h\", as a string object.\n",
    "\n",
    "In other words, in Python, there is no separate \"character\" data type. Instead, individual characters are represented as string objects. This is why we can use string methods and operations on individual characters, just like we would on entire strings. For example, we can use the upper() method to convert an individual character to uppercase:\n",
    "\n",
    "\n",
    "my_char = \"h\"\n",
    "my_upper_char = my_char.upper()\n",
    "print(my_upper_char)  # \"H\"\n",
    "\n",
    "This will convert the lowercase \"h\" to uppercase \"H\" using the upper() method, which is a string method that operates on the string object representing the character."
   ]
  },
  {
   "cell_type": "markdown",
   "id": "2a4d8f9c",
   "metadata": {},
   "source": [
    "# Q7. Identify at least two operators and one method that allow you to combine one or more smaller strings to create a larger string."
   ]
  },
  {
   "cell_type": "markdown",
   "id": "f98b977b",
   "metadata": {},
   "source": [
    "In Python, there are multiple operators and methods that can be used to combine smaller strings into a larger string:\n",
    "\n",
    "The + operator: We can use the + operator to concatenate two or more strings together. For example:"
   ]
  },
  {
   "cell_type": "code",
   "execution_count": null,
   "id": "df195083",
   "metadata": {},
   "outputs": [],
   "source": [
    "str1 = \"Hello\"\n",
    "str2 = \"world\"\n",
    "str3 = str1 + \" \" + str2\n",
    "print(str3)  # \"Hello world\"\n"
   ]
  },
  {
   "cell_type": "markdown",
   "id": "4e212788",
   "metadata": {},
   "source": [
    "The join() method: We can use the join() method to concatenate multiple strings together with a specified delimiter between them. For example:"
   ]
  },
  {
   "cell_type": "code",
   "execution_count": 2,
   "id": "d6031b34",
   "metadata": {},
   "outputs": [
    {
     "name": "stdout",
     "output_type": "stream",
     "text": [
      "apple, banana, orange\n"
     ]
    }
   ],
   "source": [
    "str_list = [\"apple\", \"banana\", \"orange\"]\n",
    "delimiter = \", \"\n",
    "str_joined = delimiter.join(str_list)\n",
    "print(str_joined)  # \"apple, banana, orange\"\n"
   ]
  },
  {
   "cell_type": "markdown",
   "id": "835ce5fd",
   "metadata": {},
   "source": [
    "The += operator: We can also use the += operator to append a smaller string to a larger string. For example:"
   ]
  },
  {
   "cell_type": "code",
   "execution_count": null,
   "id": "c3598d6a",
   "metadata": {},
   "outputs": [],
   "source": [
    "str1 = \"Hello\"\n",
    "str1 += \" world\"\n",
    "print(str1)  # \"Hello world\"\n"
   ]
  },
  {
   "cell_type": "markdown",
   "id": "073d65e9",
   "metadata": {},
   "source": [
    "All of these operators and methods allow us to combine smaller strings into a larger string in different ways."
   ]
  },
  {
   "cell_type": "markdown",
   "id": "73ae7b50",
   "metadata": {},
   "source": [
    "Q8. What is the benefit of first checking the target string with in or not in before using the index method to find a substring?"
   ]
  },
  {
   "cell_type": "markdown",
   "id": "74669697",
   "metadata": {},
   "source": [
    "Checking if a target string contains a substring using the in or not in operators before using the index() method can help to prevent errors in our program.\n",
    "\n",
    "The index() method returns the index of the first occurrence of a specified substring within a string. However, if the substring is not found in the string, the index() method raises a ValueError exception. This can cause our program to crash if we don't handle the exception properly.\n",
    "\n",
    "By checking if the target string contains the substring using the in or not in operators first, we can avoid the ValueError exception and handle the absence of the substring in a more controlled way. For example:"
   ]
  },
  {
   "cell_type": "code",
   "execution_count": null,
   "id": "4d1ecf4c",
   "metadata": {},
   "outputs": [],
   "source": [
    "my_string = \"hello world\"\n",
    "substring = \"world\"\n",
    "\n",
    "if substring in my_string:\n",
    "    index = my_string.index(substring)\n",
    "    print(f\"The substring '{substring}' is found at index {index}.\")\n",
    "else:\n",
    "    print(f\"The substring '{substring}' is not found in the string.\")\n"
   ]
  },
  {
   "cell_type": "markdown",
   "id": "2a3ef4f6",
   "metadata": {},
   "source": [
    "In this code, we first check if the substring \"world\" is in the string \"hello world\" using the in operator. If it is, we then use the index() method to find the index of the substring. If it is not, we simply print a message stating that the substring is not found in the string.\n",
    "\n",
    "This approach allows us to handle the presence or absence of the substring in a more controlled way and prevent our program from crashing due to a ValueError exception."
   ]
  },
  {
   "cell_type": "markdown",
   "id": "31cd2180",
   "metadata": {},
   "source": [
    "# Q9. Which operators and built-in string methods produce simple Boolean (true/false) results?"
   ]
  },
  {
   "cell_type": "markdown",
   "id": "b1dc6705",
   "metadata": {},
   "source": [
    "Several operators and built-in string methods in Python return Boolean (true/false) results:\n",
    "\n",
    "The in and not in operators: These operators are used to check if a substring is present or not present in a string, respectively. For example:"
   ]
  },
  {
   "cell_type": "code",
   "execution_count": null,
   "id": "f9dfd406",
   "metadata": {},
   "outputs": [],
   "source": [
    "my_string = \"hello world\"\n",
    "print(\"world\" in my_string)  # True\n",
    "print(\"foo\" not in my_string)  # True\n"
   ]
  },
  {
   "cell_type": "markdown",
   "id": "c893bebe",
   "metadata": {},
   "source": [
    "The startswith() and endswith() methods: These methods are used to check if a string starts or ends with a specified substring, respectively. For example:"
   ]
  },
  {
   "cell_type": "code",
   "execution_count": null,
   "id": "8d6eff91",
   "metadata": {},
   "outputs": [],
   "source": [
    "my_string = \"hello world\"\n",
    "print(my_string.startswith(\"hello\"))  # True\n",
    "print(my_string.endswith(\"world\"))  # True\n"
   ]
  },
  {
   "cell_type": "markdown",
   "id": "97d95eaf",
   "metadata": {},
   "source": [
    "The isalpha(), isdigit(), isalnum(), and isspace() methods: These methods are used to check if a string consists of only alphabetic characters, only numeric characters, alphanumeric characters, or whitespace characters, respectively. For example:"
   ]
  },
  {
   "cell_type": "code",
   "execution_count": null,
   "id": "2eddd028",
   "metadata": {},
   "outputs": [],
   "source": [
    "my_string1 = \"hello\"\n",
    "my_string2 = \"123\"\n",
    "my_string3 = \"hello123\"\n",
    "my_string4 = \" \"\n",
    "\n",
    "print(my_string1.isalpha())  # True\n",
    "print(my_string2.isdigit())  # True\n",
    "print(my_string3.isalnum())  # True\n",
    "print(my_string4.isspace())  # True\n"
   ]
  },
  {
   "cell_type": "markdown",
   "id": "f5049156",
   "metadata": {},
   "source": [
    "All of these operators and methods return a Boolean (true/false) result based on whether the specified condition is true or false for the given string."
   ]
  },
  {
   "cell_type": "code",
   "execution_count": null,
   "id": "4fa24a42",
   "metadata": {},
   "outputs": [],
   "source": []
  }
 ],
 "metadata": {
  "kernelspec": {
   "display_name": "Python 3 (ipykernel)",
   "language": "python",
   "name": "python3"
  },
  "language_info": {
   "codemirror_mode": {
    "name": "ipython",
    "version": 3
   },
   "file_extension": ".py",
   "mimetype": "text/x-python",
   "name": "python",
   "nbconvert_exporter": "python",
   "pygments_lexer": "ipython3",
   "version": "3.9.13"
  }
 },
 "nbformat": 4,
 "nbformat_minor": 5
}
