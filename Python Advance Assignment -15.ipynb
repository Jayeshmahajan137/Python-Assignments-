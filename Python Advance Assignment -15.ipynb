{
 "cells": [
  {
   "cell_type": "markdown",
   "id": "80162d75",
   "metadata": {},
   "source": [
    "# Python Advance Assignment -15"
   ]
  },
  {
   "cell_type": "markdown",
   "id": "abe11018",
   "metadata": {},
   "source": [
    "# Q1.What are the new features added in Python 3.8 version?"
   ]
  },
  {
   "cell_type": "markdown",
   "id": "97854f30",
   "metadata": {},
   "source": [
    "Python 3.8 was released in October 2019, and it brought several new features and improvements to the language. Here are some of the most notable ones:\n",
    "\n",
    "Walrus Operator: This is a new operator (:=) that allows you to assign values to variables as part of an expression.\n",
    "\n",
    "f-strings: Python 3.8 introduced \"f-strings,\" which is a new way to format strings that is more concise and easier to read.\n",
    "\n",
    "Improved Typing: The typing module has been improved with the addition of new types, such as TypedDict and Final, which make it easier to write type hints.\n",
    "\n",
    "Positional-only parameters: Python 3.8 added support for defining positional-only parameters in functions, which can help make the function's interface clearer and more explicit.\n",
    "\n",
    "Performance improvements: Python 3.8 includes several performance improvements, such as faster startup times and faster method calls.\n",
    "\n",
    "Debugging improvements: The Python debugger has been improved with the addition of a new \"breakpoint\" function, which can be used to set a breakpoint in code without having to import the pdb module.\n",
    "\n",
    "Improved Unicode handling: Python 3.8 includes several improvements to Unicode handling, including support for more characters and improved error handling.\n",
    "\n",
    "Pickle protocol 5: The pickle module has been updated to version 5, which adds support for new data types and is faster and more secure than previous versions.\n",
    "\n",
    "New modules: Python 3.8 includes several new modules, such as the \"zoneinfo\" module, which provides access to time zone information, and the \"importlib.metadata\" module, which can be used to retrieve metadata about installed packages.\n",
    "\n",
    "Overall, Python 3.8 brought many improvements and new features that make it easier and more efficient to write Python code."
   ]
  },
  {
   "cell_type": "markdown",
   "id": "448ca1d7",
   "metadata": {},
   "source": [
    "# Q2.\tWhat is monkey patching in Python?"
   ]
  },
  {
   "cell_type": "markdown",
   "id": "52e1d771",
   "metadata": {},
   "source": [
    "Monkey patching in Python is the practice of modifying the behavior of a module or class at runtime, without changing its source code. This is achieved by redefining methods or attributes of the module or class at runtime.\n",
    "\n",
    "Monkey patching is often used to add functionality to existing code or to work around bugs or limitations in third-party libraries. It can be a powerful tool when used carefully, but it can also be dangerous if not used properly.\n",
    "\n",
    "Here is an example of monkey patching a class in Python:"
   ]
  },
  {
   "cell_type": "code",
   "execution_count": null,
   "id": "415b9962",
   "metadata": {},
   "outputs": [],
   "source": [
    "class MyClass:\n",
    "    def my_method(self):\n",
    "        print(\"Original method\")\n",
    "\n",
    "# Define a new method for MyClass\n",
    "def new_method(self):\n",
    "    print(\"New method\")\n",
    "\n",
    "# Monkey patch MyClass to use the new method\n",
    "MyClass.my_method = new_method\n",
    "\n",
    "# Create an instance of MyClass and call the modified method\n",
    "obj = MyClass()\n",
    "obj.my_method()  # prints \"New method\"\n"
   ]
  },
  {
   "cell_type": "markdown",
   "id": "1c8613ae",
   "metadata": {},
   "source": [
    "In this example, we define a new method called new_method, and then we monkey patch the my_method method of the MyClass class to use the new method instead of the original method. When we create an instance of MyClass and call the my_method method, it now calls the new method instead of the original method, and prints \"New method\" instead of \"Original method\".\n",
    "\n",
    "It's worth noting that monkey patching can have unintended consequences and should only be used as a last resort. It can make code more difficult to understand and maintain, and it can introduce subtle bugs if not used carefully. Therefore, it's generally a good practice to avoid monkey patching whenever possible, and to only use it when there are no other viable alternatives."
   ]
  },
  {
   "cell_type": "markdown",
   "id": "4bcbadba",
   "metadata": {},
   "source": [
    "# Q3.What is the difference between a shallow copy and deep copy?"
   ]
  },
  {
   "cell_type": "markdown",
   "id": "c7186977",
   "metadata": {},
   "source": [
    "In Python, when you copy an object, you can create either a shallow copy or a deep copy. The difference between the two is as follows:\n",
    "\n",
    "Shallow Copy:\n",
    "A shallow copy creates a new object, but it references the same memory locations as the original object for its data. This means that if the original object has mutable objects as its attributes, the new object and the original object share the same mutable objects. Therefore, any changes made to the mutable objects in one object will also be reflected in the other object.\n",
    "\n",
    "In Python, you can create a shallow copy using the copy method or the slicing operator [:]. Here's an example:"
   ]
  },
  {
   "cell_type": "code",
   "execution_count": null,
   "id": "a98e7974",
   "metadata": {},
   "outputs": [],
   "source": [
    "original_list = [[1, 2, 3], [4, 5, 6], [7, 8, 9]]\n",
    "shallow_copy_list = original_list.copy()\n",
    "\n",
    "# modifying the original object\n",
    "original_list[0][0] = 10\n",
    "\n",
    "# the shallow copy is also affected\n",
    "print(original_list)  # [[10, 2, 3], [4, 5, 6], [7, 8, 9]]\n",
    "print(shallow_copy_list)  # [[10, 2, 3], [4, 5, 6], [7, 8, 9]]\n"
   ]
  },
  {
   "cell_type": "markdown",
   "id": "d07e86bf",
   "metadata": {},
   "source": [
    "Deep Copy:\n",
    "A deep copy creates a new object with new memory locations for its data, including any mutable objects that are part of the original object. This means that changes made to the mutable objects in one object will not be reflected in the other object.\n",
    "\n",
    "In Python, you can create a deep copy using the deepcopy method from the copy module. Here's an example:"
   ]
  },
  {
   "cell_type": "code",
   "execution_count": null,
   "id": "9663c116",
   "metadata": {},
   "outputs": [],
   "source": [
    "import copy\n",
    "\n",
    "original_list = [[1, 2, 3], [4, 5, 6], [7, 8, 9]]\n",
    "deep_copy_list = copy.deepcopy(original_list)\n",
    "\n",
    "# modifying the original object\n",
    "original_list[0][0] = 10\n",
    "\n",
    "# the deep copy is not affected\n",
    "print(original_list)  # [[10, 2, 3], [4, 5, 6], [7, 8, 9]]\n",
    "print(deep_copy_list)  # [[1, 2, 3], [4, 5, 6], [7, 8, 9]]\n"
   ]
  },
  {
   "cell_type": "markdown",
   "id": "03c2213f",
   "metadata": {},
   "source": [
    "# Q4.What is the maximum possible length of an identifier?"
   ]
  },
  {
   "cell_type": "markdown",
   "id": "49b53937",
   "metadata": {},
   "source": [
    "In Python, the maximum length of an identifier is implementation-dependent, which means it can vary depending on the Python implementation being used. However, in practical terms, the maximum length of an identifier is usually limited by the maximum size of a string in the implementation.\n",
    "\n",
    "In CPython, the most commonly used implementation of Python, the maximum length of an identifier is 255 characters. This is because CPython uses null-terminated C strings to represent identifiers, and the maximum size of a C string is 255 characters (including the null terminator).\n",
    "\n",
    "However, it's worth noting that using identifiers that are anywhere near this length is generally not recommended, as it can make code difficult to read and understand. In general, it's a good practice to keep identifiers short and descriptive, while also following the naming conventions recommended by the Python style guide (PEP 8)."
   ]
  },
  {
   "cell_type": "markdown",
   "id": "135a0668",
   "metadata": {},
   "source": [
    "# Q5.What is generator comprehension?"
   ]
  },
  {
   "cell_type": "markdown",
   "id": "25fc7663",
   "metadata": {},
   "source": [
    "Generator comprehension is a concise and memory-efficient way to create a generator in Python. It is similar to list comprehension, but instead of creating a list, it creates a generator object that can be iterated over to produce values on-the-fly.\n",
    "\n",
    "Generator comprehension is created using the same syntax as list comprehension, but with parentheses instead of square brackets. Here's an example:"
   ]
  },
  {
   "cell_type": "code",
   "execution_count": null,
   "id": "b9603020",
   "metadata": {},
   "outputs": [],
   "source": [
    "# list comprehension\n",
    "my_list = [x**2 for x in range(10)]\n",
    "print(my_list)  # [0, 1, 4, 9, 16, 25, 36, 49, 64, 81]\n",
    "\n",
    "# generator comprehension\n",
    "my_generator = (x**2 for x in range(10))\n",
    "print(my_generator)  # <generator object <genexpr> at 0x000001>\n",
    "\n",
    "# iterate over the generator to produce values on-the-fly\n",
    "for value in my_generator:\n",
    "    print(value)\n"
   ]
  },
  {
   "cell_type": "markdown",
   "id": "fd38d8e2",
   "metadata": {},
   "source": [
    "In this example, we create a list using list comprehension to generate the squares of the numbers from 0 to 9. We then create a generator using generator comprehension to do the same thing. The difference is that the list is created immediately in memory, while the generator produces values on-the-fly as we iterate over it.\n",
    "\n",
    "Generator comprehension is useful when you need to produce a large number of values, but you don't want to create a list that takes up a lot of memory. Since a generator only produces values as they are needed, it can be more memory-efficient than creating a list. Additionally, since generators are iterable, they can be used in any context where an iterable is required, such as in a for loop or as an argument to a function that takes an iterable."
   ]
  },
  {
   "cell_type": "code",
   "execution_count": null,
   "id": "94993292",
   "metadata": {},
   "outputs": [],
   "source": []
  }
 ],
 "metadata": {
  "kernelspec": {
   "display_name": "Python 3 (ipykernel)",
   "language": "python",
   "name": "python3"
  },
  "language_info": {
   "codemirror_mode": {
    "name": "ipython",
    "version": 3
   },
   "file_extension": ".py",
   "mimetype": "text/x-python",
   "name": "python",
   "nbconvert_exporter": "python",
   "pygments_lexer": "ipython3",
   "version": "3.9.13"
  }
 },
 "nbformat": 4,
 "nbformat_minor": 5
}
