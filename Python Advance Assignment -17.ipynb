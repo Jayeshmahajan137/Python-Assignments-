{
 "cells": [
  {
   "cell_type": "markdown",
   "id": "2f82668d",
   "metadata": {},
   "source": [
    "# Python Advance Assignment -17"
   ]
  },
  {
   "cell_type": "markdown",
   "id": "cf4f6b5f",
   "metadata": {},
   "source": [
    "# Q1.Explain the difference between greedy and non-greedy syntax with visual terms in as few words as possible. What is the bare minimum effort required to transform a greedy pattern into a non-greedy one? What characters or characters can you introduce or change?\n"
   ]
  },
  {
   "cell_type": "markdown",
   "id": "577ca2e0",
   "metadata": {},
   "source": [
    "Greedy syntax tries to match the longest possible string that satisfies the pattern, while non-greedy syntax matches the shortest possible string. For example, in the string \"abcabcabc\", the pattern \"a.c\" using greedy syntax will match the entire string, while non-greedy syntax will match only \"abc\". To transform a greedy pattern into a non-greedy one, we can add a \"?\" after the quantifier (e.g. \"\", \"+\") or change a greedy quantifier (e.g. \"\") to its non-greedy counterpart (e.g. \"*?\"). We can also use the non-greedy repetition syntax, such as \"{m,n}?\", to match the shortest possible substring."
   ]
  },
  {
   "cell_type": "markdown",
   "id": "7865509d",
   "metadata": {},
   "source": [
    "# Q2.When exactly does greedy versus non-greedy make a difference?  What if you're looking for a non-greedy match but the only one available is greedy?"
   ]
  },
  {
   "cell_type": "markdown",
   "id": "022ba03d",
   "metadata": {},
   "source": [
    "Greedy versus non-greedy makes a difference when the pattern matches multiple instances in a string, especially if the instances are separated by the same delimiter. In such cases, greedy syntax may match more than one instance, while non-greedy syntax will match only one instance. For example, in the string \"aXbXcXdXe\", the pattern \"a.*?e\" will match only \"aXbXcXdXe\" using non-greedy syntax, while greedy syntax will match \"aXbXcXdX\".\n",
    "\n",
    "If you're looking for a non-greedy match but the only one available is greedy, you can modify the pattern to make it non-greedy by adding a \"?\" after the quantifier or changing a greedy quantifier to its non-greedy counterpart. However, in some cases, it may not be possible to make a pattern non-greedy without changing its meaning or introducing additional constraints. In such cases, you may need to modify the input string or use a more sophisticated pattern to achieve the desired result."
   ]
  },
  {
   "cell_type": "markdown",
   "id": "446a85c0",
   "metadata": {},
   "source": [
    "# Q3. In a simple match of a string, which looks only for one match and does not do any replacement, is the use of a nontagged group likely to make any practical difference?"
   ]
  },
  {
   "cell_type": "markdown",
   "id": "54131c5b",
   "metadata": {},
   "source": [
    "n a simple match of a string that looks only for one match and does not do any replacement, the use of a nontagged group is unlikely to make any practical difference. Non-capturing groups, which are denoted by \"(?:pattern)\" syntax, are useful when you want to group a subexpression but do not need to capture the matched text. Capturing groups, on the other hand, are denoted by \"()\" syntax and capture the matched text so that it can be referred to later in the pattern or in the replacement string.\n",
    "\n",
    "If you are not interested in capturing the matched text for later use, using a nontagged group may slightly improve performance by avoiding unnecessary capturing and memory allocation. However, the difference is likely to be negligible in most cases, especially for simple patterns with few groups."
   ]
  },
  {
   "cell_type": "markdown",
   "id": "c6338c2b",
   "metadata": {},
   "source": [
    "# Q4. Describe a scenario in which using a nontagged category would have a significant impact on the program's outcomes."
   ]
  },
  {
   "cell_type": "markdown",
   "id": "c04427a9",
   "metadata": {},
   "source": [
    "One scenario in which using a nontagged category would have a significant impact on the program's outcomes is when you have a complex regular expression with multiple capturing groups, and you want to avoid the overhead of capturing and storing the matched text for each group.\n",
    "\n",
    "For example, consider a regular expression that matches a phone number with optional area code, formatted as \"(###)###-####\" or \"###-###-####\". If you need to extract only the phone number without the area code, you can use a nontagged group to exclude the area code from the captured text:"
   ]
  },
  {
   "cell_type": "code",
   "execution_count": null,
   "id": "7564fbb9",
   "metadata": {},
   "outputs": [],
   "source": [
    "import re\n",
    "\n",
    "text = \"John's phone number is (123)456-7890.\"\n",
    "pattern = r\"\\(?(\\d{3})\\)?-?\\d{3}-?\\d{4}\"\n",
    "\n",
    "# With capturing group\n",
    "match = re.search(pattern, text)\n",
    "phone_number_with_area_code = match.group(0)  # '(123)456-7890'\n",
    "area_code = match.group(1)  # '123'\n",
    "\n",
    "# With nontagged group\n",
    "pattern = r\"\\(?:\\d{3}\\)-?\\d{3}-?\\d{4}\"\n",
    "match = re.search(pattern, text)\n",
    "phone_number = match.group(0)  # '456-7890'\n"
   ]
  },
  {
   "cell_type": "markdown",
   "id": "1a0af02f",
   "metadata": {},
   "source": [
    "In this example, using a nontagged group instead of a capturing group eliminates the need to store and retrieve the area code separately, which could be a significant performance gain if the regular expression is applied to a large amount of text."
   ]
  },
  {
   "cell_type": "markdown",
   "id": "4c470b74",
   "metadata": {},
   "source": [
    "# Q5. Unlike a normal regex pattern, a look-ahead condition does not consume the characters it examines. Describe a situation in which this could make a difference in the results of your programme."
   ]
  },
  {
   "cell_type": "markdown",
   "id": "fa3a4bdf",
   "metadata": {},
   "source": [
    "A look-ahead condition in regular expressions is a zero-width assertion that tests whether a match can be found ahead of the current position in the string without actually consuming any characters. This can be useful in situations where we need to match a pattern only if it is followed by another specific pattern, without including the latter pattern in the final match result.\n",
    "\n",
    "For example, let's say we have a text document that contains several email addresses, and we want to extract only those email addresses that belong to a specific domain (e.g., \"@example.com\"). We can use a positive look-ahead assertion to match the pattern of an email address followed by the domain name, without including the domain name in the final match result.\n",
    "\n",
    "Without using a look-ahead assertion, we would have to include the domain name in the match pattern and extract it as part of the final match result. This could be a problem if we want to extract only the email addresses themselves without any additional information.\n",
    "\n",
    "In general, look-ahead conditions can be useful for complex pattern matching when we need to match a pattern that is followed by a specific context without including the context in the final match result.\n",
    "\n",
    "\n",
    "\n"
   ]
  },
  {
   "cell_type": "markdown",
   "id": "ee431087",
   "metadata": {},
   "source": [
    "# Q6. . In standard expressions, what is the difference between positive look-ahead and negative look-ahead?"
   ]
  },
  {
   "cell_type": "markdown",
   "id": "4efd1852",
   "metadata": {},
   "source": [
    "In regular expressions, both positive look-ahead and negative look-ahead are types of look-around assertions that allow you to check if a particular pattern matches the input string without including it in the final match result.\n",
    "\n",
    "Positive look-ahead is denoted by (?=pattern), and it asserts that the pattern that follows the assertion must be present in the input string. However, the pattern is not included in the final match result. For example, the regular expression foo(?=bar) would match \"foo\" only if it is followed by \"bar\".\n",
    "\n",
    "Negative look-ahead, denoted by (?!pattern), asserts that the pattern that follows the assertion must not be present in the input string. Similar to positive look-ahead, the pattern is not included in the final match result. For example, the regular expression foo(?!bar) would match \"foo\" only if it is not followed by \"bar\".\n",
    "\n",
    "In summary, positive look-ahead matches if the pattern is present, while negative look-ahead matches if the pattern is absent."
   ]
  },
  {
   "cell_type": "markdown",
   "id": "76c3e4e5",
   "metadata": {},
   "source": [
    "# Q7. What is the benefit of referring to groups by name rather than by number in a standard expression?"
   ]
  },
  {
   "cell_type": "markdown",
   "id": "8108e34f",
   "metadata": {},
   "source": [
    "Referring to groups by name instead of number in a standard expression can make the regular expression more readable and easier to understand. It can also make the code more maintainable, as it allows you to change the group numbering without having to update the regular expression code. Additionally, it can make it easier to reuse regular expressions in different parts of your code or in different projects, as the group names are more intuitive than the numerical indices."
   ]
  },
  {
   "cell_type": "markdown",
   "id": "d582856e",
   "metadata": {},
   "source": [
    "# Q8. Can you identify repeated items within a target string using named groups, as in \"The cow jumped over the moon\"?"
   ]
  },
  {
   "cell_type": "markdown",
   "id": "ba81b875",
   "metadata": {},
   "source": [
    "Yes, you can identify repeated items within a target string using named groups in regular expressions. Here is an example using the string \"The cow jumped over the moon\" to match and capture any repeated words:"
   ]
  },
  {
   "cell_type": "code",
   "execution_count": null,
   "id": "6907d6de",
   "metadata": {},
   "outputs": [],
   "source": [
    "import re\n",
    "\n",
    "pattern = r'\\b(?P<word>\\w+)\\b(?P=word)'\n",
    "string = \"The cow jumped over the moon\"\n",
    "\n",
    "matches = re.findall(pattern, string)\n",
    "\n",
    "print(matches) # output: ['the']\n"
   ]
  },
  {
   "cell_type": "markdown",
   "id": "fd279152",
   "metadata": {},
   "source": [
    "In this example, the regular expression pattern \\b(?P<word>\\w+)\\b(?P=word) is used to match and capture any repeated word in the string. The \\b at the beginning and end of the pattern match word boundaries to ensure that whole words are matched, and the (?P<word>\\w+) portion captures one or more word characters into a named group called \"word\". The (?P=word) portion then matches the same word that was captured in the \"word\" group, effectively looking for repeated words in the string.\n",
    "\n",
    "In the example above, the output is ['the'], indicating that the word \"the\" is repeated in the string."
   ]
  },
  {
   "cell_type": "markdown",
   "id": "1ec9ff66",
   "metadata": {},
   "source": [
    "# Q9. When parsing a string, what is at least one thing that the Scanner interface does for you that the re.findall feature does not?"
   ]
  },
  {
   "cell_type": "markdown",
   "id": "4508939d",
   "metadata": {},
   "source": [
    "The Scanner interface in Python provides a way to read and tokenize input in a flexible and customizable way. One thing that the Scanner interface can do that the re.findall() function cannot is to allow the user to define custom patterns and actions for each pattern. This can be useful in cases where the input is complex and cannot be easily parsed using a standard regular expression. Additionally, the Scanner interface can be used to read input from different sources, such as files or strings, and to customize the behavior of the scanner using various flags and settings."
   ]
  },
  {
   "cell_type": "markdown",
   "id": "68acade4",
   "metadata": {},
   "source": [
    "# Q10.Does a scanner object have to be named scanner?"
   ]
  },
  {
   "cell_type": "markdown",
   "id": "54b5cc3a",
   "metadata": {},
   "source": [
    "No, a scanner object can be named anything that is a valid variable name in Python. The name of the object is not significant, as long as it is used consistently throughout the program."
   ]
  },
  {
   "cell_type": "code",
   "execution_count": null,
   "id": "9cbbd283",
   "metadata": {},
   "outputs": [],
   "source": []
  }
 ],
 "metadata": {
  "kernelspec": {
   "display_name": "Python 3 (ipykernel)",
   "language": "python",
   "name": "python3"
  },
  "language_info": {
   "codemirror_mode": {
    "name": "ipython",
    "version": 3
   },
   "file_extension": ".py",
   "mimetype": "text/x-python",
   "name": "python",
   "nbconvert_exporter": "python",
   "pygments_lexer": "ipython3",
   "version": "3.9.13"
  }
 },
 "nbformat": 4,
 "nbformat_minor": 5
}
