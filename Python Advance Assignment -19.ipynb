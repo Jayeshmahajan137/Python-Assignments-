{
 "cells": [
  {
   "cell_type": "markdown",
   "id": "d7b5e1d8",
   "metadata": {},
   "source": [
    "# Python Advance Assignment -19"
   ]
  },
  {
   "cell_type": "markdown",
   "id": "95cc7d3c",
   "metadata": {},
   "source": [
    "Q1. Define the relationship between a class and its instances. Is it a one-to-one or a one-to-many partnership, for example?\n",
    "\n",
    " A class is a blueprint or a template for creating objects, while an instance is an object that is created from a class. It is a one-to-many relationship because a single class can create multiple instances.\n"
   ]
  },
  {
   "cell_type": "markdown",
   "id": "6bb090e1",
   "metadata": {},
   "source": [
    "Q2. What kind of data is held only in an instance?\n",
    "\n",
    "Instance variables hold data that is specific to each instance. They are unique to each instance and are not shared among other instances or the class itself.\n"
   ]
  },
  {
   "cell_type": "markdown",
   "id": "a36f2ec9",
   "metadata": {},
   "source": [
    "Q3. What kind of knowledge is stored in a class?\n",
    "\n",
    "A class stores knowledge in the form of class variables and methods. Class variables are shared among all instances of the class, while methods define the behavior of the class and its instances."
   ]
  },
  {
   "cell_type": "markdown",
   "id": "4aafd6f9",
   "metadata": {},
   "source": [
    "Q4. What exactly is a method, and how is it different from a regular function?\n",
    "\n",
    "A method is a function defined within a class that operates on its instance or class variables. It is different from a regular function in that it is bound to a class and can only be called through an instance of the class."
   ]
  },
  {
   "cell_type": "markdown",
   "id": "223fe091",
   "metadata": {},
   "source": [
    "Q5. Is inheritance supported in Python, and if so, what is the syntax?\n",
    "\n",
    "Yes, inheritance is supported in Python. The syntax for inheritance is to define a new class and put the name of the base class in parentheses after the class name."
   ]
  },
  {
   "cell_type": "markdown",
   "id": "bb004933",
   "metadata": {},
   "source": [
    "Q6. How much encapsulation (making instance or class variables private) does Python support?\n",
    "\n",
    "Python supports limited encapsulation by using a single underscore prefix to indicate that a variable or method should not be accessed from outside the class. However, this is more of a convention and can still be accessed if needed."
   ]
  },
  {
   "cell_type": "markdown",
   "id": "0bdfb495",
   "metadata": {},
   "source": [
    "Q7. How do you distinguish between a class variable and an instance variable?\n",
    "\n",
    "A class variable is shared among all instances of the class and is defined within the class itself. An instance variable is specific to each instance and is defined within the class's methods."
   ]
  },
  {
   "cell_type": "markdown",
   "id": "510ead0d",
   "metadata": {},
   "source": [
    "Q8. When, if ever, can self be included in a class's method definitions?\n",
    "\n",
    "The self parameter is included in every class method and refers to the instance that the method is operating on. It is necessary to include self in method definitions to access instance variables and call other methods on the instance."
   ]
  },
  {
   "cell_type": "markdown",
   "id": "456686c0",
   "metadata": {},
   "source": [
    "Q9. What is the difference between the _ _add_ _ and the _ _radd_ _ methods?\n",
    "\n",
    "The add method is called when the + operator is used to add two objects together, while the radd method is called when the left operand does not support the + operation and the right operand is an instance of the class."
   ]
  },
  {
   "cell_type": "markdown",
   "id": "9598a175",
   "metadata": {},
   "source": [
    "Q10. When is it necessary to use a reflection method? When do you not need it, even though you support the operation in question?\n",
    "\n",
    "Reflection methods are used to dynamically inspect and modify objects at runtime. They are necessary when the structure of the object is not known in advance, such as when dealing with user-defined data types. Reflection methods are not needed when the structure of the object is known in advance and can be accessed directly."
   ]
  },
  {
   "cell_type": "markdown",
   "id": "5b03344e",
   "metadata": {},
   "source": [
    "Q11. What is the _ _iadd_ _ method called?\n",
    "\n",
    "The iadd method is called when the += operator is used to add two objects together."
   ]
  },
  {
   "cell_type": "markdown",
   "id": "564a352a",
   "metadata": {},
   "source": [
    "Q12. Is the _ _init_ _ method inherited by subclasses? What do you do if you need to customize its behavior within a subclass?\n",
    "\n",
    "The init method is inherited by subclasses, but if you need to customize its behavior within a subclass, you can override it by defining a new init method within the subclass."
   ]
  },
  {
   "cell_type": "code",
   "execution_count": null,
   "id": "d64b7068",
   "metadata": {},
   "outputs": [],
   "source": []
  }
 ],
 "metadata": {
  "kernelspec": {
   "display_name": "Python 3 (ipykernel)",
   "language": "python",
   "name": "python3"
  },
  "language_info": {
   "codemirror_mode": {
    "name": "ipython",
    "version": 3
   },
   "file_extension": ".py",
   "mimetype": "text/x-python",
   "name": "python",
   "nbconvert_exporter": "python",
   "pygments_lexer": "ipython3",
   "version": "3.9.13"
  }
 },
 "nbformat": 4,
 "nbformat_minor": 5
}
