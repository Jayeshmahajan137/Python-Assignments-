{
 "cells": [
  {
   "cell_type": "markdown",
   "id": "db7c0a5d",
   "metadata": {},
   "source": [
    "# Python Advance Assignment -20"
   ]
  },
  {
   "cell_type": "markdown",
   "id": "45c04eef",
   "metadata": {},
   "source": [
    "Q1. Compare and contrast the float and Decimal classes' benefits and drawbacks.\n",
    "\n",
    "The float class represents floating-point numbers using binary, which can sometimes result in inaccuracies when dealing with decimal values. The Decimal class, on the other hand, represents decimal numbers using base-10 arithmetic, which is more accurate when dealing with decimal values. The downside of the Decimal class is that it can be slower and requires more memory than the float class.\n",
    "\n",
    "\n",
    "\n",
    "Q2. Decimal('1.200') and Decimal('1.2') are two objects to consider. In what sense are these the same object? Are these just two ways of representing the exact same value, or do they correspond to different internal states?\n",
    "\n",
    "Decimal('1.200') and Decimal('1.2') represent the same value, but they correspond to different internal states. The former has three decimal places, while the latter has only one.\n",
    "\n",
    "\n",
    "\n",
    "Q3. What happens if the equality of Decimal('1.200') and Decimal('1.2') is checked?\n",
    "\n",
    "The equality of Decimal('1.200') and Decimal('1.2') is True, because they represent the same value.\n",
    "\n",
    "\n",
    "\n",
    "Q4. Why is it preferable to start a Decimal object with a string rather than a floating-point value?\n",
    "\n",
    "Starting a Decimal object with a string ensures that the decimal value is accurately represented in base-10 arithmetic, whereas starting with a floating-point value can result in inaccuracies.\n",
    "\n",
    "\n",
    "Q5. In an arithmetic phrase, how simple is it to combine Decimal objects with integers?\n",
    "\n",
    "It is straightforward to combine Decimal objects with integers in arithmetic expressions\n",
    "\n",
    "\n",
    "Q6. Can Decimal objects and floating-point values be combined easily?\n",
    "\n",
    "Decimal objects and floating-point values can be combined, but the resulting value may not be as accurate as when using only Decimal objects.\n",
    "\n",
    "\n",
    "Q7. Using the Fraction class but not the Decimal class, give an example of a quantity that can be expressed with absolute precision.\n",
    "\n",
    "One example of a quantity that can be expressed with absolute precision using the Fraction class is 1/3.\n",
    "\n",
    "\n",
    "Q8. Describe a quantity that can be accurately expressed by the Decimal or Fraction classes but not by a floating-point value.\n",
    "\n",
    "A quantity such as 1/7 can be accurately expressed by the Decimal or Fraction classes but not by a floating-point value.\n",
    "\n",
    "\n",
    "Q9.Consider the following two fraction objects: Fraction(1, 2) and Fraction(1, 2). (5, 10). Is the internal state of these two objects the same? Why do you think that is?\n",
    "\n",
    "The internal state of Fraction(1, 2) and Fraction(1, 2). (5, 10) is the same, because they both represent the fraction 1/2.\n",
    "\n",
    "\n",
    "\n",
    "Q10. How do the Fraction class and the integer type (int) relate to each other? Containment or inheritance?\n",
    "\n",
    "The Fraction class and the integer type (int) are related through containment, as the numerator and denominator of a Fraction object can both be integers."
   ]
  },
  {
   "cell_type": "code",
   "execution_count": null,
   "id": "bc3ae8aa",
   "metadata": {},
   "outputs": [],
   "source": []
  }
 ],
 "metadata": {
  "kernelspec": {
   "display_name": "Python 3 (ipykernel)",
   "language": "python",
   "name": "python3"
  },
  "language_info": {
   "codemirror_mode": {
    "name": "ipython",
    "version": 3
   },
   "file_extension": ".py",
   "mimetype": "text/x-python",
   "name": "python",
   "nbconvert_exporter": "python",
   "pygments_lexer": "ipython3",
   "version": "3.9.13"
  }
 },
 "nbformat": 4,
 "nbformat_minor": 5
}
