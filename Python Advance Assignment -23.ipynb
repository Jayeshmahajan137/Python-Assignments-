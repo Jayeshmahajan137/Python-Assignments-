{
 "cells": [
  {
   "cell_type": "markdown",
   "id": "526941f1",
   "metadata": {},
   "source": [
    "# Python Advance Assignment -23"
   ]
  },
  {
   "cell_type": "markdown",
   "id": "11d91c0e",
   "metadata": {},
   "source": [
    "Q1. If you have any, what are your choices for increasing the comparison between different figures on the same graph?\n",
    "\n",
    "There are several ways to increase the comparison between different figures on the same graph, including:\n",
    "\n",
    "Using different colors or patterns for each figure\n",
    "Adjusting the transparency of the figures to make them more distinct\n",
    "Adding labels or annotations to each figure to make it easier to differentiate them\n",
    "Using different scales for the X and Y axes, such as logarithmic scales\n",
    "\n",
    "\n",
    "\n",
    "Q2. Can you explain the benefit of compound interest over a higher rate of interest that does not compound after reading this chapter?\n",
    "\n",
    "The benefit of compound interest is that it allows for exponential growth of the investment over time. With compound interest, the interest earned is added back to the principal, so that the interest for the following periods is calculated on the total balance (principal + interest). This results in higher returns over time compared to a higher rate of simple interest that does not compound.\n",
    "\n",
    "\n",
    "\n",
    "Q3. What is a histogram, exactly? Name a numpy method for creating such a graph.\n",
    "\n",
    "A histogram is a type of graph that displays the distribution of a dataset. It is a bar graph where the bars represent intervals (bins) of data values and the height of each bar represents the frequency or count of data points that fall within that bin. One numpy method for creating a histogram is numpy.histogram().\n",
    "\n",
    "\n",
    "\n",
    "Q4. If necessary, how do you change the aspect ratios between the X and Y axes?\n",
    "\n",
    "To change the aspect ratio between the X and Y axes, you can use the aspect parameter in matplotlib's imshow() function. For example, if you want to set the aspect ratio to 2:1, you can set aspect=0.5 in the imshow() function.\n",
    "\n",
    "\n",
    "\n",
    "Q5. Compare and contrast the three types of array multiplication between two numpy arrays: dot product, outer product, and regular multiplication of two numpy arrays.\n",
    "The three types of array multiplication between two numpy arrays are:\n",
    "\n",
    "\n",
    "Regular multiplication: this is element-wise multiplication, where the corresponding elements of the two arrays are multiplied together. The resulting array has the same shape as the input arrays.\n",
    "Dot product: this is a matrix multiplication operation, where the two arrays are treated as matrices and multiplied accordingly. The resulting array has a shape that depends on the dimensions of the input arrays.\n",
    "Outer product: this is a type of matrix multiplication where one array is treated as a row vector and the other as a column vector. The resulting array has a shape that is the product of the shapes of the input arrays.\n",
    "\n",
    "\n",
    "\n",
    "\n",
    "Q6. Before you buy a home, which numpy function will you use to measure your monthly mortgage payment?\n",
    "\n",
    "One numpy function that can be used to measure monthly mortgage payments is numpy.pmt(). This function calculates the payment required to pay off a loan with fixed payments and a fixed interest rate over a specified number of periods.\n",
    "\n",
    "\n",
    "\n",
    "Q7. Can string data be stored in numpy arrays? If so, list at least one restriction that applies to this data.\n",
    "\n",
    "Yes, string data can be stored in numpy arrays. However, there are some restrictions that apply to this data:\n",
    "\n",
    "All elements in the array must have the same length\n",
    "The length of the string must be specified when the array is created\n",
    "String arrays are generally less efficient than numerical arrays, as they require more memory and processing power to handle.\n"
   ]
  },
  {
   "cell_type": "code",
   "execution_count": null,
   "id": "e9a3528f",
   "metadata": {},
   "outputs": [],
   "source": []
  }
 ],
 "metadata": {
  "kernelspec": {
   "display_name": "Python 3 (ipykernel)",
   "language": "python",
   "name": "python3"
  },
  "language_info": {
   "codemirror_mode": {
    "name": "ipython",
    "version": 3
   },
   "file_extension": ".py",
   "mimetype": "text/x-python",
   "name": "python",
   "nbconvert_exporter": "python",
   "pygments_lexer": "ipython3",
   "version": "3.9.13"
  }
 },
 "nbformat": 4,
 "nbformat_minor": 5
}
