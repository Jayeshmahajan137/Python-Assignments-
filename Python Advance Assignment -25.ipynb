{
 "cells": [
  {
   "cell_type": "markdown",
   "id": "7d97e289",
   "metadata": {},
   "source": [
    "# Python Advance Assignment -25"
   ]
  },
  {
   "cell_type": "markdown",
   "id": "2e8ac998",
   "metadata": {},
   "source": [
    "Q1. What is the distinction between a numpy array and a pandas data frame? Is there a way to convert between the two if there is?\n",
    "\n",
    "\n",
    "The main difference between a NumPy array and a Pandas DataFrame is that a NumPy array is a homogeneous collection of elements of the same data type, while a Pandas DataFrame is a heterogeneous collection of columns with potentially different data types. In other words, all elements in a NumPy array must be of the same data type, such as integers or floats, while a Pandas DataFrame can contain columns with different data types, such as integers, floats, and strings. There are ways to convert between the two, such as using the to_numpy() method on a Pandas DataFrame to convert it to a NumPy array, or using the pd.DataFrame() constructor on a NumPy array to create a Pandas DataFrame.\n",
    "\n",
    "\n",
    "\n",
    "\n",
    "Q2. What can go wrong when an user enters in a stock-ticker symbol, and how do you handle it?\n",
    "\n",
    "When a user enters a stock-ticker symbol, several things can go wrong, such as:\n",
    "\n",
    "Entering an invalid or non-existent symbol\n",
    "Entering an ambiguous symbol that matches multiple stocks or companies\n",
    "Entering a symbol that is no longer traded or has changed its name or ticker\n",
    "To handle these issues, you can use error handling techniques like try-except blocks to catch and handle any errors that arise from user input. You can also use external libraries or APIs to validate or clean up user input before using it to retrieve stock data.\n",
    "\n",
    "\n",
    "\n",
    "\n",
    "\n",
    "Q3. Identify some of the plotting techniques that are used to produce a stock-market chart.\n",
    "\n",
    "Some of the plotting techniques used to produce a stock market chart include:\n",
    "\n",
    "Line plots to show the trend of a stock's price over time\n",
    "Candlestick charts to show the opening, closing, high, and low prices of a stock over a period\n",
    "Bar charts to show the volume of trades or transactions for a stock over a period\n",
    "Moving averages to smooth out the price data and highlight trends over a longer period\n",
    "\n",
    "\n",
    "\n",
    "\n",
    "\n",
    "Q4. Why is it essential to print a legend on a stock market chart?\n",
    "\n",
    "It is essential to print a legend on a stock market chart to provide context and clarity for the reader. The legend should explain the meaning of the different lines, colors, or symbols used in the chart and provide information about the time period or frequency of the data.\n",
    "\n",
    "\n",
    "\n",
    "\n",
    "\n",
    "Q5. What is the best way to limit the length of a pandas data frame to less than a year?\n",
    "\n",
    "The best way to limit the length of a Pandas DataFrame to less than a year is to filter the DataFrame using a date range. For example, you can use the loc or iloc method to select only the rows that fall within a specific date range, such as the last 365 days.\n",
    "\n",
    "\n",
    "\n",
    "\n",
    "\n",
    "Q6. What is the definition of a 180-day moving average?\n",
    "\n",
    "A 180-day moving average is a technical analysis indicator that calculates the average price of a stock over the past 180 trading days. It is used to smooth out short-term fluctuations in the stock price and highlight longer-term trends.\n",
    "\n",
    "\n",
    "\n",
    "\n",
    "\n",
    "Q7. Did the chapter's final example use \"indirect\" importing? If so, how exactly do you do it?\n",
    "\n",
    "The chapter's final example used \"indirect\" importing by using the importlib module to import a module dynamically at runtime based on a string variable. Specifically, the example used the import_module function from the importlib module to import a module with a name specified by a command-line argument. This is a way to perform importing programmatically and dynamically based on user input or other runtime conditions.\n",
    "\n",
    "\n"
   ]
  },
  {
   "cell_type": "code",
   "execution_count": null,
   "id": "7a3e7c19",
   "metadata": {},
   "outputs": [],
   "source": []
  }
 ],
 "metadata": {
  "kernelspec": {
   "display_name": "Python 3 (ipykernel)",
   "language": "python",
   "name": "python3"
  },
  "language_info": {
   "codemirror_mode": {
    "name": "ipython",
    "version": 3
   },
   "file_extension": ".py",
   "mimetype": "text/x-python",
   "name": "python",
   "nbconvert_exporter": "python",
   "pygments_lexer": "ipython3",
   "version": "3.9.13"
  }
 },
 "nbformat": 4,
 "nbformat_minor": 5
}
