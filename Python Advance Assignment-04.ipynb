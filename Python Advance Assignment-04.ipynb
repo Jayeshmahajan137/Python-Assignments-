{
 "cells": [
  {
   "cell_type": "markdown",
   "id": "24df9475",
   "metadata": {},
   "source": [
    "# Python Advance Assignment -04"
   ]
  },
  {
   "cell_type": "markdown",
   "id": "b2d5ba5d",
   "metadata": {},
   "source": [
    "# Q1.Which two operator overloading methods can you use in your classes to support iteration?"
   ]
  },
  {
   "cell_type": "markdown",
   "id": "b589a805",
   "metadata": {},
   "source": [
    "To support iteration in a custom class, you can implement the following two special methods:\n",
    "\n",
    "__iter__(self) method: This method returns an iterator object that can be used to traverse the elements of the sequence. This method is called when the iter() function is called on an instance of the class.\n",
    "\n",
    "__next__(self) method: This method returns the next element of the sequence each time it is called. It raises the StopIteration exception when there are no more elements in the sequence to iterate over. This method is called when the next() function is called on the iterator object returned by the __iter__() method.\n",
    "\n",
    "Here's an example of a custom class that supports iteration:"
   ]
  },
  {
   "cell_type": "code",
   "execution_count": null,
   "id": "72757b36",
   "metadata": {},
   "outputs": [],
   "source": [
    "class MyList:\n",
    "    def __init__(self, items):\n",
    "        self.items = items\n",
    "        \n",
    "    def __iter__(self):\n",
    "        self.current = 0\n",
    "        return self\n",
    "        \n",
    "    def __next__(self):\n",
    "        if self.current < len(self.items):\n",
    "            item = self.items[self.current]\n",
    "            self.current += 1\n",
    "            return item\n",
    "        else:\n",
    "            raise StopIteration\n"
   ]
  },
  {
   "cell_type": "markdown",
   "id": "5ab45b0d",
   "metadata": {},
   "source": [
    "In this example, the MyList class defines an __iter__() method that returns the instance of the class itself as an iterator object. The __next__() method is defined to return the next item in the list each time it is called, until there are no more items to return."
   ]
  },
  {
   "cell_type": "markdown",
   "id": "3e2c1414",
   "metadata": {},
   "source": [
    "# Q2. In what contexts do the two operator overloading methods manage printing?"
   ]
  },
  {
   "cell_type": "markdown",
   "id": "21f6ee27",
   "metadata": {},
   "source": [
    "In Python, there are two special methods that you can use to define how instances of a class are represented as strings:\n",
    "\n",
    "__str__(self) method: This method is called by the str() built-in function and by the print() function when you want to print an object. It should return a string that represents the object in a human-readable format.\n",
    "\n",
    "__repr__(self) method: This method is called by the repr() built-in function and by the interactive interpreter when you enter an object name without calling the print() function. It should return a string that represents the object in a developer-friendly format.\n",
    "\n",
    "Here's an example of a custom class that defines both __str__() and __repr__() methods:"
   ]
  },
  {
   "cell_type": "code",
   "execution_count": null,
   "id": "c4d2721c",
   "metadata": {},
   "outputs": [],
   "source": [
    "class Point:\n",
    "    def __init__(self, x, y):\n",
    "        self.x = x\n",
    "        self.y = y\n",
    "        \n",
    "    def __str__(self):\n",
    "        return \"({0}, {1})\".format(self.x, self.y)\n",
    "    \n",
    "    def __repr__(self):\n",
    "        return \"Point({0}, {1})\".format(self.x, self.y)\n"
   ]
  },
  {
   "cell_type": "markdown",
   "id": "9eb56d20",
   "metadata": {},
   "source": [
    "In this example, the Point class defines a __str__() method that returns a string representation of the object suitable for printing, and a __repr__() method that returns a string representation of the object suitable for the interactive interpreter.\n",
    "\n",
    "When you print an instance of the Point class, the __str__() method is called:"
   ]
  },
  {
   "cell_type": "code",
   "execution_count": null,
   "id": "67f2e41f",
   "metadata": {},
   "outputs": [],
   "source": [
    ">>> p = Point(2, 3)\n",
    ">>> print(p)\n",
    "(2, 3)\n"
   ]
  },
  {
   "cell_type": "markdown",
   "id": "2044cbbc",
   "metadata": {},
   "source": [
    "When you enter an instance of the Point class in the interactive interpreter, the __repr__() method is called:"
   ]
  },
  {
   "cell_type": "code",
   "execution_count": null,
   "id": "5389cffe",
   "metadata": {},
   "outputs": [],
   "source": [
    ">>> p\n",
    "Point(2, 3)\n"
   ]
  },
  {
   "cell_type": "markdown",
   "id": "007334ca",
   "metadata": {},
   "source": [
    "# Q3. In a class, how do you intercept slice operations?"
   ]
  },
  {
   "cell_type": "markdown",
   "id": "148b178a",
   "metadata": {},
   "source": [
    "To intercept slice operations on a custom class in Python, you can define the __getitem__() method with slice notation.\n",
    "\n",
    "Here's an example of a custom class that supports slicing:\n",
    "\n"
   ]
  },
  {
   "cell_type": "code",
   "execution_count": null,
   "id": "2bf601d1",
   "metadata": {},
   "outputs": [],
   "source": [
    "class MyList:\n",
    "    def __init__(self, items):\n",
    "        self.items = items\n",
    "        \n",
    "    def __getitem__(self, index):\n",
    "        if isinstance(index, slice):\n",
    "            start, stop, step = index.indices(len(self.items))\n",
    "            return [self.items[i] for i in range(start, stop, step)]\n",
    "        else:\n",
    "            return self.items[index]\n"
   ]
  },
  {
   "cell_type": "markdown",
   "id": "453d1d7d",
   "metadata": {},
   "source": [
    "In this example, the MyList class defines the __getitem__() method to handle slice notation. If the index parameter is a slice object, the method extracts the start, stop, and step values from the slice and returns a new list that contains the sliced elements. If the index parameter is an integer, the method returns the corresponding element of the list.\n",
    "\n",
    "Here's an example of how you can use the MyList class with slice notation:"
   ]
  },
  {
   "cell_type": "code",
   "execution_count": null,
   "id": "1765ceda",
   "metadata": {},
   "outputs": [],
   "source": [
    ">>> l = MyList([1, 2, 3, 4, 5])\n",
    ">>> l[1:4]\n",
    "[2, 3, 4]\n",
    ">>> l[::2]\n",
    "[1, 3, 5]\n"
   ]
  },
  {
   "cell_type": "markdown",
   "id": "84fc1a26",
   "metadata": {},
   "source": [
    "In the first example, the MyList instance is sliced from index 1 to index 4 (exclusive), resulting in a new list that contains the elements [2, 3, 4]. In the second example, the MyList instance is sliced with a step size of 2, resulting in a new list that contains the elements [1, 3, 5]."
   ]
  },
  {
   "cell_type": "markdown",
   "id": "adfd58d0",
   "metadata": {},
   "source": [
    "# Q4. In a class, how do you capture in-place addition?"
   ]
  },
  {
   "cell_type": "markdown",
   "id": "3fe03771",
   "metadata": {},
   "source": [
    "To capture in-place addition (+=) operations on a custom class in Python, you can define the __iadd__() method. This method should modify the instance in place and return self.\n",
    "\n",
    "Here's an example of a custom class that supports in-place addition:"
   ]
  },
  {
   "cell_type": "code",
   "execution_count": null,
   "id": "91591014",
   "metadata": {},
   "outputs": [],
   "source": [
    "class MyList:\n",
    "    def __init__(self, items):\n",
    "        self.items = items\n",
    "        \n",
    "    def __iadd__(self, other):\n",
    "        if isinstance(other, list):\n",
    "            self.items.extend(other)\n",
    "            return self\n",
    "        else:\n",
    "            raise TypeError(\"unsupported operand type(s) for +=: '{0}' and '{1}'\".format(type(self).__name__, type(other).__name__))\n"
   ]
  },
  {
   "cell_type": "markdown",
   "id": "c3c70db4",
   "metadata": {},
   "source": [
    "In this example, the MyList class defines the __iadd__() method to handle in-place addition. If the other parameter is a list, the method appends the elements of the list to the self.items list and returns self. If the other parameter is not a list, the method raises a TypeError with an appropriate error message.\n",
    "\n",
    "Here's an example of how you can use the MyList class with in-place addition:"
   ]
  },
  {
   "cell_type": "code",
   "execution_count": null,
   "id": "4096cd9c",
   "metadata": {},
   "outputs": [],
   "source": [
    ">>> l = MyList([1, 2, 3])\n",
    ">>> l += [4, 5]\n",
    ">>> l.items\n",
    "[1, 2, 3, 4, 5]\n"
   ]
  },
  {
   "cell_type": "markdown",
   "id": "0247a75e",
   "metadata": {},
   "source": [
    "In this example, the MyList instance is updated in place with the elements [4, 5] using the += operator. After the operation, the self.items list contains [1, 2, 3, 4, 5]."
   ]
  },
  {
   "cell_type": "markdown",
   "id": "510578c1",
   "metadata": {},
   "source": [
    "# Q5. When is it appropriate to use operator overloading?"
   ]
  },
  {
   "cell_type": "markdown",
   "id": "f7ff4739",
   "metadata": {},
   "source": [
    "Operator overloading is appropriate when you want to define custom behavior for built-in operators in Python for instances of a class that you have defined. By defining the appropriate special methods for the operators, you can control how your objects behave with respect to the operators.\n",
    "\n",
    "Here are some situations where operator overloading may be appropriate:\n",
    "\n",
    "Your custom class represents a mathematical object, such as a vector or a matrix, and you want to define how the mathematical operators such as addition, subtraction, and multiplication work on instances of your class.\n",
    "\n",
    "Your custom class represents a container, such as a list or a set, and you want to define how the container operations such as indexing, slicing, and membership testing work on instances of your class.\n",
    "\n",
    "Your custom class represents a file, a database connection, or another resource that needs to be closed or cleaned up when it is no longer needed, and you want to define how the with statement works on instances of your class.\n",
    "\n",
    "Your custom class represents a data structure, such as a tree or a graph, and you want to define how iteration, comparison, and hashing work on instances of your class.\n",
    "\n",
    "Your custom class represents a context in which some operation is performed, such as a transaction or a lock, and you want to define how the with statement works on instances of your class.\n",
    "\n",
    "In general, operator overloading is most appropriate when it simplifies the usage of your custom class and makes your code more readable and expressive. However, it should be used judiciously and sparingly, and only when it makes sense in the context of the class and the problem domain.\n",
    "\n",
    "\n",
    "\n"
   ]
  },
  {
   "cell_type": "code",
   "execution_count": null,
   "id": "aa3cfb47",
   "metadata": {},
   "outputs": [],
   "source": []
  }
 ],
 "metadata": {
  "kernelspec": {
   "display_name": "Python 3 (ipykernel)",
   "language": "python",
   "name": "python3"
  },
  "language_info": {
   "codemirror_mode": {
    "name": "ipython",
    "version": 3
   },
   "file_extension": ".py",
   "mimetype": "text/x-python",
   "name": "python",
   "nbconvert_exporter": "python",
   "pygments_lexer": "ipython3",
   "version": "3.9.13"
  }
 },
 "nbformat": 4,
 "nbformat_minor": 5
}
