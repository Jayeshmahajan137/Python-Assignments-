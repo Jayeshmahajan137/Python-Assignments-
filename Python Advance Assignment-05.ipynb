{
 "cells": [
  {
   "cell_type": "markdown",
   "id": "c69a50a1",
   "metadata": {},
   "source": [
    "# Python Advance Assignment-05"
   ]
  },
  {
   "cell_type": "markdown",
   "id": "5f30c8a0",
   "metadata": {},
   "source": [
    "# Q1. What is the meaning of multiple inheritance?"
   ]
  },
  {
   "cell_type": "markdown",
   "id": "147397c4",
   "metadata": {},
   "source": [
    "Multiple inheritance is a feature of object-oriented programming languages, including Python, that allows a class to inherit from multiple base classes. This means that a subclass can have multiple parent classes, and it can inherit attributes and methods from all of them.\n",
    "\n",
    "In Python, when a class inherits from multiple base classes, the order in which the base classes are listed matters. This is because when a method or attribute is called on an instance of the subclass, Python searches for the method or attribute in each of the parent classes in the order they were listed in the subclass definition, until it finds a matching method or attribute.\n",
    "\n",
    "Multiple inheritance can be a powerful tool for creating complex class hierarchies, but it can also lead to complications and potential conflicts if the base classes have conflicting names or attributes. To avoid these issues, it is important to carefully design class hierarchies and use multiple inheritance only when it is appropriate and necessary for the problem at hand."
   ]
  },
  {
   "cell_type": "markdown",
   "id": "2c5ea693",
   "metadata": {},
   "source": [
    "# Q2. What is the concept of delegation?"
   ]
  },
  {
   "cell_type": "markdown",
   "id": "27353c89",
   "metadata": {},
   "source": [
    "Delegation is a design pattern in object-oriented programming that allows an object to pass responsibility for a certain behavior or task to another object. In delegation, an object delegates a particular behavior or task to another object that is specifically designed to handle it, rather than implementing the behavior or task itself.\n",
    "\n",
    "In Python, delegation can be implemented using composition, which is a technique where an object contains one or more other objects as attributes, rather than inheriting from a parent class. The containing object can then delegate certain behaviors or tasks to the contained objects by calling their methods or accessing their attributes.\n",
    "\n",
    "Here's an example of delegation in Python:"
   ]
  },
  {
   "cell_type": "code",
   "execution_count": null,
   "id": "fb3b44ba",
   "metadata": {},
   "outputs": [],
   "source": [
    "class Printer:\n",
    "    def __init__(self):\n",
    "        self.text = \"\"\n",
    "\n",
    "    def write(self, text):\n",
    "        self.text += text\n",
    "\n",
    "    def print(self):\n",
    "        print(self.text)\n",
    "\n",
    "class LoggingPrinter:\n",
    "    def __init__(self):\n",
    "        self.printer = Printer()\n",
    "        self.log = []\n",
    "\n",
    "    def write(self, text):\n",
    "        self.printer.write(text)\n",
    "        self.log.append(\"Wrote: \" + text)\n",
    "\n",
    "    def print(self):\n",
    "        self.printer.print()\n",
    "        self.log.append(\"Printed: \" + self.printer.text)\n"
   ]
  },
  {
   "cell_type": "markdown",
   "id": "748b35bb",
   "metadata": {},
   "source": [
    "In this example, we have two classes: Printer and LoggingPrinter. Printer is a simple class that stores a string of text and provides methods for adding to the text and printing it. LoggingPrinter is a more complex class that contains an instance of Printer as an attribute, as well as a list to store logging information.\n",
    "\n",
    "LoggingPrinter delegates the write and print methods to the Printer instance, but also adds some additional behavior to log the actions. When the write method is called on a LoggingPrinter instance, it calls the write method on the contained Printer instance and adds a log entry. Similarly, when the print method is called on a LoggingPrinter instance, it calls the print method on the contained Printer instance and adds a log entry.\n",
    "\n",
    "Delegation can be a useful technique for modularizing code and separating concerns, especially when inheritance is not appropriate or practical. By delegating certain behaviors or tasks to other objects, you can create more flexible and reusable code that is easier to maintain and extend."
   ]
  },
  {
   "cell_type": "markdown",
   "id": "1818d00b",
   "metadata": {},
   "source": [
    "# Q3.What is the concept of composition?"
   ]
  },
  {
   "cell_type": "markdown",
   "id": "2d9c5747",
   "metadata": {},
   "source": [
    "Composition is a fundamental concept in object-oriented programming that allows objects to be composed of other objects. In composition, an object contains one or more other objects as its instance variables, and delegates responsibility for certain behaviors or tasks to those contained objects.\n",
    "\n",
    "Composition is often used in conjunction with delegation, where an object delegates a behavior or task to a contained object. By combining composition and delegation, you can create complex behaviors and tasks by breaking them down into smaller, more manageable parts.\n",
    "\n",
    "In Python, composition can be implemented using instance variables to hold references to other objects. Here's an example:"
   ]
  },
  {
   "cell_type": "code",
   "execution_count": null,
   "id": "c2b63347",
   "metadata": {},
   "outputs": [],
   "source": [
    "class Engine:\n",
    "    def start(self):\n",
    "        print(\"Engine started.\")\n",
    "\n",
    "class Car:\n",
    "    def __init__(self):\n",
    "        self.engine = Engine()\n",
    "\n",
    "    def start(self):\n",
    "        self.engine.start()\n",
    "        print(\"Car started.\")\n"
   ]
  },
  {
   "cell_type": "markdown",
   "id": "e9a8ced5",
   "metadata": {},
   "source": [
    "In this example, we have two classes: Engine and Car. Engine represents an engine that can be started, and Car represents a car that has an engine and can be started.\n",
    "\n",
    "The Car class contains an instance variable engine that holds a reference to an instance of the Engine class. When the start method is called on a Car instance, it delegates the behavior of starting the engine to the contained Engine instance by calling its start method. Then it prints a message indicating that the car has been started.\n",
    "\n",
    "Composition can be a powerful technique for creating complex behaviors and structures by breaking them down into smaller, more manageable parts. It promotes code reuse and can lead to more flexible and maintainable code."
   ]
  },
  {
   "cell_type": "markdown",
   "id": "f35dd23b",
   "metadata": {},
   "source": [
    "# Q4.What are bound methods and how do we use them?"
   ]
  },
  {
   "cell_type": "markdown",
   "id": "9484f416",
   "metadata": {},
   "source": [
    "In Python, a bound method is a method that is associated with an instance of a class. When a method is called on an instance of a class, Python automatically binds the method to that instance and passes it as the first argument (which is conventionally named self).\n",
    "\n",
    "Here's an example of a bound method:"
   ]
  },
  {
   "cell_type": "code",
   "execution_count": null,
   "id": "5fc98b74",
   "metadata": {},
   "outputs": [],
   "source": [
    "class MyClass:\n",
    "    def __init__(self, value):\n",
    "        self.value = value\n",
    "\n",
    "    def print_value(self):\n",
    "        print(self.value)\n",
    "\n",
    "obj = MyClass(42)\n",
    "obj.print_value()  # This is equivalent to MyClass.print_value(obj)\n"
   ]
  },
  {
   "cell_type": "markdown",
   "id": "03e805dd",
   "metadata": {},
   "source": [
    "In this example, MyClass is a simple class that has an instance variable value and a method print_value that prints the value of value. When an instance of MyClass is created and the print_value method is called on it, Python automatically binds the method to the instance and passes it as the first argument. This means that self inside the method refers to the instance that the method was called on.\n",
    "\n",
    "Bound methods are an important concept in object-oriented programming because they allow methods to access and modify the state of an object. By binding a method to an instance, you can make it operate on the instance's data and behavior. Bound methods also allow you to reuse the same method across multiple instances of a class, which can lead to more efficient and modular code.\n",
    "\n",
    "To use a bound method, simply call it on an instance of a class, like you would with any other method. When the method is called, Python will automatically bind it to the instance and pass it as the first argument."
   ]
  },
  {
   "cell_type": "markdown",
   "id": "c899c742",
   "metadata": {},
   "source": [
    "# Q5. What is the purpose of pseudoprivate attributes?"
   ]
  },
  {
   "cell_type": "markdown",
   "id": "f83990ec",
   "metadata": {},
   "source": [
    "In Python, pseudoprivate attributes are attributes that are named with two leading underscores (e.g. __attribute). The purpose of pseudoprivate attributes is to provide a way for classes to define attributes that are not easily accessible or visible from outside the class, without using actual private attributes.\n",
    "\n",
    "Pseudoprivate attributes are not truly private in the sense that they can still be accessed from outside the class, but their names are mangled to make them more difficult to access accidentally. When a pseudoprivate attribute is defined in a class, Python automatically renames the attribute by prefixing its name with _classname (where classname is the name of the class, with any leading underscores removed).\n",
    "\n",
    "Here's an example of using pseudoprivate attributes:"
   ]
  },
  {
   "cell_type": "code",
   "execution_count": null,
   "id": "fc8f4517",
   "metadata": {},
   "outputs": [],
   "source": [
    "class MyClass:\n",
    "    def __init__(self):\n",
    "        self.__attribute = 42\n",
    "\n",
    "obj = MyClass()\n",
    "print(obj.__attribute)  # This will raise an AttributeError\n",
    "print(obj._MyClass__attribute)  # This will print 42\n"
   ]
  },
  {
   "cell_type": "markdown",
   "id": "e4931811",
   "metadata": {},
   "source": [
    "In this example, MyClass defines a pseudoprivate attribute __attribute with a value of 42. When an instance of MyClass is created and the __attribute attribute is accessed from outside the class, Python raises an AttributeError. However, if the attribute is accessed using its mangled name _MyClass__attribute, the value of 42 is printed.\n",
    "\n",
    "Pseudoprivate attributes can be useful in cases where you want to hide some implementation details of a class, but still want to allow for some limited access to the attributes from outside the class. However, it's generally recommended to use actual private attributes (named with a single leading underscore) instead of pseudoprivate attributes, as they provide stronger encapsulation and are less prone to accidental access."
   ]
  },
  {
   "cell_type": "code",
   "execution_count": null,
   "id": "674b38a7",
   "metadata": {},
   "outputs": [],
   "source": []
  }
 ],
 "metadata": {
  "kernelspec": {
   "display_name": "Python 3 (ipykernel)",
   "language": "python",
   "name": "python3"
  },
  "language_info": {
   "codemirror_mode": {
    "name": "ipython",
    "version": 3
   },
   "file_extension": ".py",
   "mimetype": "text/x-python",
   "name": "python",
   "nbconvert_exporter": "python",
   "pygments_lexer": "ipython3",
   "version": "3.9.13"
  }
 },
 "nbformat": 4,
 "nbformat_minor": 5
}
