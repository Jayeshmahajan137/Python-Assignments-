{
 "cells": [
  {
   "cell_type": "markdown",
   "id": "c11e5f7d",
   "metadata": {},
   "source": [
    "# Python Basic Assignment -02"
   ]
  },
  {
   "cell_type": "markdown",
   "id": "16ef381a",
   "metadata": {},
   "source": [
    "# Q1. What are the two values of the Boolean data type? How do you write them?\n",
    "Ans:-\n",
    "\n",
    "The two values of boolean data types are True or False"
   ]
  },
  {
   "cell_type": "markdown",
   "id": "9951065f",
   "metadata": {},
   "source": [
    "# Q2.What are the three different types of Boolean operators?\n",
    "\n",
    "Ans:-\n",
    "    \n",
    "The three differnt types of boolean operators are AND , OR and NOT"
   ]
  },
  {
   "cell_type": "markdown",
   "id": "68a348b9",
   "metadata": {},
   "source": [
    "# Q3. Make a list of each Boolean operators truth tables (i.e. every possible combination of Boolean values for the operator and what it evaluate)\n",
    "\n",
    "Ans:-\n",
    "\n",
    "\n",
    "Truth Table for AND\n",
    "A B output\n",
    "0 0 0\n",
    "0 1 0\n",
    "1 0 0\n",
    "1 1 1\n",
    "\n",
    "\n",
    "Truth Table for OR\n",
    "A B output\n",
    "0 0 0\n",
    "0 1 1\n",
    "1 0 1\n",
    "1 1 1\n",
    "\n",
    "\n",
    "Truth Table for NOT\n",
    "A output\n",
    "0 1\n",
    "1 0"
   ]
  },
  {
   "cell_type": "markdown",
   "id": "cc96bef5",
   "metadata": {},
   "source": [
    "# Q4. What are th eoutputs of the following expressions\n",
    "\n",
    "\n",
    "\n",
    "print((5>4) and (3==5))\n",
    "\n",
    "\n",
    "print(not(5>4))\n",
    "\n",
    "\n",
    "print((5>4) or (3==5))\n",
    "\n",
    "\n",
    "print(not(5>4) or (3==5))\n",
    "\n",
    "\n",
    "print((True and True) and (True==False))\n",
    "\n",
    "\n",
    "print((not(False))or(not(True)))\n",
    "\n",
    "Ans:-\n",
    "\n",
    "\n",
    "\n",
    "False\n",
    "\n",
    "\n",
    "False\n",
    "\n",
    "\n",
    "True\n",
    "\n",
    "\n",
    "False\n",
    "\n",
    "\n",
    "False\n",
    "\n",
    "\n",
    "True\n",
    "\n"
   ]
  },
  {
   "cell_type": "markdown",
   "id": "31564abf",
   "metadata": {},
   "source": [
    "# Q5. What are the six comparison operators?\n",
    "Ans:-\n",
    "    A comparison operator compares two values and returns a boolean value, either True or False . \n",
    "    \n",
    "    Python has six comparison operators: \n",
    "    \n",
    "    less than ( < ), \n",
    "    \n",
    "    less than or equal to ( <= ), \n",
    "    \n",
    "    greater than ( > ), \n",
    "    \n",
    "    greater than or equal to ( >= ), \n",
    "    \n",
    "    equal to ( == ), and \n",
    "    \n",
    "    not equal to ( != )."
   ]
  },
  {
   "cell_type": "markdown",
   "id": "6be755ce",
   "metadata": {},
   "source": [
    "# Q6.How do you tell the difference between the equal to and assignment operators?Describe a condition and when you would use one.\n",
    "Ans:-\n",
    "\n",
    "\n",
    "== is the equal to operator that compares two values and evaluates to a Boolean, while = is the assignment operator that stores a value in a variable."
   ]
  },
  {
   "cell_type": "markdown",
   "id": "6fda1aa2",
   "metadata": {},
   "source": [
    "# Q7. Identify the three blocks in this code:\n"
   ]
  },
  {
   "cell_type": "code",
   "execution_count": 2,
   "id": "6b1f71c5",
   "metadata": {},
   "outputs": [
    {
     "name": "stdout",
     "output_type": "stream",
     "text": [
      "ham\n",
      "spam\n",
      "spam\n"
     ]
    }
   ],
   "source": [
    "\n",
    "spam = 0\n",
    "if spam == 10:\n",
    "    print('eggs') #Block 1\n",
    "if spam > 5:\n",
    "    print('bacon') #Block 2\n",
    "else:\n",
    "    print('ham') #Block 3\n",
    "    print('spam')\n",
    "    print('spam')"
   ]
  },
  {
   "cell_type": "markdown",
   "id": "d06f0027",
   "metadata": {},
   "source": [
    "# Q8.Write code that prints Hello if 1 is stored in spam, prints Howdy if 2 is stored in spam, and prints Greetings! if anything else is stored in spam."
   ]
  },
  {
   "cell_type": "code",
   "execution_count": 7,
   "id": "753c21ac",
   "metadata": {},
   "outputs": [
    {
     "name": "stdout",
     "output_type": "stream",
     "text": [
      "Enter a number1\n",
      "Hello\n"
     ]
    }
   ],
   "source": [
    "spam=int(input(\"Enter a number\"))\n",
    "if spam ==1:\n",
    "    print(\"Hello\")\n",
    "elif spam==2:\n",
    "    print(\"Howdy\")\n",
    "else:\n",
    "    print(\" Greetings\")"
   ]
  },
  {
   "cell_type": "markdown",
   "id": "670940b0",
   "metadata": {},
   "source": [
    "# Q9.If your programme is stuck in an endless loop, what keys you’ll press?\n",
    "Ans:-\n",
    " If program is stuck in endless loop we will press ctrl+c."
   ]
  },
  {
   "cell_type": "markdown",
   "id": "4e714e18",
   "metadata": {},
   "source": [
    "# Q10. How can you tell the difference between break and continue?\n",
    "Ans:-\n",
    "The break statement will move the execution outside and just after a loop. The continue statement will move the execution to the start of the loop."
   ]
  },
  {
   "cell_type": "markdown",
   "id": "62eb4ba6",
   "metadata": {},
   "source": [
    "# Q11.In a for loop, what is the difference between range(10), range(0, 10), and range(0, 10, 1)?\n",
    "Ans:-\n"
   ]
  },
  {
   "cell_type": "code",
   "execution_count": 8,
   "id": "6d9f32ff",
   "metadata": {},
   "outputs": [
    {
     "data": {
      "text/plain": [
       "range(0, 10)"
      ]
     },
     "execution_count": 8,
     "metadata": {},
     "output_type": "execute_result"
    }
   ],
   "source": [
    "range(10)"
   ]
  },
  {
   "cell_type": "code",
   "execution_count": 9,
   "id": "bed60b8f",
   "metadata": {},
   "outputs": [
    {
     "data": {
      "text/plain": [
       "range(0, 10)"
      ]
     },
     "execution_count": 9,
     "metadata": {},
     "output_type": "execute_result"
    }
   ],
   "source": [
    "range(0,10)"
   ]
  },
  {
   "cell_type": "code",
   "execution_count": 10,
   "id": "f0776030",
   "metadata": {},
   "outputs": [
    {
     "data": {
      "text/plain": [
       "range(0, 10)"
      ]
     },
     "execution_count": 10,
     "metadata": {},
     "output_type": "execute_result"
    }
   ],
   "source": [
    "range(0,10,1)"
   ]
  },
  {
   "cell_type": "markdown",
   "id": "72948a08",
   "metadata": {},
   "source": [
    "# From the above output we can conclude that they all do the same thing. "
   ]
  },
  {
   "cell_type": "markdown",
   "id": "cc64a8c6",
   "metadata": {},
   "source": [
    "# Q12. Write a short program that prints the numbers 1 to 10 using a for loop. Then write an equivalent program that prints the numbers 1 to 10 using a while loop."
   ]
  },
  {
   "cell_type": "code",
   "execution_count": 12,
   "id": "631a3280",
   "metadata": {},
   "outputs": [
    {
     "name": "stdout",
     "output_type": "stream",
     "text": [
      "12345678910"
     ]
    }
   ],
   "source": [
    "for i in range (1,11):\n",
    "    print(i, end=\"\")"
   ]
  },
  {
   "cell_type": "code",
   "execution_count": 23,
   "id": "d45c86b8",
   "metadata": {},
   "outputs": [
    {
     "name": "stdout",
     "output_type": "stream",
     "text": [
      "1\n",
      "2\n",
      "3\n",
      "4\n",
      "5\n",
      "6\n",
      "7\n",
      "8\n",
      "9\n",
      "10\n"
     ]
    }
   ],
   "source": [
    "a=1\n",
    "while a<=10:\n",
    "    print(a)\n",
    "    a+=1\n",
    "   \n",
    "    "
   ]
  },
  {
   "cell_type": "markdown",
   "id": "96b5f883",
   "metadata": {},
   "source": [
    "# Q13. If you had a function named bacon() inside a module named spam, how would you call it after importing spam?\n",
    "Ans:-\n",
    "This function can be called with spam.bacon()."
   ]
  },
  {
   "cell_type": "code",
   "execution_count": null,
   "id": "038b139f",
   "metadata": {},
   "outputs": [],
   "source": []
  }
 ],
 "metadata": {
  "kernelspec": {
   "display_name": "Python 3 (ipykernel)",
   "language": "python",
   "name": "python3"
  },
  "language_info": {
   "codemirror_mode": {
    "name": "ipython",
    "version": 3
   },
   "file_extension": ".py",
   "mimetype": "text/x-python",
   "name": "python",
   "nbconvert_exporter": "python",
   "pygments_lexer": "ipython3",
   "version": "3.9.7"
  }
 },
 "nbformat": 4,
 "nbformat_minor": 5
}
