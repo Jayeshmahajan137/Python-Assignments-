{
 "cells": [
  {
   "cell_type": "markdown",
   "id": "87784aa3",
   "metadata": {},
   "source": [
    "# Python Basic Assignment -03"
   ]
  },
  {
   "cell_type": "markdown",
   "id": "90c6baeb",
   "metadata": {},
   "source": [
    "# Q1.Why are functions advantageous to have in your programs?\n",
    "Ans:-\n",
    "\n",
    "functions provide a number of benefits that make them extremely useful in programs\n",
    "\n",
    "1.Organization :-\n",
    "\n",
    "A function is almost like a mini-program that we can write separately from the main program\n",
    "This allows us to reduce a complicated program into smaller,which reduces the overall complexity of our program.\n",
    "\n",
    "\n",
    "2.Reusability:-\n",
    "\n",
    "\n",
    "Once a function is written, it can be called multiple times from within the program. This avoids duplicated code and minimizes the probability of copy/paste errors. Functions can also be shared with other programs, reducing the amount of code that has to be written from scratch (and retested) each time.\n",
    "\n",
    "3.Testing :-\n",
    "\n",
    "\n",
    "because functions are self-contained, once we’ve tested a function to ensure it works, we don’t need to test it again unless we change it. This reduces the amount of code we have to test at one time, making it much easier to find bugs (or avoid them in the first place).\n",
    "\n",
    "\n",
    "4.Extensibility:-\n",
    "\n",
    "\n",
    "When we need to extend our program to handle a case it didn’t handle before, functions allow us to make the change in one place and have that change take effect every time the function is called.\n",
    "\n",
    "\n",
    "5.Abstraction:-\n",
    "\n",
    "In order to use a function, you only need to know its name, inputs, outputs, and where it lives. You don’t need to know how it works, or what other code it’s dependent upon to use it. This lowers the amount of knowledge required to use other people’s code (including everything in the standard library).\n",
    "\n"
   ]
  },
  {
   "cell_type": "markdown",
   "id": "16c4f06c",
   "metadata": {},
   "source": [
    "# Q2. When does the code in a function run: when its specified or when its called?\n",
    "Ans:-\n",
    "\n",
    "A function is a set of code that performs a specific task and can be used whenever needed just by calling it. \n",
    "\n",
    "While using multiple function calls or recursion, the concept of a function call is very necessary to be known, for better understanding of the code. "
   ]
  },
  {
   "cell_type": "markdown",
   "id": "bd3f00d0",
   "metadata": {},
   "source": [
    "# Q3. What statement creates a function?\n",
    "Ans:-\n",
    "    \n",
    " A function is created with the def keyword. The statements in the block of the function must be indented. The def keyword is followed by the function name with round brackets and a colon"
   ]
  },
  {
   "cell_type": "markdown",
   "id": "0ace23a2",
   "metadata": {},
   "source": [
    "# Q4.What is the difference between a function and a function call?\n",
    "Ans:-\n",
    "\n",
    "\n",
    "A function is a block of code that does a particular operation and returns a result. It usually accepts inputs as parameters and returns a result. The parameters are not mandatory.\n",
    "\n",
    "E.g:\n",
    "\n",
    "\n",
    "Function add(a,b)\n",
    "\n",
    "\n",
    "return a+ b\n",
    "\n",
    "A function call is the code used to pass control to a function.\n",
    "\n",
    "E.g.:\n",
    "\n",
    "b = add(5,6)\n",
    "\n",
    "Now b will have the value 11.\n"
   ]
  },
  {
   "cell_type": "markdown",
   "id": "7e558dbb",
   "metadata": {},
   "source": [
    "# Q5. How many global scopes are there in a Python program? How many local scopes?\n",
    "Ans:-\n",
    "\n",
    "A global variable has global scope. A global variable is accessible from anywhere in the code. \n",
    "\n",
    "Local Scope — Local scope contains things defined inside code blocks. A local variable has local scope. A local variable is only accessible where it's declared.\n",
    "\n",
    "\n",
    "When you use an unqualified name inside a function, Python searches three scopes—the local (L), then the global (G), and then the built-in (B)—and stops at the first place the name is found."
   ]
  },
  {
   "cell_type": "markdown",
   "id": "19b8160f",
   "metadata": {},
   "source": [
    "# Q6. What happens to variables in a local scope when the function call returns?\n",
    "Ans:-\n",
    "\n",
    "\n",
    "local variable retains its value until the next time the function is called\n",
    "\n",
    "A local variable becomes undefined after the function call completes\n",
    "\n",
    "The local variable can be used outside the function any time after the function call completes.\n",
    "\n",
    "So answer is The local variable can be used outside the function any time after the function call completes."
   ]
  },
  {
   "cell_type": "markdown",
   "id": "ce4ac603",
   "metadata": {},
   "source": [
    "# Q7. What is the concept of a return value? Is it possible to have a return value in an expression?\n",
    "Ans:-\n",
    "\n",
    "A return is a value that a function returns to the calling script or function when it completes its task. A return value can be any one of the four variable types: handle, integer, object, or string. The type of value your function returns depends largely on the task it performs.\n",
    "\n",
    "\n",
    "ince return_42() returns a numeric value, you can use that value in a math expression or any other kind of expression in which the value has a logical or coherent meaning. This is how a caller code can take advantage of a function's return value."
   ]
  },
  {
   "cell_type": "markdown",
   "id": "5120be7a",
   "metadata": {},
   "source": [
    "# Q8. If a function does not have a return statement, what is the return value of a call to that function?\n",
    "Ans:-\n",
    "\n",
    "If no return statement appears in a function definition, control automatically returns to the calling function after the last statement of the called function is executed. In this case, the return value of the called function is undefined."
   ]
  },
  {
   "cell_type": "markdown",
   "id": "b2340917",
   "metadata": {},
   "source": [
    "# Q9. How do you make a function variable refer to the global variable?\n",
    "Ans:-\n",
    "    If you want to refer to a global variable in a function, you can use the global keyword to declare which variables are global."
   ]
  },
  {
   "cell_type": "markdown",
   "id": "a3ecaa18",
   "metadata": {},
   "source": [
    "# Q10. What is the data type of None?\n",
    "Ans:- \n",
    "\n",
    "\n",
    "The None keyword is used to define a null value, or no value at all. None is not the same as 0, False, or an empty string. None is a data type of its own (NoneType) and only None can be None."
   ]
  },
  {
   "cell_type": "markdown",
   "id": "bdcf67ee",
   "metadata": {},
   "source": [
    "# Q11. What does the sentence import areallyourpetsnamederic do?\n",
    "Ans:-\n",
    "    \n",
    "    That import statement imports a module named areallyourpetsnamederic."
   ]
  },
  {
   "cell_type": "markdown",
   "id": "396ba655",
   "metadata": {},
   "source": [
    "# Q12. If you had a bacon() feature in a spam module, what would you call it after importing spam?\n",
    "Ans:-\n",
    "    This function can be called with spam. bacon()."
   ]
  },
  {
   "cell_type": "markdown",
   "id": "12f8608a",
   "metadata": {},
   "source": [
    "# Q13. What can you do to save a programme from crashing if it encounters an error?\n",
    "Ans:-\n",
    "    \n",
    "When it encounters an error, the control is passed to the except block, skipping the code in between. As seen in the above code, we have moved our code inside a try and except statement. Try running the program and it should throw an error message instead of crashing the program.10"
   ]
  },
  {
   "cell_type": "markdown",
   "id": "9ec9000a",
   "metadata": {},
   "source": [
    "# Q14. What is the purpose of the try clause? What is the purpose of the except clause?\n",
    "Ans:-\n",
    "\n",
    "The try block lets you test a block of code for errors. The except block lets you handle the error. The else block lets you execute code when there is no error. The finally block lets you execute code, regardless of the result of the try- and except blocks."
   ]
  },
  {
   "cell_type": "code",
   "execution_count": null,
   "id": "6455e454",
   "metadata": {},
   "outputs": [],
   "source": []
  }
 ],
 "metadata": {
  "kernelspec": {
   "display_name": "Python 3 (ipykernel)",
   "language": "python",
   "name": "python3"
  },
  "language_info": {
   "codemirror_mode": {
    "name": "ipython",
    "version": 3
   },
   "file_extension": ".py",
   "mimetype": "text/x-python",
   "name": "python",
   "nbconvert_exporter": "python",
   "pygments_lexer": "ipython3",
   "version": "3.9.7"
  }
 },
 "nbformat": 4,
 "nbformat_minor": 5
}
