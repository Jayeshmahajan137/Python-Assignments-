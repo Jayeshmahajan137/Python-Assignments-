{
 "cells": [
  {
   "cell_type": "markdown",
   "id": "435af851",
   "metadata": {},
   "source": [
    "# Python Basic Assignment - 05"
   ]
  },
  {
   "cell_type": "markdown",
   "id": "9b85ed65",
   "metadata": {},
   "source": [
    "# Q1. What does an empty dictionary's code look like?\n",
    "Ans:-\n",
    "\n",
    "empty_dict={}\n",
    "\n"
   ]
  },
  {
   "cell_type": "markdown",
   "id": "375b24fe",
   "metadata": {},
   "source": [
    "# Q2. What is the value of a dictionary value with the key \"foo\" and the value 42?\n",
    "Ans:-\n",
    "dict={\"foo\":42}\n",
    "\n",
    "value is 42"
   ]
  },
  {
   "cell_type": "markdown",
   "id": "2d2a4d81",
   "metadata": {},
   "source": [
    "# Q3. What is the most significant distinction between a dictionary and a list?\n",
    "Ans:-\n",
    "    \n",
    " A list is an ordered sequence of objects, whereas dictionaries are unordered sets. However, the main difference is that items in dictionaries are accessed via keys and not via their position."
   ]
  },
  {
   "cell_type": "markdown",
   "id": "c93a43b6",
   "metadata": {},
   "source": [
    "# Q4. What happens if you try to access spam[\"foo\"] if spam is {\"bar\": 100}?\n",
    "Ans:- \n",
    "will get key error"
   ]
  },
  {
   "cell_type": "markdown",
   "id": "82bd8b87",
   "metadata": {},
   "source": [
    "# Q5. If a dictionary is stored in spam, what is the difference between the expressions \"cat\" in spam and\n",
    "\"cat\" in spam.keys()?\n",
    "Ans:-\n",
    "    \n",
    "There is no difference. The in operator checks whether a value exists as a key in the dictionary. 'cat' in spam checks whether there is a 'cat' key in the dictionary, while 'cat' in spam. values() checks whether there is a value 'cat' for one of the keys in spam ."
   ]
  },
  {
   "cell_type": "markdown",
   "id": "43201aeb",
   "metadata": {},
   "source": [
    "# Q6. If a dictionary is stored in spam, what is the difference between the expressions \"cat\" in spam and\"cat\" in spam.values()?\n",
    "Ans:-\n",
    "\n",
    "There is no difference. The in operator checks whether a value exists as a key in the dictionary. 'cat' in spam checks whether there is a 'cat' key in the dictionary, while 'cat' in spam. values() checks whether there is a value 'cat' for one of the keys in spam .\n"
   ]
  },
  {
   "cell_type": "markdown",
   "id": "2f97e861",
   "metadata": {},
   "source": [
    "# Q7. What is a shortcut for the following code? \n",
    "if \"color\" not in spam: \n",
    "    spam[\"color\"] = \"black\""
   ]
  },
  {
   "cell_type": "markdown",
   "id": "abbf46c3",
   "metadata": {},
   "source": [
    "# Q8. How do you &quot;pretty print&quot; dictionary values using which module and function?\n",
    "Ans:-\n",
    "    \n",
    "    \n",
    "  Within the pprint module there is a function with the same name pprint() , which is the function used to pretty-print the given string or object. First, declare an array of dictionaries. Afterward, pretty print it using the function pprint."
   ]
  },
  {
   "cell_type": "code",
   "execution_count": 4,
   "id": "75324531",
   "metadata": {},
   "outputs": [
    {
     "name": "stdout",
     "output_type": "stream",
     "text": [
      "The original dictionary is : {'gfg': {'rate': 5, 'remark': 'good'}, 'cs': {'rate': 3}}\n",
      "The Pretty Print dictionary is : \n",
      "gfg\n",
      "rate : 5\n",
      "remark : good\n",
      "cs\n",
      "rate : 3\n"
     ]
    }
   ],
   "source": [
    "# initializing dictionary\n",
    "test_dict = {'gfg' : {'rate' : 5, 'remark' : 'good'}, 'cs' : {'rate' : 3}}\n",
    "  \n",
    "# printing original dictionary\n",
    "print(\"The original dictionary is : \" +  str(test_dict))\n",
    "  \n",
    "# using loops to Pretty Print\n",
    "print(\"The Pretty Print dictionary is : \")\n",
    "for sub in test_dict:\n",
    "    print (sub)\n",
    "    for sub_nest in test_dict[sub]:\n",
    "        print (sub_nest, ':', test_dict[sub][sub_nest])"
   ]
  },
  {
   "cell_type": "code",
   "execution_count": null,
   "id": "7c17a07d",
   "metadata": {},
   "outputs": [],
   "source": []
  }
 ],
 "metadata": {
  "kernelspec": {
   "display_name": "Python 3 (ipykernel)",
   "language": "python",
   "name": "python3"
  },
  "language_info": {
   "codemirror_mode": {
    "name": "ipython",
    "version": 3
   },
   "file_extension": ".py",
   "mimetype": "text/x-python",
   "name": "python",
   "nbconvert_exporter": "python",
   "pygments_lexer": "ipython3",
   "version": "3.9.7"
  }
 },
 "nbformat": 4,
 "nbformat_minor": 5
}
