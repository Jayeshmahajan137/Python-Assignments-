{
 "cells": [
  {
   "cell_type": "markdown",
   "id": "e8dc540d",
   "metadata": {},
   "source": [
    "# Python Basic Assignment -06"
   ]
  },
  {
   "cell_type": "markdown",
   "id": "1d0171da",
   "metadata": {},
   "source": [
    "# Q1. What are escape characters, and how do you use them?\n",
    "Ans:-\n",
    "    \n",
    "  In Python strings, the backslash \"\\\" is a special character, also called the \"escape\" character. It is used in representing certain whitespace characters: \"\\t\" is a tab, \"\\n\" is a newline, and \"\\r\" is a carriage return. Conversely, prefixing a special character with \"\\\" turns it into an ordinary character."
   ]
  },
  {
   "cell_type": "markdown",
   "id": "695e4cf5",
   "metadata": {},
   "source": [
    "# Q2. What do the escape characters n and t stand for?\n",
    "Ans:-\n",
    "\n",
    "\n",
    " \"\\n\" is a newline\n",
    " \n",
    "  \"\\t\" is a tab\n"
   ]
  },
  {
   "cell_type": "markdown",
   "id": "0d6a5c80",
   "metadata": {},
   "source": [
    "# Q3.What is the way to include backslash characters in a string?\n",
    "Ans:-\n",
    "\n",
    "To insert characters that are illegal in a string, use an escape character. An escape character is a backslash \\ followed by the character you want to insert."
   ]
  },
  {
   "cell_type": "markdown",
   "id": "045a12bd",
   "metadata": {},
   "source": [
    "# Q4. The string \"Howl's Moving Castle\" is a correct value. Why isn't the single quote character in the word Howl's not escaped a problem?\n",
    "Ans:-\n",
    "\n",
    "String must be enclosed with single, double or triple quotes\n"
   ]
  },
  {
   "cell_type": "markdown",
   "id": "aeb2dd4f",
   "metadata": {},
   "source": [
    "# Q5. How do you write a string of newlines if you don't want to use the n character?\n",
    "Ans:-\n",
    "\n",
    "\n",
    "Just use \\n ; Python automatically translates that to the proper newline character for your platform.\n"
   ]
  },
  {
   "cell_type": "markdown",
   "id": "c51a5f88",
   "metadata": {},
   "source": [
    "# Q6. What are the values of the given expressions?\n",
    "\n",
    "\n",
    "\"Hello, world!\"[1]\n",
    "\n",
    "\n",
    "\"Hello, world!\"[0:5]\n",
    "\n",
    "\n",
    "\"Hello, world!\"[:5]\n",
    "\n",
    "\n",
    "\"Hello, world!\"[3:]"
   ]
  },
  {
   "cell_type": "code",
   "execution_count": 1,
   "id": "03f14765",
   "metadata": {},
   "outputs": [
    {
     "data": {
      "text/plain": [
       "'e'"
      ]
     },
     "execution_count": 1,
     "metadata": {},
     "output_type": "execute_result"
    }
   ],
   "source": [
    "\"Hello, world!\"[1]"
   ]
  },
  {
   "cell_type": "code",
   "execution_count": 2,
   "id": "aa4a009e",
   "metadata": {},
   "outputs": [
    {
     "data": {
      "text/plain": [
       "'Hello'"
      ]
     },
     "execution_count": 2,
     "metadata": {},
     "output_type": "execute_result"
    }
   ],
   "source": [
    "\"Hello, world!\"[0:5]"
   ]
  },
  {
   "cell_type": "code",
   "execution_count": 3,
   "id": "331e5d12",
   "metadata": {},
   "outputs": [
    {
     "data": {
      "text/plain": [
       "'Hello'"
      ]
     },
     "execution_count": 3,
     "metadata": {},
     "output_type": "execute_result"
    }
   ],
   "source": [
    "\"Hello, world!\"[:5]"
   ]
  },
  {
   "cell_type": "code",
   "execution_count": 4,
   "id": "b880d0f4",
   "metadata": {},
   "outputs": [
    {
     "data": {
      "text/plain": [
       "'lo, world!'"
      ]
     },
     "execution_count": 4,
     "metadata": {},
     "output_type": "execute_result"
    }
   ],
   "source": [
    "\"Hello, world!\"[3:]"
   ]
  },
  {
   "cell_type": "markdown",
   "id": "45f3564e",
   "metadata": {},
   "source": [
    "# Q7. What are the values of the following expressions?\n",
    "\n",
    "'Hello'.upper()\n",
    "\n",
    "\n",
    "'Hello'.upper().isupper()\n",
    "\n",
    "\n",
    "'Hello'.upper().lower()"
   ]
  },
  {
   "cell_type": "code",
   "execution_count": 5,
   "id": "ed936aab",
   "metadata": {},
   "outputs": [
    {
     "data": {
      "text/plain": [
       "'HELLO'"
      ]
     },
     "execution_count": 5,
     "metadata": {},
     "output_type": "execute_result"
    }
   ],
   "source": [
    "'Hello'.upper()"
   ]
  },
  {
   "cell_type": "code",
   "execution_count": 6,
   "id": "521fa153",
   "metadata": {},
   "outputs": [
    {
     "data": {
      "text/plain": [
       "True"
      ]
     },
     "execution_count": 6,
     "metadata": {},
     "output_type": "execute_result"
    }
   ],
   "source": [
    "'Hello'.upper().isupper()"
   ]
  },
  {
   "cell_type": "code",
   "execution_count": 7,
   "id": "3b2eacae",
   "metadata": {},
   "outputs": [
    {
     "data": {
      "text/plain": [
       "'hello'"
      ]
     },
     "execution_count": 7,
     "metadata": {},
     "output_type": "execute_result"
    }
   ],
   "source": [
    "'Hello'.upper().lower()"
   ]
  },
  {
   "cell_type": "markdown",
   "id": "7a849794",
   "metadata": {},
   "source": [
    "# Q8. What are the values of the following expressions?\n"
   ]
  },
  {
   "cell_type": "code",
   "execution_count": 8,
   "id": "793a10d8",
   "metadata": {},
   "outputs": [
    {
     "data": {
      "text/plain": [
       "['Remember,', 'remember,', 'fifth', 'of', 'july.']"
      ]
     },
     "execution_count": 8,
     "metadata": {},
     "output_type": "execute_result"
    }
   ],
   "source": [
    "'Remember, remember, fifth of july.'.split()"
   ]
  },
  {
   "cell_type": "code",
   "execution_count": 9,
   "id": "f8de87c8",
   "metadata": {},
   "outputs": [
    {
     "data": {
      "text/plain": [
       "'there-can-only-one.'"
      ]
     },
     "execution_count": 9,
     "metadata": {},
     "output_type": "execute_result"
    }
   ],
   "source": [
    "'-'.join('there can only one.'.split())"
   ]
  },
  {
   "cell_type": "markdown",
   "id": "8c17101d",
   "metadata": {},
   "source": [
    "# Q9. What are the methods for right-justifying, left-justifying, and centering a string?\n",
    "Ans:-\n",
    "\n",
    "These functions are :\n",
    "\n",
    "\n",
    "\n",
    "str.ljust(s, width[, fillchar])\n",
    "\n",
    "\n",
    "str.rjust(s, width[, fillchar])\n",
    "\n",
    "\n",
    "str.center(s, width[, fillchar])\n",
    "\n",
    "\n",
    "These functions respectively left-justify, right-justify and center a string in a field of given width. They return a string that is at least width characters wide, created by padding the string s with the character fillchar (default is a space) until the given width on the right, left or both sides. The string is never truncated.\n",
    "\n"
   ]
  },
  {
   "cell_type": "markdown",
   "id": "6b6409e2",
   "metadata": {},
   "source": [
    "# Q10. What is the best way to remove whitespace characters from the start or end?\n",
    "Ans:-\n",
    "    \n",
    "    \n",
    "The Python String strip() method is part of the built-in function available in python. The function will remove given characters from the start and end of the original string. This function is very helpful in removing the whitespaces at the start and end of the given string, as shown in the example"
   ]
  },
  {
   "cell_type": "code",
   "execution_count": null,
   "id": "96bd6952",
   "metadata": {},
   "outputs": [],
   "source": []
  }
 ],
 "metadata": {
  "kernelspec": {
   "display_name": "Python 3 (ipykernel)",
   "language": "python",
   "name": "python3"
  },
  "language_info": {
   "codemirror_mode": {
    "name": "ipython",
    "version": 3
   },
   "file_extension": ".py",
   "mimetype": "text/x-python",
   "name": "python",
   "nbconvert_exporter": "python",
   "pygments_lexer": "ipython3",
   "version": "3.9.7"
  }
 },
 "nbformat": 4,
 "nbformat_minor": 5
}
