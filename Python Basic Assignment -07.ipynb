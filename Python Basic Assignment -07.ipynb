{
 "cells": [
  {
   "cell_type": "markdown",
   "id": "27534b76",
   "metadata": {},
   "source": [
    "# Python Basic Assignment -07"
   ]
  },
  {
   "cell_type": "markdown",
   "id": "8faedbfa",
   "metadata": {},
   "source": [
    "# Q1. What is the name of the feature responsible for generating Regex objects?\n",
    "Ans:- \n",
    "\n",
    "The re. compile() function returns Regex objects."
   ]
  },
  {
   "cell_type": "markdown",
   "id": "0c53b39b",
   "metadata": {},
   "source": [
    "# Q2.Why do raw strings often appear in Regex objects?\n",
    "Ans:-\n",
    "\n",
    "According to Python docs, raw string notation (r\"text\") keeps regular expressions meaningful and confusion-free. Without it, every backslash ('\\') in a regular expression would have to be prefixed with another one to escape it."
   ]
  },
  {
   "cell_type": "markdown",
   "id": "45611713",
   "metadata": {},
   "source": [
    "# Q3. What is the return value of the search() method?\n",
    "Ans:-\n",
    "   The re.search() function takes two parameters and returns a match object if there is a match. If there is more than one match, only the first occurrence of the match will be returned. If no matches are found, the value None is returned. "
   ]
  },
  {
   "cell_type": "markdown",
   "id": "bf1dfc47",
   "metadata": {},
   "source": [
    "# Q4. From a Match item, how do you get the actual strings that match the pattern?\n",
    "Ans:-\n",
    "\n",
    "\n",
    "The group() method returns strings of the matched text."
   ]
  },
  {
   "cell_type": "markdown",
   "id": "90948a54",
   "metadata": {},
   "source": [
    "# Q5. In the regex which created from the r'(\\d\\d\\d)-(\\d\\d\\d-\\d\\d\\d\\d)', what does group zero cover?Group 2? Group 1?\n",
    "Ans:-\n",
    "\n",
    "Group one covers (the first three numbers) \n",
    "\n",
    "Group two covers (The next three numbers and the last four numbers)\n",
    "\n",
    "Group (0) covers The phone number     "
   ]
  },
  {
   "cell_type": "markdown",
   "id": "433b9fbf",
   "metadata": {},
   "source": [
    "# Q6. In standard expression syntax, parentheses and intervals have distinct meanings. How can you tell a regex that you want it to fit real parentheses and periods?\n",
    "Ans:-\n",
    "\n",
    "he \\ (and) escape I’m not sure of the periods I couldn’t find the function though I found the backslash function. In the raw string passed in the re.compile () matches the parenthesis characters. "
   ]
  },
  {
   "cell_type": "markdown",
   "id": "8ef181f4",
   "metadata": {},
   "source": [
    "# Q7. The findall() method returns a string list or a list of string tuples. What causes it to return one of the two options?\n",
    "Ans:-\n",
    "  \n",
    "If the regex has no groups, a list of strings is returned. If the regex has groups, a list of tuples of strings is returned."
   ]
  },
  {
   "cell_type": "markdown",
   "id": "86084edd",
   "metadata": {},
   "source": [
    "# Q8. In standard expressions, what does the | character mean?\n",
    "Ans:-\n",
    "    character | mean space "
   ]
  },
  {
   "cell_type": "markdown",
   "id": "a3774274",
   "metadata": {},
   "source": [
    "# Q9. In regular expressions, what does the character stand for?\n",
    "Ans:-\n",
    "    \n",
    "Each character in a regular expression (that is, each character in the string describing its pattern) is either a metacharacter, having a special meaning, or a regular character that has a literal meaning. For example, in the regex b. , 'b' is a literal character that matches just 'b', while '\n",
    "\n",
    "A regular expression is a string in which certain characters like '.', '*', '(', ')', etc. and certain combinations of characters are given special meanings to represent other characters and sequences of other characters. Surely you have already seen the expression “*.txt” to stand for all files with arbitrary names but ending in “.txt”."
   ]
  },
  {
   "cell_type": "markdown",
   "id": "44d02216",
   "metadata": {},
   "source": [
    "# Q10.In regular expressions, what is the difference between the + and * characters?\n",
    "Ans:-\n",
    "\n",
    "\n",
    "*. * , returns strings beginning with any combination and any amount of characters (the first asterisk), and can end with any combination and any amount of characters (the last asterisk). This selects every single string available.\n"
   ]
  },
  {
   "cell_type": "markdown",
   "id": "5d7404a7",
   "metadata": {},
   "source": [
    "# Q11. What is the difference between {3} and {3,5} in regular expression?\n",
    "Ans:-\n",
    "    \n",
    "   The string matches a specific word count of a word for instance in curly brackets {3} gives you HEHEHE and gives you a precise match. The {3, 5} matches the (hehehe, hehehehe, hehehehehe).\n"
   ]
  },
  {
   "cell_type": "markdown",
   "id": "8d379ef9",
   "metadata": {},
   "source": [
    "# Q12. What do you mean by the \\d, \\w, and \\s shorthand character classes signify in regular expressions?\n",
    "Ans:-\n",
    "    \n",
    "    \n",
    "  The \\D, \\W, and \\S shorthand character classes match a single character that is not a digit, word, or space character, respectively.\n"
   ]
  },
  {
   "cell_type": "markdown",
   "id": "a7a0f2d3",
   "metadata": {},
   "source": [
    "# Q13. What is the difference between .*? and .*?\n",
    "\n",
    "Ans:-\n",
    "    (. *?) matches any character ( . ) any number of times ( * ), as few times as possible to make the regex match ( ? ). You'll get a match on any string, but you'll only capture a blank string because of the question mark."
   ]
  },
  {
   "cell_type": "markdown",
   "id": "fa4897d7",
   "metadata": {},
   "source": [
    "# Q14. What is the syntax for matching both numbers and lowercase letters with a character class?\n",
    "Ans:-\n",
    "    For example, the regular expression \"[ A-Za-z] \" specifies to match any single uppercase or lowercase letter. In the character set, a hyphen indicates a range of characters, for example [A-Z] will match any one capital letter. "
   ]
  },
  {
   "cell_type": "markdown",
   "id": "1b394f67",
   "metadata": {},
   "source": [
    "# Q15. What is the procedure for making a normal expression in regax case insensitive?\n",
    "Ans:-\n",
    "    re. IGNORECASE : This flag allows for case-insensitive matching of the Regular Expression with the given string i.e. expressions like [A-Z] will match lowercase letters, too."
   ]
  },
  {
   "cell_type": "markdown",
   "id": "82f43714",
   "metadata": {},
   "source": [
    "# Q16. What does the . character normally match? What does it match if re.DOTALL is passed as 2nd argument in re.compile()?\n",
    "Ans:-\n",
    "\n",
    "The dot-star will match everything except a newline. By passing re. DOTALL as the second argument to re. compile() , you can make the dot character match all characters, including the newline character."
   ]
  },
  {
   "cell_type": "code",
   "execution_count": null,
   "id": "38bedd1d",
   "metadata": {},
   "outputs": [],
   "source": []
  }
 ],
 "metadata": {
  "kernelspec": {
   "display_name": "Python 3 (ipykernel)",
   "language": "python",
   "name": "python3"
  },
  "language_info": {
   "codemirror_mode": {
    "name": "ipython",
    "version": 3
   },
   "file_extension": ".py",
   "mimetype": "text/x-python",
   "name": "python",
   "nbconvert_exporter": "python",
   "pygments_lexer": "ipython3",
   "version": "3.9.7"
  }
 },
 "nbformat": 4,
 "nbformat_minor": 5
}
