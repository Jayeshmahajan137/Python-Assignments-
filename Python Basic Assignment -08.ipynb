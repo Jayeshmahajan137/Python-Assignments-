{
 "cells": [
  {
   "cell_type": "markdown",
   "id": "5565aff7",
   "metadata": {},
   "source": [
    "# Python Basic Assignment -08"
   ]
  },
  {
   "cell_type": "markdown",
   "id": "5cd7f9ee",
   "metadata": {},
   "source": [
    "# Q1. Is the Python Standard Library included with PyInputPlus?\n",
    "Ans:-\n",
    "     PyInputPlus is not a part of the Python Standard Library, so you must install it separately using Pip. In [3]: !pip install pyinputplus."
   ]
  },
  {
   "cell_type": "markdown",
   "id": "47e43b36",
   "metadata": {},
   "source": [
    "# Q2. Why is PyInputPlus commonly imported with import pyinputplus as pypi?\n",
    "Ans:-\n",
    "\n",
    "pypi is alias of PyInputPlus. The as pyip code in the import statement saves us from typing pyinputplus each time we want to call a PyInputPlus function. Instead we can use the shorter pyip name"
   ]
  },
  {
   "cell_type": "markdown",
   "id": "9f3a3867",
   "metadata": {},
   "source": [
    "# Q3. How do you distinguish between inputInt() and inputFloat()?\n",
    "Ans:-\n",
    "  \n",
    "  inputInt() : Accepts an integer value, and returns int value\n",
    "\n",
    "\n",
    "inputFloat() : Accepts integer/floating point value and returns float value "
   ]
  },
  {
   "cell_type": "markdown",
   "id": "b8de3718",
   "metadata": {},
   "source": [
    "# Q4. Using PyInputPlus, how do you ensure that the user enters a whole number between 0 and 99?\n",
    "Ans:-\n",
    "    \n",
    "  In the inputint function we can set the min = 0 and max =99 to ensure user enters number between 0 and 99"
   ]
  },
  {
   "cell_type": "markdown",
   "id": "cafc809f",
   "metadata": {},
   "source": [
    "# Q5. What is transferred to the keyword arguments allowRegexes and blockRegexes?\n",
    "Ans:-\n",
    "\n",
    "\n",
    "We can also use regular expressions to specify whether an input is allowed or not. The allowRegexes and blockRegexes keyword arguments take a list of regular expression strings to determine what the PyInputPlus function will accept or reject as valid input."
   ]
  },
  {
   "cell_type": "markdown",
   "id": "4a1c9d35",
   "metadata": {},
   "source": [
    "# Q6. If a blank input is entered three times, what does inputStr(limit=3) do?\n",
    "Ans:-\n",
    "     It will throw RetryLimitException exception."
   ]
  },
  {
   "cell_type": "markdown",
   "id": "ad52702e",
   "metadata": {},
   "source": [
    "# Q7. blank input is entered three times, what does inputStr(limit=3, default=\"hello\") do?\n",
    "Ans:-\n",
    " When you use limit keyword arguments and also pass a default keyword argument, the function returns the default value instead of raising an exception   "
   ]
  },
  {
   "cell_type": "code",
   "execution_count": null,
   "id": "1d734800",
   "metadata": {},
   "outputs": [],
   "source": [
    "\n"
   ]
  }
 ],
 "metadata": {
  "kernelspec": {
   "display_name": "Python 3 (ipykernel)",
   "language": "python",
   "name": "python3"
  },
  "language_info": {
   "codemirror_mode": {
    "name": "ipython",
    "version": 3
   },
   "file_extension": ".py",
   "mimetype": "text/x-python",
   "name": "python",
   "nbconvert_exporter": "python",
   "pygments_lexer": "ipython3",
   "version": "3.9.7"
  }
 },
 "nbformat": 4,
 "nbformat_minor": 5
}
