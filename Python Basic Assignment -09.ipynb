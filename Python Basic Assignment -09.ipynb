{
 "cells": [
  {
   "cell_type": "markdown",
   "id": "2b042302",
   "metadata": {},
   "source": [
    "# Python Basic Assignment -09\n"
   ]
  },
  {
   "cell_type": "markdown",
   "id": "5f0c8ded",
   "metadata": {},
   "source": [
    "# Q1. To what does a relative path refer?\n",
    "Ans:-\n",
    "   \n",
    "   A relative path refers to a location that is relative to a current directory. Relative paths make use of two special symbols, a dot (.) and a double-dot (..), which translate into the current directory and the parent directory. Double dots are used for moving up in the hierarchy."
   ]
  },
  {
   "cell_type": "markdown",
   "id": "ffbe9f77",
   "metadata": {},
   "source": [
    "# Q2. What does an absolute path start with your operating system?\n",
    "Ans:-\n",
    "    \n",
    "   It contains the complete location of a file or directory, hence the name. It is also referred to as absolute pathname or full path and it always starts at the same place, which is the root directory. "
   ]
  },
  {
   "cell_type": "markdown",
   "id": "6761c8fd",
   "metadata": {},
   "source": [
    "# Q3. What do the functions os.getcwd() and os.chdir() do?\n",
    "Ans:-\n",
    "\n",
    "getcwd() : CWD stands for Current Working Directory. This function allows you to see what your current working directory is. chdir(\"path-to-dir\") : Short for CHange DIRectory, this function allows you to set the current working directory to a path of your choice."
   ]
  },
  {
   "cell_type": "markdown",
   "id": "2e0ecd17",
   "metadata": {},
   "source": [
    "# Q4. What are the . and .. folders?\n",
    "Ans:-\n",
    " \n",
    " The . is the current directory, while .. signifies the parent directory. It makes things quicker at the command line as well so you don't need to type out full paths.\n",
    "    "
   ]
  },
  {
   "cell_type": "markdown",
   "id": "25ddd9b2",
   "metadata": {},
   "source": [
    "# Q5. In C:\\bacon\\eggs\\spam.txt, which part is the dir name, and which part is the base name?\n",
    "Ans:-\n",
    "    C:\\bacon\\eggs is the dir name, while spam. txt is the base name."
   ]
  },
  {
   "cell_type": "markdown",
   "id": "d856a642",
   "metadata": {},
   "source": [
    "# Q6. What are the three “mode” arguments that can be passed to the open() function?\n",
    "Ans:-\n",
    "\n",
    "    \n",
    " The access modes available for the open() function are as follows:\n",
    "\n",
    "        \n",
    " r : Opens the file in read-only mode. ...\n",
    "\n",
    "            \n",
    " rb : Opens the file as read-only in binary format and starts reading from the beginning of the file. ...\n",
    "\n",
    "                \n",
    " r+ : Opens a file for reading and writing, placing the pointer at the beginning of the file."
   ]
  },
  {
   "cell_type": "markdown",
   "id": "99172418",
   "metadata": {},
   "source": [
    "# Q7. What happens if an existing file is opened in write mode?\n",
    "Ans:-\n",
    "\n",
    "r+ : Opens a file for reading and writing, placing the pointer at the beginning of the file. w : Opens in write-only mode. The pointer is placed at the beginning of the file and this will overwrite any existing file with the same name. It will create a new file if one with the same name doesn't exist."
   ]
  },
  {
   "cell_type": "markdown",
   "id": "21605c0a",
   "metadata": {},
   "source": [
    "# Q8. How do you tell the difference between read() and readlines()?\n",
    "Ans:-\n",
    "\n",
    "\n",
    "The main difference is that read() will read the whole file at once and then print out the first characters that take up as many bytes as you specify in the parenthesis versus the readline() that will read and print out only the first characters that take up as many bytes as you specify in the parenthesis.\n"
   ]
  },
  {
   "cell_type": "markdown",
   "id": "ddecafc3",
   "metadata": {},
   "source": [
    "# Q9. What data structure does a shelf value resemble?\n",
    "Ans:- \n",
    "\n",
    "A shelf value resembles a dictionary value; it has keys and values, along with keys() and values() methods that work similarly to the dictionary methods of the same names."
   ]
  },
  {
   "cell_type": "code",
   "execution_count": null,
   "id": "6f6c33af",
   "metadata": {},
   "outputs": [],
   "source": []
  }
 ],
 "metadata": {
  "kernelspec": {
   "display_name": "Python 3 (ipykernel)",
   "language": "python",
   "name": "python3"
  },
  "language_info": {
   "codemirror_mode": {
    "name": "ipython",
    "version": 3
   },
   "file_extension": ".py",
   "mimetype": "text/x-python",
   "name": "python",
   "nbconvert_exporter": "python",
   "pygments_lexer": "ipython3",
   "version": "3.9.7"
  }
 },
 "nbformat": 4,
 "nbformat_minor": 5
}
