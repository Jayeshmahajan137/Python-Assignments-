{
 "cells": [
  {
   "cell_type": "markdown",
   "id": "62f360ff",
   "metadata": {},
   "source": [
    "# Python Basic Assignment -10"
   ]
  },
  {
   "cell_type": "markdown",
   "id": "8efc7f64",
   "metadata": {},
   "source": [
    "# Q1. How do you distinguish between shutil.copy() and shutil.copytree()?\n",
    "Ans:-\n",
    "\n",
    "The shutil. copy() function will copy a single file, while shutil. copytree() will copy an entire folder, along with all its contents."
   ]
  },
  {
   "cell_type": "markdown",
   "id": "ccdd6dd5",
   "metadata": {},
   "source": [
    "# Q2. What function is used to rename files??\n",
    "Ans:-\n",
    "\n",
    "rename() method in Python is used to rename a file or directory.\n",
    "    "
   ]
  },
  {
   "cell_type": "markdown",
   "id": "6ab39a53",
   "metadata": {},
   "source": [
    "# Q3. What is the difference between the delete functions in the send2trash and shutil modules?\n",
    "Ans:-\n",
    "The send2trash functions will move a file or folder to the recycle bin, while shutil functions will permanently delete files and folders."
   ]
  },
  {
   "cell_type": "markdown",
   "id": "35e9f4da",
   "metadata": {},
   "source": [
    "# Q4. 4.ZipFile objects have a close() method just like File objects’ close() method. What ZipFile method is equivalent to File objects’ open() method?\n",
    "Ans:-\n",
    "\n",
    "The zipfile.ZipFile() function is equivalent to the open() function; the first argument is the filename, and the second argument is the mode to open the ZIP file in (read, write, or append)."
   ]
  },
  {
   "cell_type": "markdown",
   "id": "e59a5849",
   "metadata": {},
   "source": [
    "# Q5. Create a programme that searches a folder tree for files with a certain file extension (such as .pdf or .jpg). Copy these files from whatever location they are in to a new folder.\n",
    "\n",
    "Ans:-\n",
    "\n"
   ]
  },
  {
   "cell_type": "code",
   "execution_count": 7,
   "id": "73e12772",
   "metadata": {},
   "outputs": [],
   "source": [
    "import os, shutil\n",
    "def selectiveCopy(folder, extensions, destFolder):\n",
    "    folder = os.path.abspath(folder)\n",
    "    destFolder = os.path.abspath(destFolder)\n",
    "    print('Looking in', folder, 'for files with extensions of', ', '.join(extensions))\n",
    "    for foldername, subfolders, filenames in os.walk(folder):\n",
    "        for filename in filenames:\n",
    "            name, extension = os.path.splitext(filename)\n",
    "        if extension in extensions:\n",
    "            fileAbsPath = foldername + os.path.sep + filename\n",
    "            print('Coping', fileAbsPath, 'to', destFolder)\n",
    "    shutil.copy(fileAbsPath, destFolder)\n",
    "\n",
    "    extensions = ['.php', '.py']\n",
    "    folder = 'randomFolder'\n",
    "    destFolder = 'selectiveFolder'\n",
    "    selectiveCopy(folder, extensions, destFolder)\n",
    "\n",
    " "
   ]
  },
  {
   "cell_type": "code",
   "execution_count": null,
   "id": "ec050aa8",
   "metadata": {},
   "outputs": [],
   "source": []
  }
 ],
 "metadata": {
  "kernelspec": {
   "display_name": "Python 3 (ipykernel)",
   "language": "python",
   "name": "python3"
  },
  "language_info": {
   "codemirror_mode": {
    "name": "ipython",
    "version": 3
   },
   "file_extension": ".py",
   "mimetype": "text/x-python",
   "name": "python",
   "nbconvert_exporter": "python",
   "pygments_lexer": "ipython3",
   "version": "3.9.7"
  }
 },
 "nbformat": 4,
 "nbformat_minor": 5
}
