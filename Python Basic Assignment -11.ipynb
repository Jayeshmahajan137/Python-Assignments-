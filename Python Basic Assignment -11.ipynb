{
 "cells": [
  {
   "cell_type": "markdown",
   "id": "a1c69802",
   "metadata": {},
   "source": [
    "# Python Basic Assignment -011"
   ]
  },
  {
   "cell_type": "markdown",
   "id": "61639faa",
   "metadata": {},
   "source": [
    "# Q1. Create an assert statement that throws an AssertionError if the variable spam is a negative integer.\n",
    "Ans:-\n",
    "assert spam >= 10, 'The spam variable is less than 10."
   ]
  },
  {
   "cell_type": "markdown",
   "id": "f6348632",
   "metadata": {},
   "source": [
    "# Q2. Write an assert statement that triggers an AssertionError if the variables eggs and bacon contain strings that are the same as each other, even if their cases are different (that is, \"hello\" and\"Hello areconsidered the same, and \"Good bye\" and &\"GOOD Bye\" are also considered the same).\n",
    "Ans:-\n",
    "\n",
    "\n",
    "assert eggs.lower() != bacon.lower(), 'The eggs and bacon variables are the same!' or assert eggs.upper() != bacon.upper(), 'The eggs and bacon variables are the same!'"
   ]
  },
  {
   "cell_type": "markdown",
   "id": "ef17a539",
   "metadata": {},
   "source": [
    "# Q3. Create an assert statement that throws an AssertionError every time.\n",
    "Ans:- \n",
    "    \n",
    "    assert False, 'This assertion always triggers."
   ]
  },
  {
   "cell_type": "markdown",
   "id": "ad68d3c5",
   "metadata": {},
   "source": [
    "# Q4. What are the two lines that must be present in your software in order to call logging.debug()?\n",
    "Ans:- \n",
    "\n",
    "\n",
    "To be able to call logging.debug(), you must have these two lines at the start of your program:\n",
    "\n",
    "\n",
    "\n",
    "import logging\n",
    "\n",
    "\n",
    "logging.basicConfig(level=logging.DEBUG, format=' %(asctime)s -\n",
    "\n",
    "\n",
    "%(levelname)s - %(message)s')"
   ]
  },
  {
   "cell_type": "markdown",
   "id": "2fdc13d6",
   "metadata": {},
   "source": [
    "# Q5. What are the two lines that your program must have in order to have logging.debug() send a logging message to a file named programLog.txt?\n",
    "Ans:-\n",
    "\n",
    "To be able to send logging messages to a file named programLog.txt with logging.debug(), you must have these two lines at the start of your program:\n",
    "\n",
    "\n",
    "import logging\n",
    "\n",
    "\n",
    "logging.basicConfig(filename='programLog.txt', level=logging.DEBUG,\n",
    "\n",
    "\n",
    "format=' %(asctime)s - %(levelname)s - %(message)s')"
   ]
  },
  {
   "cell_type": "markdown",
   "id": "e0d14790",
   "metadata": {},
   "source": [
    "# Q6. What are the five levels of logging?\n",
    "Ans:- DEBUG, INFO, WARNING, ERROR, and CRITICAL"
   ]
  },
  {
   "cell_type": "markdown",
   "id": "30e9d092",
   "metadata": {},
   "source": [
    "# Q7. What line of code would you add to your software to disable all logging messages?\n",
    "Ans:-\n",
    "\n",
    "logging.disable(logging.CRITICAL)\n"
   ]
  },
  {
   "cell_type": "markdown",
   "id": "7e21f433",
   "metadata": {},
   "source": [
    "# Q8. 8.Why is using logging messages better than using print() to display the same message?\n",
    "Ans:- \n",
    "\n",
    "You can disable logging messages without removing the logging function calls. You can selectively disable lower-level logging messages. You can create logging messages. Logging messages provides a timestamp."
   ]
  },
  {
   "cell_type": "markdown",
   "id": "89e407ea",
   "metadata": {},
   "source": [
    "# Q9. What are the differences between the Step Over, Step In, and Step Out buttons in the debugger?\n",
    "Ans:- \n",
    "\n",
    "The Step button will move the debugger into a function call. The Over button will quickly execute the function call without stepping into it. The Out button will quickly execute the rest of the code until it steps out of the function it currently is in."
   ]
  },
  {
   "cell_type": "markdown",
   "id": "df2b42b8",
   "metadata": {},
   "source": [
    "# Q10.What is the concept of a breakpoint?\n",
    "Ans:- \n",
    "\n",
    "A breakpoint is a setting on a line of code that causes the debugger to pause when the program execution reaches the line.\n",
    "    "
   ]
  },
  {
   "cell_type": "code",
   "execution_count": null,
   "id": "c0efd242",
   "metadata": {},
   "outputs": [],
   "source": []
  }
 ],
 "metadata": {
  "kernelspec": {
   "display_name": "Python 3 (ipykernel)",
   "language": "python",
   "name": "python3"
  },
  "language_info": {
   "codemirror_mode": {
    "name": "ipython",
    "version": 3
   },
   "file_extension": ".py",
   "mimetype": "text/x-python",
   "name": "python",
   "nbconvert_exporter": "python",
   "pygments_lexer": "ipython3",
   "version": "3.9.7"
  }
 },
 "nbformat": 4,
 "nbformat_minor": 5
}
