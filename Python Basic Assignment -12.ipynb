{
 "cells": [
  {
   "cell_type": "markdown",
   "id": "096c05fe",
   "metadata": {},
   "source": [
    "# Python Basic Assignment -12"
   ]
  },
  {
   "cell_type": "markdown",
   "id": "8871c896",
   "metadata": {},
   "source": [
    "# Q1. In what modes should the PdfFileReader() and PdfFileWriter() File objects will be opened?\n",
    "Ans:- \n",
    "\n",
    "PdfFileReader() needs to be opened in read-binary mode by passing 'rb' as the second argument to open(). Likewise, the File object passed to PyPDF2. PdfFileWriter() needs to be opened in write-binary mode with 'wb'."
   ]
  },
  {
   "cell_type": "markdown",
   "id": "84c1413f",
   "metadata": {},
   "source": [
    "# Q2. From a PdfFileReader object, how do you get a Page object for page 5?\n",
    "Ans:- \n",
    "    \n",
    "   To extract text from a page, you need to get a Page object, which represents a single page of a PDF, from a PdfFileReader object. You can get a Page object by calling the getPage() method 5 on a PdfFileReader object and passing it the page number of the page you're interested in"
   ]
  },
  {
   "cell_type": "markdown",
   "id": "63d013a4",
   "metadata": {},
   "source": [
    "# Q3. What PdfFileReader variable stores the number of pages in the PDF document?\n",
    "Ans:-\n",
    "\n",
    "The total number of pages in the document is stored in the numPages attribute of a PdfFileReader object    \n",
    "    "
   ]
  },
  {
   "cell_type": "markdown",
   "id": "7fcc7312",
   "metadata": {},
   "source": [
    "# Q4. If a PdfFileReader object’s PDF is encrypted with the password swordfish, what must you do before you can obtain Page objects from it?\n",
    "Ans:-\n",
    "\n",
    "\n",
    "Before we obtain the page object, the pdf has to be decrypted by calling .decrypt('swordfish')"
   ]
  },
  {
   "cell_type": "markdown",
   "id": "4a57bf32",
   "metadata": {},
   "source": [
    "# Q5. What methods do you use to rotate a page?\n",
    "Ans:-\n",
    "    \n",
    "pageObj.rotateClockwise(180)\n",
    "\n",
    "The rotateClockwise() and rotateCounterClockwise() methods. The degrees to rotate is passed as an integer argumen"
   ]
  },
  {
   "cell_type": "markdown",
   "id": "46d006bd",
   "metadata": {},
   "source": [
    "# Q6. What is the difference between a Run object and a Paragraph object?\n",
    "Ans:-\n",
    "    \n",
    "    \n",
    "Paragraph Object : A document contains multiple paragraphs. A paragraph begins on a new line and contains multiple runs. \n",
    "    \n",
    "The Document object contains a list of Paragraph objects for the paragraphs in the document. (A new paragraph begins whenever the user presses ENTER or RETURN while typing in a Word document.)\n",
    "\n",
    "\n",
    "Run Objects : Runs are contiguous groups of characters within a paragraph with the same style\n",
    "    "
   ]
  },
  {
   "cell_type": "markdown",
   "id": "f9ce1cf8",
   "metadata": {},
   "source": [
    "# Q7. How do you obtain a list of Paragraph objects for a Document object that’s stored in a variable named doc?\n",
    "Ans:-\n",
    "\n",
    "#!pip install python-docx\n",
    "\n",
    "import docx\n",
    "\n",
    "doc = docx.Document('abc.docx')\n",
    "\n",
    "doc.paragraphs\n",
    "\n",
    "#By using doc.paragraphs\n"
   ]
  },
  {
   "cell_type": "markdown",
   "id": "163d1635",
   "metadata": {},
   "source": [
    "# Q8. What type of object has bold, underline, italic, strike, and outline variables?\n",
    "Ans:-\n",
    "   \n",
    "  A Run object has bold, underline,italic,strike and outline variables\n",
    "\n"
   ]
  },
  {
   "cell_type": "markdown",
   "id": "dcf0803c",
   "metadata": {},
   "source": [
    "# Q9. What is the difference between False, True, and None for the bold variable?\n",
    "Ans:-\n",
    "  \n",
    "  \n",
    "Runs can be further styled using text attributes. Each attribute can be set to one of three values:\n",
    "\n",
    "True (the attribute is always enabled, no matter what other styles are applied to the run),\n",
    "\n",
    "False (the attribute is always disabled),\n",
    "\n",
    "None (defaults to whatever the run’s style is set to)"
   ]
  },
  {
   "cell_type": "markdown",
   "id": "efc28c5a",
   "metadata": {},
   "source": [
    "# Q10. How do you create a Document object for a new Word document?\n",
    "Ans:-\n",
    "    \n",
    "By Calling the docx.Document() function."
   ]
  },
  {
   "cell_type": "markdown",
   "id": "c8d5ac78",
   "metadata": {},
   "source": [
    "# Q11. How do you add a paragraph with the text \"Hello, there!\" to a Document object stored in a variable named doc?\n",
    "\n",
    "Ans:-\n",
    "\n",
    "import docx\n",
    "\n",
    "doc = docx.Document()\n",
    "\n",
    "doc.add_paragraph('Hello there!')\n",
    "\n",
    "doc.save('hellothere.docx')"
   ]
  },
  {
   "cell_type": "markdown",
   "id": "40f57392",
   "metadata": {},
   "source": [
    "# Q12. What integers represent the levels of headings available in Word documents?\n",
    "\n",
    "Ans:-\n",
    "\n",
    "integer from 0 to 4\n",
    "The arguments to add_heading() are a string of the heading text and an integer from 0 to 4. The integer 0 makes the heading the Title style, which is used for the top of the document. Integers 1 to 4 are for various heading levels, with 1 being the main heading and 4 the lowest subheading"
   ]
  },
  {
   "cell_type": "code",
   "execution_count": null,
   "id": "dbba9220",
   "metadata": {},
   "outputs": [],
   "source": []
  }
 ],
 "metadata": {
  "kernelspec": {
   "display_name": "Python 3 (ipykernel)",
   "language": "python",
   "name": "python3"
  },
  "language_info": {
   "codemirror_mode": {
    "name": "ipython",
    "version": 3
   },
   "file_extension": ".py",
   "mimetype": "text/x-python",
   "name": "python",
   "nbconvert_exporter": "python",
   "pygments_lexer": "ipython3",
   "version": "3.9.7"
  }
 },
 "nbformat": 4,
 "nbformat_minor": 5
}
