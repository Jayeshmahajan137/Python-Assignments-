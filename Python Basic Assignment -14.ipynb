{
 "cells": [
  {
   "cell_type": "markdown",
   "id": "6fb7ce2b",
   "metadata": {},
   "source": [
    "# Python Basic Assignment -14 "
   ]
  },
  {
   "cell_type": "markdown",
   "id": "b7dbd763",
   "metadata": {},
   "source": [
    "# Q1. What does RGBA stand for?\n",
    "Ans:-\n",
    "    \n",
    " RGBA is a four-channel format containing data for Red, Green, Blue, and an Alpha value. The CSS function rgb() has wide browser support. The CSS function rgba() may have limited support in the older browser. The opacity of the color cannot be specified using this color format."
   ]
  },
  {
   "cell_type": "markdown",
   "id": "e1f8713e",
   "metadata": {},
   "source": [
    "# Q2. From the Pillow module, how do you get the RGBA value of any images?\n",
    "Ans:-\n",
    "\n",
    "\n",
    "To create a transparent png using Python3, the Pillow library is used. The Pillow library comes with python itself. If python is unable to find Pillow library then open the command prompt and run this command:-\n",
    "\n",
    "pip install Pillow\n",
    "\n",
    "Approach:\n",
    "\n",
    "\n",
    "1. import the Image module from the Pillow library\n",
    "\n",
    "from PIL import Image\n",
    "\n",
    "\n",
    "2. Open any image and get the RAGBAG values.\n",
    "\n",
    "img = Image.open(‘image.png’)\n",
    "\n",
    "rgba = img.convert(“RGBA”)\n",
    "\n",
    "datas = rgba.getdata()\n",
    "\n",
    "\n",
    "3. Change the color \n",
    "\n",
    "Data will be an Imaging Core object containing thousands of tuples of RGBA values. To make transparent the background firstly we have to find the RGBA values of the background or any color we want to make transparent. Here in this image, the background color is black. \n",
    "\n",
    "\n",
    "The RGB value of black is (0, 0, 0). Now we will loop through the data (RGBA values) and whenever we find a black pixel we will replace it with a transparent RGBA value which is ((255, 255, 255, 0), and the other colors will be unchanged.  And we will store the values in a new list called newData.\n",
    "\n",
    "\n",
    "newData = []\n",
    "\n",
    "\n",
    "for item in datas:\n",
    "\n",
    "   \n",
    "   if item[0] == 0 and item[1] == 0 and item[2] == 0:\n",
    "\n",
    "      \n",
    "      newData.append((255, 255, 255, 0))\n",
    "\n",
    "   \n",
    "   else:\n",
    "\n",
    "      \n",
    "      newData.append(item)\n",
    "\n",
    "\n",
    "4. Store the changed image\n",
    "\n",
    "Store the newData into RGBA value and save the image as a png format(transparent image can’t be stored into jpg or jpeg format).\n",
    "\n",
    "rgba.putdata(newData)\n",
    "\n",
    "rgba.save(“transparent_image.png”, “PNG”)"
   ]
  },
  {
   "cell_type": "markdown",
   "id": "3cb087d5",
   "metadata": {},
   "source": [
    "# Q3. What is a box tuple, and how does it work?\n",
    "Ans:-\n",
    "\n",
    "Many of Pillow's functions and methods take a box tuple argument. This means Pillow is expecting a tuple of four integer coordinates that represent a rectangular region in an image."
   ]
  },
  {
   "cell_type": "markdown",
   "id": "d7639061",
   "metadata": {},
   "source": [
    "# Q4. Use your image and load in notebook then, How can you find out the width and height of an Image object?\n",
    "Ans:-\n",
    "\n",
    "In order to find the height and width of an image, there are two approaches. The first approach is by using the PIL(Pillow) library and the second approach is by using the Open-CV library.\n",
    "\n",
    "* By using pillow liberary:-\n",
    "\n",
    "PIL is the Python Imaging Library is an important module which is used for image processing. It supports many formats of images such as “jpeg”, “png”, “ppm”, “tiff”, “bmp”, “gif”.  It provides many image editing capabilities. The Image module provides a class with the same name which is used to represent a PIL image. \n",
    "\n",
    "PIL.Image.open() is used to open the image and then .width and .height property of Image are used to get the height and width of the image. The same results can be obtained by using .size property.\n",
    "\n",
    "To use pillow library run the following command:\n",
    "\n",
    "pip install pillow\n",
    "\n",
    "\n",
    "\n",
    "\n",
    "* By using open CV:-\n",
    "\n",
    "\n",
    "OpenCV in python is a library which is used for computer vision, image processing and much more.  The imread(filepath) function is used to load an image from the file path specified. The .shape stores a tuple of height, width and no of channels for each pixel. The .shape[:2] will get the height and width of the image.\n",
    "\n",
    "To install OpenCV run the following command:\n",
    "\n",
    "pip install opencv-python"
   ]
  },
  {
   "cell_type": "markdown",
   "id": "06a033d2",
   "metadata": {},
   "source": [
    "# Q5. After making changes to an Image object, how could you save it as an image file?\n",
    "Ans:-\n",
    "    \n",
    "Store the changed image\n",
    "Store the newData into RGBA value and save the image as a png format(transparent image can’t be stored into jpg or jpeg format).\n",
    "\n",
    "rgba.putdata(newData)\n",
    "\n",
    "rgba.save(“transparent_image.png”, “PNG”)"
   ]
  },
  {
   "cell_type": "markdown",
   "id": "9a6b57a5",
   "metadata": {},
   "source": [
    "# Q6. What module contains Pillow’s shape-drawing code?\n",
    "Ans:-\n",
    "\n",
    "ImageDraw module of the Python image processing library Pillow (PIL) provides many methods for drawing figures, such as circles, squares, and straight lines"
   ]
  },
  {
   "cell_type": "markdown",
   "id": "b9eabc19",
   "metadata": {},
   "source": [
    "# Q7. Image objects do not have drawing methods. What kind of object does? How do you get this kind of object?\n",
    "Ans:-\n",
    "\n",
    "An object in digital image processing is an identifiable portion of an image that can be interpreted as a single unit. This computer graphics–related article is a stub."
   ]
  },
  {
   "cell_type": "code",
   "execution_count": null,
   "id": "e968fe80",
   "metadata": {},
   "outputs": [],
   "source": []
  }
 ],
 "metadata": {
  "kernelspec": {
   "display_name": "Python 3 (ipykernel)",
   "language": "python",
   "name": "python3"
  },
  "language_info": {
   "codemirror_mode": {
    "name": "ipython",
    "version": 3
   },
   "file_extension": ".py",
   "mimetype": "text/x-python",
   "name": "python",
   "nbconvert_exporter": "python",
   "pygments_lexer": "ipython3",
   "version": "3.9.7"
  }
 },
 "nbformat": 4,
 "nbformat_minor": 5
}
