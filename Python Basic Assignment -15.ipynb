{
 "cells": [
  {
   "cell_type": "markdown",
   "id": "ad1e8b15",
   "metadata": {},
   "source": [
    "# Python Basic Assignment -15"
   ]
  },
  {
   "cell_type": "markdown",
   "id": "fecdace2",
   "metadata": {},
   "source": [
    "# Q1. 1.How many seconds are in an hour? Use the interactive interpreter as a calculator and multiply the number of seconds in a minute (60) by the number of minutes in an hour (also 60).\n",
    "Ans:-\n",
    "\n",
    "60*60=3600"
   ]
  },
  {
   "cell_type": "markdown",
   "id": "ab8672ba",
   "metadata": {},
   "source": [
    "# Q2. Assign the result from the previous task (seconds in an hour) to a variable called seconds_per_hour.\n",
    "Ans:-\n",
    "    \n",
    "    seconds_per_hour=3600"
   ]
  },
  {
   "cell_type": "markdown",
   "id": "b2c1e1ec",
   "metadata": {},
   "source": [
    "# Q3. How many seconds do you think there are in a day? Make use of the variables seconds per hour and minutes per hour.\n",
    "Ans:-\n",
    "    \n",
    "seconds_in_day=seconds_per_hour*24\n",
    "\n",
    "=86400"
   ]
  },
  {
   "cell_type": "markdown",
   "id": "2d12ddf6",
   "metadata": {},
   "source": [
    "# Q4. Calculate seconds per day again, but this time save the result in a variable called seconds_per_day\n",
    "Ans:-\n",
    "\n",
    "seconds_per_day=seconds_per_hour*24\n",
    "\n",
    "\n",
    "seconds_per_day\n",
    "\n",
    "86400\n"
   ]
  },
  {
   "cell_type": "markdown",
   "id": "8f3f41af",
   "metadata": {},
   "source": [
    "# Q5. Divide seconds_per_day by seconds_per_hour. Use floating-point (/) division.\n",
    "Ans:-\n",
    "\n",
    "seconds_per_day/seconds_per_hour\n",
    "\n",
    "\n",
    "24"
   ]
  },
  {
   "cell_type": "markdown",
   "id": "2b25a8ff",
   "metadata": {},
   "source": [
    "# Q6. Divide seconds_per_day by seconds_per_hour, using integer (//) division. Did this number agree with the floating-point value from the previous question, aside from the final .0?\n",
    "Ans:-\n",
    "\n",
    "seconds_per_day // seconds_per_hour\n",
    "\n",
    "24"
   ]
  },
  {
   "cell_type": "markdown",
   "id": "404ade43",
   "metadata": {},
   "source": [
    "# Q7. Write a generator, genPrimes, that returns the sequence of prime numbers on successive calls to its next() method: 2, 3, 5, 7, 11, ...\n",
    "Ans:-\n",
    "\n"
   ]
  },
  {
   "cell_type": "code",
   "execution_count": 4,
   "id": "65ae1c87",
   "metadata": {},
   "outputs": [
    {
     "name": "stdout",
     "output_type": "stream",
     "text": [
      "2\n",
      "3\n",
      "5\n",
      "7\n",
      "11\n",
      "13\n",
      "17\n",
      "19\n",
      "23\n",
      "29\n"
     ]
    }
   ],
   "source": [
    "def genPrimes():\n",
    "    \n",
    "    primes = [ 2, 3, 5, 7, 11 ]\n",
    "    \n",
    "    def isPrimeNumber(n):\n",
    "        if n in primes:\n",
    "            return True\n",
    "        \n",
    "        for elem in primes:\n",
    "            if n % elem == 0:\n",
    "                return False\n",
    "                \n",
    "        primes.append(n)\n",
    "        return True\n",
    "    num = 1\n",
    "    while True:\n",
    "        num += 1\n",
    "        if isPrimeNumber(num):\n",
    "            next = num\n",
    "            yield next\n",
    "            num = next\n",
    "primeNumber = genPrimes()\n",
    "\n",
    "for i in range(10):\n",
    "    print(primeNumber.__next__())"
   ]
  },
  {
   "cell_type": "code",
   "execution_count": null,
   "id": "9c9379ab",
   "metadata": {},
   "outputs": [],
   "source": []
  }
 ],
 "metadata": {
  "kernelspec": {
   "display_name": "Python 3 (ipykernel)",
   "language": "python",
   "name": "python3"
  },
  "language_info": {
   "codemirror_mode": {
    "name": "ipython",
    "version": 3
   },
   "file_extension": ".py",
   "mimetype": "text/x-python",
   "name": "python",
   "nbconvert_exporter": "python",
   "pygments_lexer": "ipython3",
   "version": "3.9.7"
  }
 },
 "nbformat": 4,
 "nbformat_minor": 5
}
