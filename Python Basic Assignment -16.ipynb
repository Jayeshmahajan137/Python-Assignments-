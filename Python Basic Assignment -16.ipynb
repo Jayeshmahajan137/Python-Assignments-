{
 "cells": [
  {
   "cell_type": "markdown",
   "id": "2d2afe15",
   "metadata": {},
   "source": [
    "# Python Basic Assignment - 16"
   ]
  },
  {
   "cell_type": "markdown",
   "id": "1a38a6af",
   "metadata": {},
   "source": [
    "# Q1.Create a list called years_list, starting with the year of your birth, and each year thereafter until the year of your fifth birthday. For example, if you were born in 1980. the list would be years_list =\n",
    "[1980, 1981, 1982, 1983, 1984, 1985].\n",
    "Ans:-\n",
    "\n",
    "list=[1995,1996,1997,1998,1999]"
   ]
  },
  {
   "cell_type": "code",
   "execution_count": 1,
   "id": "d6ee8102",
   "metadata": {},
   "outputs": [
    {
     "data": {
      "text/plain": [
       "[1995, 1996, 1997, 1998, 1999]"
      ]
     },
     "execution_count": 1,
     "metadata": {},
     "output_type": "execute_result"
    }
   ],
   "source": [
    "year_list=[i for i in range (1995, 1995+5)]\n",
    "year_list"
   ]
  },
  {
   "cell_type": "markdown",
   "id": "756278ee",
   "metadata": {},
   "source": [
    "# Q2. In which year in years_list was your third birthday? Remember, you were 0 years of age for your first year.\n",
    "Ans:- 1998"
   ]
  },
  {
   "cell_type": "markdown",
   "id": "59af044d",
   "metadata": {},
   "source": [
    "# Q3.In the years list, which year were you the oldest?\n",
    "Ans:-\n",
    "    \n",
    "    max(year_list)"
   ]
  },
  {
   "cell_type": "markdown",
   "id": "4cb7b0d9",
   "metadata": {},
   "source": [
    "# Q4. Make a list called things with these three strings as elements: mozzarella, cinderella,salmonella\n",
    "Ans:-\n",
    "        "
   ]
  },
  {
   "cell_type": "code",
   "execution_count": 2,
   "id": "c57e1ba0",
   "metadata": {},
   "outputs": [],
   "source": [
    "things=[\"mozzarella\",\"cindrella\",\"salmonella\"]"
   ]
  },
  {
   "cell_type": "markdown",
   "id": "c13ad160",
   "metadata": {},
   "source": [
    "# Q5. Capitalize the element in things that refers to a person and then print the list. Did it change the element in the list?\n",
    "Ans:-\n"
   ]
  },
  {
   "cell_type": "code",
   "execution_count": 3,
   "id": "ac99ecfc",
   "metadata": {},
   "outputs": [
    {
     "name": "stdout",
     "output_type": "stream",
     "text": [
      "Mozzarella\n",
      "Cindrella\n",
      "Salmonella\n"
     ]
    }
   ],
   "source": [
    "for i in things:\n",
    "    print(i.capitalize())"
   ]
  },
  {
   "cell_type": "markdown",
   "id": "4363ed74",
   "metadata": {},
   "source": [
    "# Q6. Make a surprise list with the elements Groucho, Chico, and Harpo.\n"
   ]
  },
  {
   "cell_type": "code",
   "execution_count": 4,
   "id": "34dabea8",
   "metadata": {},
   "outputs": [],
   "source": [
    "surprise=[\"Groucho\",\" Chino\", \"Harpo\"]"
   ]
  },
  {
   "cell_type": "markdown",
   "id": "81fb0249",
   "metadata": {},
   "source": [
    "# Q7.Lowercase the last element of the surprise list, reverse it, and then capitalize it."
   ]
  },
  {
   "cell_type": "code",
   "execution_count": 6,
   "id": "4d7dc826",
   "metadata": {},
   "outputs": [
    {
     "data": {
      "text/plain": [
       "'harpo'"
      ]
     },
     "execution_count": 6,
     "metadata": {},
     "output_type": "execute_result"
    }
   ],
   "source": [
    "surprise[2].lower()"
   ]
  },
  {
   "cell_type": "code",
   "execution_count": 7,
   "id": "0470c1c1",
   "metadata": {},
   "outputs": [
    {
     "data": {
      "text/plain": [
       "'opraH'"
      ]
     },
     "execution_count": 7,
     "metadata": {},
     "output_type": "execute_result"
    }
   ],
   "source": [
    "surprise[-1][::-1]"
   ]
  },
  {
   "cell_type": "markdown",
   "id": "e20c1cf7",
   "metadata": {},
   "source": [
    "# Q8. Make an English-to-French dictionary called e2f and print it. Here are your starter words: dog is chien, cat is chat, and walrus is morse.\n"
   ]
  },
  {
   "cell_type": "code",
   "execution_count": 8,
   "id": "3fbcd952",
   "metadata": {},
   "outputs": [],
   "source": [
    "e2f={\"dog\":\"Chien\", \"cat\":\"Chat\",\"warlus\":'morse'}"
   ]
  },
  {
   "cell_type": "markdown",
   "id": "9f872fe9",
   "metadata": {},
   "source": [
    "# Q9. Write the French word for walrus in your three-word dictionary e2f."
   ]
  },
  {
   "cell_type": "code",
   "execution_count": 9,
   "id": "6d4153ab",
   "metadata": {},
   "outputs": [
    {
     "data": {
      "text/plain": [
       "'morse'"
      ]
     },
     "execution_count": 9,
     "metadata": {},
     "output_type": "execute_result"
    }
   ],
   "source": [
    "e2f[\"warlus\"]"
   ]
  },
  {
   "cell_type": "markdown",
   "id": "e68152ff",
   "metadata": {},
   "source": [
    "# Q10. Make a French-to-English dictionary called f2e from e2f. Use the items method."
   ]
  },
  {
   "cell_type": "code",
   "execution_count": 11,
   "id": "b867e8f2",
   "metadata": {},
   "outputs": [
    {
     "data": {
      "text/plain": [
       "{'Chien': 'dog', 'Chat': 'cat', 'morse': 'warlus'}"
      ]
     },
     "execution_count": 11,
     "metadata": {},
     "output_type": "execute_result"
    }
   ],
   "source": [
    "f2e=dict((key,value) for value ,key in e2f.items())\n",
    "f2e"
   ]
  },
  {
   "cell_type": "markdown",
   "id": "cf1618e1",
   "metadata": {},
   "source": [
    "# Q11.Print the English version of the French word chien using f2e."
   ]
  },
  {
   "cell_type": "code",
   "execution_count": 12,
   "id": "978d63be",
   "metadata": {},
   "outputs": [
    {
     "data": {
      "text/plain": [
       "'dog'"
      ]
     },
     "execution_count": 12,
     "metadata": {},
     "output_type": "execute_result"
    }
   ],
   "source": [
    "f2e[\"Chien\"]"
   ]
  },
  {
   "cell_type": "markdown",
   "id": "aa7b3f50",
   "metadata": {},
   "source": [
    "# Q12. Make and print a set of English words from the keys in e2f."
   ]
  },
  {
   "cell_type": "code",
   "execution_count": 13,
   "id": "33e4327f",
   "metadata": {},
   "outputs": [
    {
     "data": {
      "text/plain": [
       "dict_keys(['dog', 'cat', 'warlus'])"
      ]
     },
     "execution_count": 13,
     "metadata": {},
     "output_type": "execute_result"
    }
   ],
   "source": [
    "e2f.keys()"
   ]
  },
  {
   "cell_type": "markdown",
   "id": "f5186c4a",
   "metadata": {},
   "source": [
    "# Q13.Make a multilevel dictionary called life. Use these strings for the topmost keys: animals, plants,and other. Make the animals key refer to another dictionary with the keyscats, octopi, andemus. Make the cats key refer to a list of strings with the values &Henri, Grumpy, and LucyMake all the other keys refer to empty dictionaries."
   ]
  },
  {
   "cell_type": "code",
   "execution_count": 14,
   "id": "28e59ab0",
   "metadata": {},
   "outputs": [
    {
     "data": {
      "text/plain": [
       "{'animals': {'cat': ['Henri', 'Grumpy', 'Lucy'], 'octopi': '', 'emus': ''},\n",
       " 'plants': '',\n",
       " 'other': ''}"
      ]
     },
     "execution_count": 14,
     "metadata": {},
     "output_type": "execute_result"
    }
   ],
   "source": [
    "life ={'animals':{'cat':['Henri', 'Grumpy', 'Lucy'], 'octopi':'', 'emus':''},\n",
    "       'plants' :'',\n",
    "       'other' :'' }\n",
    "life"
   ]
  },
  {
   "cell_type": "markdown",
   "id": "fe7206e3",
   "metadata": {},
   "source": [
    "# Q14.Print the top-level keys of life."
   ]
  },
  {
   "cell_type": "code",
   "execution_count": 16,
   "id": "a9e299a5",
   "metadata": {},
   "outputs": [
    {
     "data": {
      "text/plain": [
       "dict_keys(['animals', 'plants', 'other'])"
      ]
     },
     "execution_count": 16,
     "metadata": {},
     "output_type": "execute_result"
    }
   ],
   "source": [
    "life.keys()"
   ]
  },
  {
   "cell_type": "markdown",
   "id": "21dcbc5f",
   "metadata": {},
   "source": [
    "# Q15.Print the keys for life[\"animals\"]."
   ]
  },
  {
   "cell_type": "code",
   "execution_count": 17,
   "id": "e7cfec5b",
   "metadata": {},
   "outputs": [
    {
     "data": {
      "text/plain": [
       "dict_keys(['cat', 'octopi', 'emus'])"
      ]
     },
     "execution_count": 17,
     "metadata": {},
     "output_type": "execute_result"
    }
   ],
   "source": [
    "life['animals'].keys()"
   ]
  },
  {
   "cell_type": "markdown",
   "id": "ca88677e",
   "metadata": {},
   "source": [
    "# Q16. Print the values for life[\"animals\"][\"cats\"]"
   ]
  },
  {
   "cell_type": "code",
   "execution_count": 19,
   "id": "d043f65c",
   "metadata": {},
   "outputs": [
    {
     "data": {
      "text/plain": [
       "['Henri', 'Grumpy', 'Lucy']"
      ]
     },
     "execution_count": 19,
     "metadata": {},
     "output_type": "execute_result"
    }
   ],
   "source": [
    "life['animals']['cat']"
   ]
  },
  {
   "cell_type": "code",
   "execution_count": null,
   "id": "e8743434",
   "metadata": {},
   "outputs": [],
   "source": []
  }
 ],
 "metadata": {
  "kernelspec": {
   "display_name": "Python 3 (ipykernel)",
   "language": "python",
   "name": "python3"
  },
  "language_info": {
   "codemirror_mode": {
    "name": "ipython",
    "version": 3
   },
   "file_extension": ".py",
   "mimetype": "text/x-python",
   "name": "python",
   "nbconvert_exporter": "python",
   "pygments_lexer": "ipython3",
   "version": "3.9.7"
  }
 },
 "nbformat": 4,
 "nbformat_minor": 5
}
