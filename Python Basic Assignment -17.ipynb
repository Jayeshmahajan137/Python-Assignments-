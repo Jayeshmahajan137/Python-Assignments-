{
 "cells": [
  {
   "cell_type": "markdown",
   "id": "7a625cfd",
   "metadata": {},
   "source": [
    "# python Basic Assignment-17"
   ]
  },
  {
   "cell_type": "markdown",
   "id": "5338cc07",
   "metadata": {},
   "source": [
    "# Q1.Assign the value 7 to the variable guess_me. Then, write the conditional tests (if, else, and elif) toprint the string too low if guess_me is less than 7, too high if greater than 7, and just right if equal to 7."
   ]
  },
  {
   "cell_type": "code",
   "execution_count": 5,
   "id": "9db8a4da",
   "metadata": {},
   "outputs": [
    {
     "name": "stdout",
     "output_type": "stream",
     "text": [
      "right\n"
     ]
    }
   ],
   "source": [
    "guess_me=7\n",
    "if guess_me<7:\n",
    "    print(\"low\")\n",
    "elif guess_me>7:\n",
    "        print(\"high\")\n",
    "elif guess_me==7:\n",
    "        print(\"right\")\n",
    "else:\n",
    "    print(\"Check the number\")\n",
    "    \n",
    "        \n"
   ]
  },
  {
   "cell_type": "markdown",
   "id": "083bf023",
   "metadata": {},
   "source": [
    "# Q2. Assign the value 7 to the variable guess_me and the value 1 to the variable start. Write a while loop that compares start with guess_me. Print too low if start is less than guess me. If start equals guess_me, print found it and exit the loop. If start is greater than guess_me, print oops and exit the loop. Increment start at the end of the loop."
   ]
  },
  {
   "cell_type": "code",
   "execution_count": null,
   "id": "5fb94a16",
   "metadata": {},
   "outputs": [],
   "source": [
    "guess_me=7\n",
    "start=1\n",
    "while start <guess_me:\n",
    "    print(\"too low\")\n",
    "\n",
    "if start==guess_me:\n",
    "    print(\"found it\")\n",
    "elif start>guess_me:\n",
    "    print(\"Oops\")\n",
    "\n",
    "    "
   ]
  },
  {
   "cell_type": "markdown",
   "id": "224e7a5b",
   "metadata": {},
   "source": [
    "# Q3.Print the following values of the list [3, 2, 1, 0] using a for loop."
   ]
  },
  {
   "cell_type": "code",
   "execution_count": 27,
   "id": "5114061b",
   "metadata": {},
   "outputs": [
    {
     "name": "stdout",
     "output_type": "stream",
     "text": [
      "[3, 2, 1, 0]\n"
     ]
    }
   ],
   "source": [
    "l=[]\n",
    "for i in range (0,4):\n",
    "    l.append(i)\n",
    "print(l[::-1])"
   ]
  },
  {
   "cell_type": "markdown",
   "id": "e91d1b7c",
   "metadata": {},
   "source": [
    "# Q4. Use a list comprehension to make a list of the even numbers in range(10)"
   ]
  },
  {
   "cell_type": "code",
   "execution_count": 28,
   "id": "ed3f0fee",
   "metadata": {},
   "outputs": [
    {
     "name": "stdout",
     "output_type": "stream",
     "text": [
      "0\n",
      "2\n",
      "4\n",
      "6\n",
      "8\n"
     ]
    },
    {
     "data": {
      "text/plain": [
       "[None, None, None, None, None]"
      ]
     },
     "execution_count": 28,
     "metadata": {},
     "output_type": "execute_result"
    }
   ],
   "source": [
    "[print(i) for (i) in range (0,10,2)]"
   ]
  },
  {
   "cell_type": "markdown",
   "id": "a1b91b18",
   "metadata": {},
   "source": [
    "# Q5. Use a dictionary comprehension to create the dictionary squares. Use range(10) to return the keys, and use the square of each key as its value."
   ]
  },
  {
   "cell_type": "code",
   "execution_count": 29,
   "id": "dacb8335",
   "metadata": {},
   "outputs": [
    {
     "data": {
      "text/plain": [
       "{0, 1, 4, 9, 16, 25, 36, 49, 64, 81}"
      ]
     },
     "execution_count": 29,
     "metadata": {},
     "output_type": "execute_result"
    }
   ],
   "source": [
    "{i**2 for i in range (10)}"
   ]
  },
  {
   "cell_type": "markdown",
   "id": "968586e7",
   "metadata": {},
   "source": [
    "# Q6. Construct the set odd from the odd numbers in the range using a set comprehension (10)."
   ]
  },
  {
   "cell_type": "code",
   "execution_count": 33,
   "id": "2b7ac91d",
   "metadata": {},
   "outputs": [],
   "source": [
    "set_odd=(print (i) for i in range (1,10,2))"
   ]
  },
  {
   "cell_type": "code",
   "execution_count": 34,
   "id": "ced3df39",
   "metadata": {},
   "outputs": [
    {
     "data": {
      "text/plain": [
       "<generator object <genexpr> at 0x0000015962001190>"
      ]
     },
     "execution_count": 34,
     "metadata": {},
     "output_type": "execute_result"
    }
   ],
   "source": [
    "set_odd"
   ]
  },
  {
   "cell_type": "markdown",
   "id": "851db087",
   "metadata": {},
   "source": [
    "# Q7.Use a generator comprehension to return the string Got and a number for the numbers in range(10). Iterate through this by using a for loop."
   ]
  },
  {
   "cell_type": "code",
   "execution_count": null,
   "id": "4f4d713a",
   "metadata": {},
   "outputs": [],
   "source": []
  },
  {
   "cell_type": "markdown",
   "id": "9b127667",
   "metadata": {},
   "source": [
    "# Q8.Define a function called good that returns the list [Harry, Ron, Hermione]"
   ]
  },
  {
   "cell_type": "code",
   "execution_count": 35,
   "id": "c1520cff",
   "metadata": {},
   "outputs": [],
   "source": [
    "def good(l):\n",
    "    return list (['Harry',\"Ron\", \"Hrmione\"])"
   ]
  },
  {
   "cell_type": "code",
   "execution_count": 36,
   "id": "95fd0148",
   "metadata": {},
   "outputs": [
    {
     "data": {
      "text/plain": [
       "['Harry', 'Ron', 'Hrmione']"
      ]
     },
     "execution_count": 36,
     "metadata": {},
     "output_type": "execute_result"
    }
   ],
   "source": [
    "good(l)"
   ]
  },
  {
   "cell_type": "markdown",
   "id": "326fec7a",
   "metadata": {},
   "source": [
    "# Q9. Define a generator function called get_odds that returns the odd numbers from range(10). Use a for loop to find and print the third value returned."
   ]
  },
  {
   "cell_type": "code",
   "execution_count": 40,
   "id": "f68527e0",
   "metadata": {},
   "outputs": [
    {
     "name": "stdout",
     "output_type": "stream",
     "text": [
      "1\n",
      "3\n",
      "5\n",
      "7\n",
      "9\n"
     ]
    }
   ],
   "source": [
    "def get_odds(n):\n",
    "    yield (n for n in range(10) if n % 2 != 0)\n",
    "for n in next(get_odds(n)):\n",
    "    print(n)"
   ]
  },
  {
   "cell_type": "markdown",
   "id": "f93a67c8",
   "metadata": {},
   "source": [
    "# Q10. Define an exception called OopsException. Raise this exception to see what happens. Then write the code to catch this exception and print \"Caught an oops\".\n",
    "Ans:-\n",
    "\n",
    "\n",
    "In Python, exceptions can be handled using a try statement. The critical operation which can raise an exception is placed inside the try clause. The code that handles the exceptions is written in the except clause. We can thus choose what operations to perform once we have caught the exception.\n"
   ]
  },
  {
   "cell_type": "markdown",
   "id": "699f7628",
   "metadata": {},
   "source": [
    "# Q11. Use zip() to make a dictionary called movies that pairs these lists: titles = ['Creature of Habit',\"Crewel Fate\"] and plots = ['A nun turns into a monster', 'A haunted yarn shop']."
   ]
  },
  {
   "cell_type": "code",
   "execution_count": 41,
   "id": "b6fa1b7b",
   "metadata": {},
   "outputs": [],
   "source": [
    "movies={\"titles\":['Creature of Habit',\"Crewel Fate\"], 'plots':['A nun turns into a monster', 'A haunted yarn shop']}"
   ]
  },
  {
   "cell_type": "code",
   "execution_count": 42,
   "id": "d7a15a01",
   "metadata": {},
   "outputs": [
    {
     "data": {
      "text/plain": [
       "{'titles': ['Creature of Habit', 'Crewel Fate'],\n",
       " 'plots': ['A nun turns into a monster', 'A haunted yarn shop']}"
      ]
     },
     "execution_count": 42,
     "metadata": {},
     "output_type": "execute_result"
    }
   ],
   "source": [
    "movies"
   ]
  },
  {
   "cell_type": "code",
   "execution_count": null,
   "id": "cf182c7b",
   "metadata": {},
   "outputs": [],
   "source": []
  }
 ],
 "metadata": {
  "kernelspec": {
   "display_name": "Python 3 (ipykernel)",
   "language": "python",
   "name": "python3"
  },
  "language_info": {
   "codemirror_mode": {
    "name": "ipython",
    "version": 3
   },
   "file_extension": ".py",
   "mimetype": "text/x-python",
   "name": "python",
   "nbconvert_exporter": "python",
   "pygments_lexer": "ipython3",
   "version": "3.9.7"
  }
 },
 "nbformat": 4,
 "nbformat_minor": 5
}
