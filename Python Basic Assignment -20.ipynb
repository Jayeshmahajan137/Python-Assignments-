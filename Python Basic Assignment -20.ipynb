{
 "cells": [
  {
   "cell_type": "markdown",
   "id": "c07819bb",
   "metadata": {},
   "source": [
    "# Python Basic Assignment -20"
   ]
  },
  {
   "cell_type": "markdown",
   "id": "d664bf41",
   "metadata": {},
   "source": [
    "# Q1.Set the variable test1 to the string 'This is a test of the emergency text system,' and save test1 to a file named test.txt."
   ]
  },
  {
   "cell_type": "code",
   "execution_count": 1,
   "id": "99f5bfa5",
   "metadata": {},
   "outputs": [],
   "source": [
    "test1 = 'This is a test of the emergency text system'\n",
    "with open('test.txt', 'w') as f:\n",
    "    f.write(test1)\n"
   ]
  },
  {
   "cell_type": "markdown",
   "id": "6c69d5ae",
   "metadata": {},
   "source": [
    "# Q2.Read the contents of the file test.txt into the variable test2. Is there a difference between test 1 and test 2?"
   ]
  },
  {
   "cell_type": "code",
   "execution_count": 2,
   "id": "6f7b8ae5",
   "metadata": {},
   "outputs": [
    {
     "name": "stdout",
     "output_type": "stream",
     "text": [
      "True\n"
     ]
    }
   ],
   "source": [
    "with open('test.txt', 'r') as f:\n",
    "    test2 = f.read()\n",
    "print(test1 == test2) # True\n"
   ]
  },
  {
   "cell_type": "markdown",
   "id": "613a5587",
   "metadata": {},
   "source": [
    "# Q3.Create a CSV file called books.csv by using these lines:\n",
    "title,author,year\n",
    "The Weirdstone of Brisingamen,Alan Garner,1960\n",
    "Perdido Street Station,China Miéville,2000\n",
    "Thud!,Terry Pratchett,2005\n",
    "The Spellman Files,Lisa Lutz,2007\n",
    "Small Gods,Terry Pratchett,1992\n",
    " "
   ]
  },
  {
   "cell_type": "code",
   "execution_count": 3,
   "id": "ef484038",
   "metadata": {},
   "outputs": [],
   "source": [
    "import csv\n",
    "\n",
    "books = [\n",
    "    {'title': 'The Weirdstone of Brisingamen', 'author': 'Alan Garner', 'year': 1960},\n",
    "    {'title': 'Perdido Street Station', 'author': 'China Miéville', 'year': 2000},\n",
    "    {'title': 'Thud!', 'author': 'Terry Pratchett', 'year': 2005},\n",
    "    {'title': 'The Spellman Files', 'author': 'Lisa Lutz', 'year': 2007},\n",
    "    {'title': 'Small Gods', 'author': 'Terry Pratchett', 'year': 1992},\n",
    "]\n",
    "\n",
    "with open('books.csv', 'w', newline='') as f:\n",
    "    writer = csv.DictWriter(f, fieldnames=['title', 'author', 'year'])\n",
    "    writer.writeheader()\n",
    "    for book in books:\n",
    "        writer.writerow(book)\n"
   ]
  },
  {
   "cell_type": "markdown",
   "id": "4aebf45e",
   "metadata": {},
   "source": [
    "# Q4.Use the sqlite3 module to create a SQLite database called books.db, and a table called books with these fields: title (text), author (text), and year (integer)."
   ]
  },
  {
   "cell_type": "code",
   "execution_count": 4,
   "id": "7437c96f",
   "metadata": {},
   "outputs": [],
   "source": [
    "import sqlite3\n",
    "\n",
    "conn = sqlite3.connect('books.db')\n",
    "c = conn.cursor()\n",
    "\n",
    "c.execute('CREATE TABLE books (title TEXT, author TEXT, year INTEGER)')\n",
    "\n",
    "conn.commit()\n",
    "conn.close()\n"
   ]
  },
  {
   "cell_type": "markdown",
   "id": "69686d91",
   "metadata": {},
   "source": [
    "# Q5. Read books.csv and insert its data into the book table."
   ]
  },
  {
   "cell_type": "code",
   "execution_count": 5,
   "id": "04ff5215",
   "metadata": {},
   "outputs": [],
   "source": [
    "import csv\n",
    "import sqlite3\n",
    "\n",
    "conn = sqlite3.connect('books.db')\n",
    "c = conn.cursor()\n",
    "\n",
    "with open('books.csv', 'r') as f:\n",
    "    reader = csv.DictReader(f)\n",
    "    for row in reader:\n",
    "        c.execute('INSERT INTO books VALUES (?, ?, ?)', (row['title'], row['author'], row['year']))\n",
    "\n",
    "conn.commit()\n",
    "conn.close()\n"
   ]
  },
  {
   "cell_type": "markdown",
   "id": "faf216bb",
   "metadata": {},
   "source": [
    "# Q6. Select and print the title column from the book table in alphabetical order."
   ]
  },
  {
   "cell_type": "code",
   "execution_count": 6,
   "id": "9e6d91a5",
   "metadata": {},
   "outputs": [
    {
     "name": "stdout",
     "output_type": "stream",
     "text": [
      "Perdido Street Station\n",
      "Small Gods\n",
      "The Spellman Files\n",
      "The Weirdstone of Brisingamen\n",
      "Thud!\n"
     ]
    }
   ],
   "source": [
    "import sqlite3\n",
    "\n",
    "conn = sqlite3.connect('books.db')\n",
    "c = conn.cursor()\n",
    "\n",
    "c.execute('SELECT title FROM books ORDER BY title')\n",
    "\n",
    "for row in c.fetchall():\n",
    "    print(row[0])\n",
    "\n",
    "conn.close()\n"
   ]
  },
  {
   "cell_type": "markdown",
   "id": "732763ef",
   "metadata": {},
   "source": [
    "# Q7. From the book table, select and print all columns in the order of publication."
   ]
  },
  {
   "cell_type": "code",
   "execution_count": 7,
   "id": "f200f36e",
   "metadata": {},
   "outputs": [
    {
     "name": "stdout",
     "output_type": "stream",
     "text": [
      "('The Weirdstone of Brisingamen', 'Alan Garner', 1960)\n",
      "('Small Gods', 'Terry Pratchett', 1992)\n",
      "('Perdido Street Station', 'China Miéville', 2000)\n",
      "('Thud!', 'Terry Pratchett', 2005)\n",
      "('The Spellman Files', 'Lisa Lutz', 2007)\n"
     ]
    }
   ],
   "source": [
    "import sqlite3\n",
    "\n",
    "conn = sqlite3.connect('books.db')\n",
    "c = conn.cursor()\n",
    "\n",
    "c.execute('SELECT * FROM books ORDER BY year')\n",
    "\n",
    "for row in c.fetchall():\n",
    "    print(row)\n",
    "\n",
    "conn.close()\n"
   ]
  },
  {
   "cell_type": "markdown",
   "id": "6af0fa0d",
   "metadata": {},
   "source": [
    "# Q8. . Use the sqlalchemy module to connect to the sqlite3 database books.db that you just made in exercise 6."
   ]
  },
  {
   "cell_type": "code",
   "execution_count": 8,
   "id": "e2fa9aa8",
   "metadata": {},
   "outputs": [
    {
     "name": "stdout",
     "output_type": "stream",
     "text": [
      "Perdido Street Station\n",
      "Small Gods\n",
      "The Spellman Files\n",
      "The Weirdstone of Brisingamen\n",
      "Thud!\n"
     ]
    }
   ],
   "source": [
    "from sqlalchemy import create_engine, Table, Column, Integer, String, MetaData\n",
    "\n",
    "engine = create_engine('sqlite:///books.db')\n",
    "\n",
    "metadata = MetaData()\n",
    "\n",
    "books = Table('books', metadata,\n",
    "              Column('title', String),\n",
    "              Column('author', String),\n",
    "              Column('year', Integer))\n",
    "\n",
    "conn = engine.connect()\n",
    "\n",
    "results = conn.execute(books.select().order_by('title'))\n",
    "\n",
    "for row in results:\n",
    "    print(row['title'])\n",
    "\n",
    "conn.close()\n"
   ]
  },
  {
   "cell_type": "markdown",
   "id": "e1f3c051",
   "metadata": {},
   "source": [
    "# Q9. Install the Redis server and the Python redis library (pip install redis) on your computer. Create a Redis hash called test with the fields count (1) and name ('Fester Bestertester'). Print all the fields for test."
   ]
  },
  {
   "cell_type": "code",
   "execution_count": null,
   "id": "ea9f55a4",
   "metadata": {},
   "outputs": [],
   "source": [
    "import redis\n",
    "\n",
    "r = redis.Redis(host='localhost', port=6379, db=0)\n",
    "\n",
    "r.hmset('test', {'count': 1, 'name': 'Fester Bestertester'})\n",
    "\n",
    "print(r.hgetall('test'))\n"
   ]
  },
  {
   "cell_type": "markdown",
   "id": "9e180d6c",
   "metadata": {},
   "source": [
    "# Q10.Increment the count field of test and print it."
   ]
  },
  {
   "cell_type": "code",
   "execution_count": null,
   "id": "07d167a7",
   "metadata": {},
   "outputs": [],
   "source": [
    "import redis\n",
    "\n",
    "r = redis.Redis(host='localhost', port=6379, db=0)\n",
    "\n",
    "r.hincrby('test', 'count', 1)\n",
    "\n",
    "print(r.hget('test', 'count'))\n"
   ]
  }
 ],
 "metadata": {
  "kernelspec": {
   "display_name": "Python 3 (ipykernel)",
   "language": "python",
   "name": "python3"
  },
  "language_info": {
   "codemirror_mode": {
    "name": "ipython",
    "version": 3
   },
   "file_extension": ".py",
   "mimetype": "text/x-python",
   "name": "python",
   "nbconvert_exporter": "python",
   "pygments_lexer": "ipython3",
   "version": "3.9.13"
  }
 },
 "nbformat": 4,
 "nbformat_minor": 5
}
