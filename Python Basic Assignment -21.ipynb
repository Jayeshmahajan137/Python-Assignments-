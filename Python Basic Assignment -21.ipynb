{
 "cells": [
  {
   "cell_type": "markdown",
   "id": "96f7f1a7",
   "metadata": {},
   "source": [
    "# Python Basic Assignment -21"
   ]
  },
  {
   "cell_type": "markdown",
   "id": "15161bc7",
   "metadata": {},
   "source": [
    "1. Add the current date to the text file today.txt as a string.\n",
    "\n",
    "2. Read the text file today.txt into the string today_string\n",
    "\n",
    "3. Parse the date from today_string.\n",
    "\n",
    "4. List the files in your current directory\n",
    "\n",
    "5. Create a list of all of the files in your parent directory (minimum five files should be\n",
    "   available).\n",
    "\n",
    "6. Use multiprocessing to create three separate processes. Make each one wait a random number of \n",
    "   seconds between one and five, print the current time, and then exit.\n",
    "\n",
    "7. Create a date object of your day of birth.\n",
    "\n",
    "8. What day of the week was your day of birth?\n",
    "\n",
    "9. When will you be (or when were you) 10,000 days old?\n"
   ]
  },
  {
   "cell_type": "code",
   "execution_count": null,
   "id": "cbfc85eb",
   "metadata": {},
   "outputs": [],
   "source": [
    "from datetime import date\n",
    "\n",
    "with open('today.txt', 'w') as file:\n",
    "    file.write(str(date.today()))\n"
   ]
  },
  {
   "cell_type": "code",
   "execution_count": null,
   "id": "105fb2b4",
   "metadata": {},
   "outputs": [],
   "source": [
    "with open('today.txt', 'r') as file:\n",
    "    today_string = file.read()\n"
   ]
  },
  {
   "cell_type": "code",
   "execution_count": null,
   "id": "ba71e72f",
   "metadata": {},
   "outputs": [],
   "source": [
    "from datetime import datetime\n",
    "\n",
    "parsed_date = datetime.strptime(today_string, '%Y-%m-%d')\n"
   ]
  },
  {
   "cell_type": "code",
   "execution_count": null,
   "id": "534f5bcf",
   "metadata": {},
   "outputs": [],
   "source": [
    "import os\n",
    "\n",
    "files_in_directory = os.listdir('.')\n",
    "print(files_in_directory)\n"
   ]
  },
  {
   "cell_type": "code",
   "execution_count": null,
   "id": "465799e6",
   "metadata": {},
   "outputs": [],
   "source": [
    "import os\n",
    "\n",
    "parent_directory = os.path.abspath(os.path.join(os.getcwd(), os.pardir))\n",
    "files_in_parent_directory = os.listdir(parent_directory)\n",
    "print(files_in_parent_directory)\n"
   ]
  },
  {
   "cell_type": "code",
   "execution_count": null,
   "id": "70378ca5",
   "metadata": {},
   "outputs": [],
   "source": [
    "import multiprocessing\n",
    "import random\n",
    "import time\n",
    "from datetime import datetime\n",
    "\n",
    "def print_time():\n",
    "    sleep_time = random.randint(1, 5)\n",
    "    time.sleep(sleep_time)\n",
    "    print(datetime.now())\n",
    "    \n",
    "if __name__ == '__main__':\n",
    "    for i in range(3):\n",
    "        process = multiprocessing.Process(target=print_time)\n",
    "        process.start()\n"
   ]
  },
  {
   "cell_type": "code",
   "execution_count": null,
   "id": "cec71192",
   "metadata": {},
   "outputs": [],
   "source": [
    "from datetime import date\n",
    "\n",
    "my_birthday = date(2000, 1, 1)\n"
   ]
  },
  {
   "cell_type": "code",
   "execution_count": null,
   "id": "e146e1f4",
   "metadata": {},
   "outputs": [],
   "source": [
    "from datetime import date\n",
    "\n",
    "my_birthday = date(2000, 1, 1)\n",
    "days_of_week = ['Monday', 'Tuesday', 'Wednesday', 'Thursday', 'Friday', 'Saturday', 'Sunday']\n",
    "day_of_week = days_of_week[my_birthday.weekday()]\n",
    "print(day_of_week)\n"
   ]
  },
  {
   "cell_type": "code",
   "execution_count": null,
   "id": "1f041c22",
   "metadata": {},
   "outputs": [],
   "source": [
    "from datetime import date, timedelta\n",
    "\n",
    "my_birthday = date(2000, 1, 1)\n",
    "ten_thousand_days = my_birthday + timedelta(days=10000)\n",
    "print(ten_thousand_days)\n"
   ]
  }
 ],
 "metadata": {
  "kernelspec": {
   "display_name": "Python 3 (ipykernel)",
   "language": "python",
   "name": "python3"
  },
  "language_info": {
   "codemirror_mode": {
    "name": "ipython",
    "version": 3
   },
   "file_extension": ".py",
   "mimetype": "text/x-python",
   "name": "python",
   "nbconvert_exporter": "python",
   "pygments_lexer": "ipython3",
   "version": "3.9.13"
  }
 },
 "nbformat": 4,
 "nbformat_minor": 5
}
