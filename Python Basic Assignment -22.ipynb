{
 "cells": [
  {
   "cell_type": "markdown",
   "id": "85c354dc",
   "metadata": {},
   "source": [
    "# Python Basic Assignment -22"
   ]
  },
  {
   "cell_type": "markdown",
   "id": "28be4de4",
   "metadata": {},
   "source": [
    "# 1. What is the result of the code, and explain?\n",
    "\n",
    "X = 'iNeuron'\n",
    "\n",
    "\n",
    "def func():\n",
    "    \n",
    "    \n",
    "    print(X)\n",
    "\n",
    "\n",
    "func()\n",
    "\n",
    "\n"
   ]
  },
  {
   "cell_type": "code",
   "execution_count": 4,
   "id": "e81e2b83",
   "metadata": {},
   "outputs": [
    {
     "name": "stdout",
     "output_type": "stream",
     "text": [
      "iNeuron\n"
     ]
    }
   ],
   "source": [
    "X = 'iNeuron'\n",
    "def func():\n",
    "    print(X)\n",
    "\n",
    "\n",
    "func()"
   ]
  },
  {
   "cell_type": "markdown",
   "id": "1e743ae0",
   "metadata": {},
   "source": [
    "The code defines a string variable named X with the value 'iNeuron' and then defines a function named func that prints the value of X. When the function is called using func(), it will print 'iNeuron' because the function is accessing the value of X from the global scope. Therefore, the output of the code will be 'iNeuron'."
   ]
  },
  {
   "cell_type": "markdown",
   "id": "c64cfc0b",
   "metadata": {},
   "source": [
    "# Q2. What is the result of the code, and explain?\n",
    "\n",
    "\n",
    "X = 'iNeuron'\n",
    "\n",
    "def func():\n",
    "\n",
    "    X = 'NI!'\n",
    "\n",
    "\n",
    "\n",
    "    func()\n",
    "\n",
    "print(X)\n"
   ]
  },
  {
   "cell_type": "code",
   "execution_count": 6,
   "id": "1ecce2d2",
   "metadata": {},
   "outputs": [
    {
     "name": "stdout",
     "output_type": "stream",
     "text": [
      "iNeuron\n"
     ]
    }
   ],
   "source": [
    ">>> X = 'iNeuron'\n",
    ">>> def func():\n",
    "    X = 'NI!'\n",
    "\n",
    "\n",
    ">>> func()\n",
    ">>> print(X)\n"
   ]
  },
  {
   "cell_type": "markdown",
   "id": "c86bf299",
   "metadata": {},
   "source": [
    "The result of the code will be 'iNeuron'.\n",
    "\n",
    "In this code, a variable X is initialized with a string 'iNeuron' outside the function func(). Then, inside the function func(), a new variable X is created with a string 'NI!', but this variable X is local to the function and does not affect the global variable X.\n",
    "\n",
    "When the func() is called, it creates the local variable X with the value 'NI!', but it does not print anything. Then, outside the function, print(X) is called, which prints the value of the global variable X, which is still 'iNeuron'."
   ]
  },
  {
   "cell_type": "markdown",
   "id": "fd0bb5bc",
   "metadata": {},
   "source": [
    "# Q3. What does this code print, and why?\n",
    "\n",
    "\n",
    "X = 'iNeuron'\n",
    "\n",
    "def func():\n",
    "\n",
    "X = 'NI'\n",
    "\n",
    "print(X)\n",
    "\n",
    "\n",
    "\n",
    "func()\n",
    "\n",
    "print(X)\n"
   ]
  },
  {
   "cell_type": "code",
   "execution_count": 16,
   "id": "249a00fd",
   "metadata": {},
   "outputs": [
    {
     "name": "stdout",
     "output_type": "stream",
     "text": [
      "iNeuron\n",
      "iNeuron\n"
     ]
    }
   ],
   "source": [
    "X = 'iNeuron'\n",
    "def func():\n",
    "    X = 'NI'\n",
    "print(X)\n",
    "\n",
    "\n",
    "\n",
    "func()\n",
    "\n",
    "print(X)\n"
   ]
  },
  {
   "cell_type": "markdown",
   "id": "3929c7ab",
   "metadata": {},
   "source": [
    "The code will print \"NI\" followed by \"iNeuron\" in separate lines.\n",
    "\n",
    "When the func() is called, it sets the value of X to \"NI\" and prints it. This is because the variable X inside the function refers to a local variable with the same name, which has a different scope than the global variable X. The global variable X is still assigned the string 'iNeuron' because it has not been modified inside the function.\n",
    "\n",
    "When print(X) is called outside of the function, it prints the value of the global variable X, which is still 'iNeuron'."
   ]
  },
  {
   "cell_type": "markdown",
   "id": "0c5ae603",
   "metadata": {},
   "source": [
    "# Q4. What output does this code produce? Why?\n",
    "\n",
    "\n",
    "X = 'iNeuron'\n",
    " \n",
    " def func():\n",
    "\n",
    "global X\n",
    "\n",
    "X = 'NI'\n",
    "\n",
    "\n",
    " func()\n",
    " \n",
    " print(X)\n"
   ]
  },
  {
   "cell_type": "code",
   "execution_count": 19,
   "id": "7855b865",
   "metadata": {},
   "outputs": [
    {
     "name": "stdout",
     "output_type": "stream",
     "text": [
      "NI\n"
     ]
    }
   ],
   "source": [
    "X = 'iNeuron'\n",
    "def func():\n",
    "    global X\n",
    "X = 'NI'\n",
    "\n",
    "\n",
    "func()\n",
    "print(X)\n"
   ]
  },
  {
   "cell_type": "markdown",
   "id": "5ea7385b",
   "metadata": {},
   "source": [
    "The output of the code will be \"NI\".\n",
    "\n",
    "In the function func(), the global keyword is used to declare X as a global variable, which means that any changes made to it within the function will affect the global variable outside the function as well. When the function is called, it assigns the string \"NI\" to the global variable X.\n",
    "\n",
    "After the function call, print(X) prints the value of the global variable X, which has been changed to \"NI\" by the function."
   ]
  },
  {
   "cell_type": "markdown",
   "id": "6b77c06d",
   "metadata": {},
   "source": [
    "# Q5. What about this code—what’s the output, and why?\n",
    "\n",
    "\n",
    "\n",
    "X = 'iNeuron'\n",
    " \n",
    "def func():\n",
    "\n",
    "    X = 'NI'\n",
    "\n",
    "    def nested():\n",
    "\n",
    "        print(X)\n",
    "\n",
    "        nested()\n",
    "\n",
    "func()\n",
    "\n",
    "X\n"
   ]
  },
  {
   "cell_type": "code",
   "execution_count": 25,
   "id": "ad61b2fb",
   "metadata": {},
   "outputs": [
    {
     "name": "stdout",
     "output_type": "stream",
     "text": [
      "iNeuron\n"
     ]
    },
    {
     "data": {
      "text/plain": [
       "'iNeuron'"
      ]
     },
     "execution_count": 25,
     "metadata": {},
     "output_type": "execute_result"
    }
   ],
   "source": [
    "X = 'iNeuron'\n",
    "def func():\n",
    "    X = 'NI'\n",
    "def nested():\n",
    "    print(X)\n",
    "\n",
    "    \n",
    "nested()\n",
    "func()\n",
    "X\n",
    "\n"
   ]
  },
  {
   "cell_type": "markdown",
   "id": "31237139",
   "metadata": {},
   "source": [
    "The output of the first part, func(), will be \"NI\" because the nested() function is called inside func() and it prints the value of X, which is \"NI\" in the local scope of func().\n",
    "\n",
    "However, the second part, print(X), will print \"iNeuron\" because X was only changed in the local scope of func(), and the global value of X remains \"iNeuron\"."
   ]
  },
  {
   "cell_type": "markdown",
   "id": "b895bd53",
   "metadata": {},
   "source": [
    "# Q6. How about this code: what is its output in Python 3, and explain?\n",
    "\n",
    "\n",
    "def func():\n",
    "\n",
    "    X = 'NI'\n",
    "\n",
    "    def nested():\n",
    "\n",
    "        nonlocal X\n",
    "\n",
    "        X = 'Spam'\n",
    "\n",
    "        nested()\n",
    "\n",
    "        print(X)\n",
    "\n",
    "\n",
    "func()\n",
    "\n"
   ]
  },
  {
   "cell_type": "code",
   "execution_count": 34,
   "id": "ef5fde6b",
   "metadata": {},
   "outputs": [],
   "source": [
    "def func():\n",
    "    X = 'NI'\n",
    "    def nested():\n",
    "        nonlocal X\n",
    "        X = 'Spam'\n",
    "        nested()\n",
    "        print(X)\n",
    "\n",
    "func()\n"
   ]
  },
  {
   "cell_type": "markdown",
   "id": "1bc0f9f2",
   "metadata": {},
   "source": [
    "This code will output Spam.\n",
    "\n",
    "In Python, the nonlocal keyword is used to refer to a variable defined in the nearest enclosing scope that is not global. In this code, X is defined in the enclosing scope of nested, but not in the scope of func. By using the nonlocal keyword, the nested function is able to modify the value of X in the func scope.\n",
    "\n",
    "When func is called, the nested function is called, which modifies X to the value 'Spam'. Then, when func continues to execute, it prints the value of X, which is 'Spam'."
   ]
  },
  {
   "cell_type": "code",
   "execution_count": null,
   "id": "82211ce2",
   "metadata": {},
   "outputs": [],
   "source": []
  }
 ],
 "metadata": {
  "kernelspec": {
   "display_name": "Python 3 (ipykernel)",
   "language": "python",
   "name": "python3"
  },
  "language_info": {
   "codemirror_mode": {
    "name": "ipython",
    "version": 3
   },
   "file_extension": ".py",
   "mimetype": "text/x-python",
   "name": "python",
   "nbconvert_exporter": "python",
   "pygments_lexer": "ipython3",
   "version": "3.9.13"
  }
 },
 "nbformat": 4,
 "nbformat_minor": 5
}
