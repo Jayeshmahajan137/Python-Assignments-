{
 "cells": [
  {
   "cell_type": "markdown",
   "id": "4345fd66",
   "metadata": {},
   "source": [
    "# Python Basic Assignment -23"
   ]
  },
  {
   "cell_type": "markdown",
   "id": "fc75fe5b",
   "metadata": {},
   "source": [
    "# Q1. 1. What is the result of the code, and why?\n",
    "\n"
   ]
  },
  {
   "cell_type": "code",
   "execution_count": 3,
   "id": "993ea1ba",
   "metadata": {},
   "outputs": [],
   "source": [
    "def func(a,b=6, c=8):\n",
    "    print(a,b,c)\n"
   ]
  },
  {
   "cell_type": "code",
   "execution_count": 4,
   "id": "f708ff13",
   "metadata": {},
   "outputs": [
    {
     "name": "stdout",
     "output_type": "stream",
     "text": [
      "1 2 8\n"
     ]
    }
   ],
   "source": [
    "func(1,2)"
   ]
  },
  {
   "cell_type": "markdown",
   "id": "6d54dfb4",
   "metadata": {},
   "source": [
    "# Q2. What is the result of the code, and why?"
   ]
  },
  {
   "cell_type": "code",
   "execution_count": 16,
   "id": "611b4114",
   "metadata": {},
   "outputs": [],
   "source": [
    "def fun(a,b,c):\n",
    "    print(a,b,c=5)"
   ]
  },
  {
   "cell_type": "code",
   "execution_count": 17,
   "id": "bbcbb7d1",
   "metadata": {},
   "outputs": [
    {
     "ename": "NameError",
     "evalue": "name 'a' is not defined",
     "output_type": "error",
     "traceback": [
      "\u001b[1;31m---------------------------------------------------------------------------\u001b[0m",
      "\u001b[1;31mNameError\u001b[0m                                 Traceback (most recent call last)",
      "\u001b[1;32m~\\AppData\\Local\\Temp/ipykernel_2240/1961256034.py\u001b[0m in \u001b[0;36m<module>\u001b[1;34m\u001b[0m\n\u001b[1;32m----> 1\u001b[1;33m \u001b[0mfun\u001b[0m\u001b[1;33m(\u001b[0m\u001b[0ma\u001b[0m\u001b[1;33m,\u001b[0m\u001b[0mb\u001b[0m\u001b[1;33m,\u001b[0m\u001b[0mc\u001b[0m\u001b[1;33m)\u001b[0m\u001b[1;33m\u001b[0m\u001b[1;33m\u001b[0m\u001b[0m\n\u001b[0m",
      "\u001b[1;31mNameError\u001b[0m: name 'a' is not defined"
     ]
    }
   ],
   "source": [
    "fun(a,b,c)"
   ]
  },
  {
   "cell_type": "markdown",
   "id": "f7275378",
   "metadata": {},
   "source": [
    "# Q3. How about this code: what is its result, and why?"
   ]
  },
  {
   "cell_type": "code",
   "execution_count": 18,
   "id": "d69c92cf",
   "metadata": {},
   "outputs": [],
   "source": [
    "def fun(a, *args):\n",
    "    print(a, args)"
   ]
  },
  {
   "cell_type": "code",
   "execution_count": 19,
   "id": "04b78164",
   "metadata": {},
   "outputs": [
    {
     "name": "stdout",
     "output_type": "stream",
     "text": [
      "1 (2, 3)\n"
     ]
    }
   ],
   "source": [
    "# here functione automatically considered the value of a as 1\n",
    "\n",
    "fun(1,2,3)"
   ]
  },
  {
   "cell_type": "markdown",
   "id": "4e949181",
   "metadata": {},
   "source": [
    "# Q4. What does this code print, and why?"
   ]
  },
  {
   "cell_type": "code",
   "execution_count": 20,
   "id": "ff421dd6",
   "metadata": {},
   "outputs": [],
   "source": [
    "def fun(a, **kwargs):\n",
    "    print(a,kwargs)"
   ]
  },
  {
   "cell_type": "code",
   "execution_count": 21,
   "id": "c0c71ecf",
   "metadata": {},
   "outputs": [
    {
     "name": "stdout",
     "output_type": "stream",
     "text": [
      "1 {'b': 2, 'c': 3}\n"
     ]
    }
   ],
   "source": [
    "fun(a=1,b=2,c=3)"
   ]
  },
  {
   "cell_type": "markdown",
   "id": "2a37090e",
   "metadata": {},
   "source": [
    "# Q5. What gets printed by this, and explain?"
   ]
  },
  {
   "cell_type": "code",
   "execution_count": 22,
   "id": "f7cde1dd",
   "metadata": {},
   "outputs": [],
   "source": [
    "def fun(a,b,c=8,d=5):\n",
    "    print(a,b,c,d)"
   ]
  },
  {
   "cell_type": "code",
   "execution_count": 23,
   "id": "d3bd2a59",
   "metadata": {},
   "outputs": [
    {
     "name": "stdout",
     "output_type": "stream",
     "text": [
      "1 5 6 5\n"
     ]
    }
   ],
   "source": [
    "fun(1,*(5,6))"
   ]
  },
  {
   "cell_type": "code",
   "execution_count": null,
   "id": "22b63990",
   "metadata": {},
   "outputs": [],
   "source": []
  }
 ],
 "metadata": {
  "kernelspec": {
   "display_name": "Python 3 (ipykernel)",
   "language": "python",
   "name": "python3"
  },
  "language_info": {
   "codemirror_mode": {
    "name": "ipython",
    "version": 3
   },
   "file_extension": ".py",
   "mimetype": "text/x-python",
   "name": "python",
   "nbconvert_exporter": "python",
   "pygments_lexer": "ipython3",
   "version": "3.9.7"
  }
 },
 "nbformat": 4,
 "nbformat_minor": 5
}
