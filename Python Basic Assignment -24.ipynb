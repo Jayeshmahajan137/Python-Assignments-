{
 "cells": [
  {
   "cell_type": "markdown",
   "id": "b5db9b5a",
   "metadata": {},
   "source": [
    "# Python Basic Assignment 24"
   ]
  },
  {
   "cell_type": "markdown",
   "id": "155b8dba",
   "metadata": {},
   "source": [
    "# Q1. What is the relationship between def statements and lambda expressions ?\n",
    "Ans:-\n",
    "    \n",
    "*def defined functions:-\n",
    "\n",
    "1. Are easy to interpret\n",
    "\n",
    "\n",
    "2. Can consists of any number of execution statements inside the function definition\n",
    "\n",
    "\n",
    "*lambda defined functions:-\n",
    "\n",
    "\n",
    "1. Interpretation might be tricky\n",
    "\n",
    "\n",
    "2. The limited operation can be performed using lambda functions\n",
    "\n",
    "    "
   ]
  },
  {
   "cell_type": "markdown",
   "id": "6c0f58fd",
   "metadata": {},
   "source": [
    "# Q2. What is the benefit of lambda?\n",
    "Ans:-\n",
    "   \n",
    "   Lambda functions are used when you need a function for a short period of time. This is commonly used when you want to pass a function as an argument to higher-order functions, that is, functions that take other functions as their arguments.\n",
    "   \n",
    "   AWS Lambda allows you to integrate your application server needs with mass-mailing services such as SES. Thus, you can consolidate more of the functionality your team requires to operate under one house. This not only reduces administrative costs but also makes your team's workflow more streamlined and efficient."
   ]
  },
  {
   "cell_type": "markdown",
   "id": "7548f9a2",
   "metadata": {},
   "source": [
    "# Q3. Compare and contrast map, filter, and reduce.\n",
    "Ans:-\n",
    "\n",
    "*The map() Function:-\n",
    "\n",
    "\n",
    "The map() function iterates through all items in the given iterable and executes the function we passed as an argument on each of them.\n",
    "\n",
    "*The filter() Function:-\n",
    "\n",
    "\n",
    "Similar to map(), filter() takes a function object and an iterable and creates a new list.\n",
    "\n",
    "As the name suggests, filter() forms a new list that contains only elements that satisfy a certain condition, i.e. the function we passed returns True.\n",
    "\n",
    "\n",
    "*The reduce() Function:-\n",
    "\n",
    "\n",
    "\n",
    "reduce() works differently than map() and filter(). It does not return a new list based on the function and iterable we've passed. Instead, it returns a single value.\n",
    "\n",
    "Also, in Python 3 reduce() isn't a built-in function anymore, and it can be found in the functools module."
   ]
  },
  {
   "cell_type": "markdown",
   "id": "2d73b571",
   "metadata": {},
   "source": [
    "# Q4. What are function annotations, and how are they used?\n",
    "Ans:-\n",
    "   \n",
    "*Function annotations are:-\n",
    "\n",
    "Function annotations are arbitrary python expressions that are associated with various part of functions. These expressions are evaluated at compile time and have no life in python’s runtime environment. Python does not attach any meaning to these annotations. They take life when interpreted by third party libraries, for example, mypy.\n",
    "\n",
    "*Purpose of function annotations:-\n",
    "\n",
    "\n",
    "The benefits from function annotations can only be reaped via third party libraries. The type of benefits depends upon the type of the library, for example\n",
    "\n",
    "Python supports dynamic typing and hence no module is provided for type checking. Annotations like-\n",
    "\n",
    "\n",
    "[def foo(a:”int”, b:”float”=5.0)  -> ”int”]\n",
    "\n",
    "syntex can be used to collect information about the type of the parameters and the return type of the function to keep track of the type change occurring in the function. ‘mypy’ is one such library.\n",
    "\n",
    "String based annotations can be used by the libraries to provide better help messages at compile time regarding the functionalities of various methods, classes and modules."
   ]
  },
  {
   "cell_type": "markdown",
   "id": "287390be",
   "metadata": {},
   "source": [
    "# Q5. What are recursive functions, and how are they used?\n",
    "Ans:-\n",
    "\n",
    "Recursion:-\n",
    "    \n",
    "    \n",
    "    \n",
    "In programming terms, a recursive function can be defined as a routine that calls itself directly or indirectly.\n",
    "Using the recursive algorithm, certain problems can be solved quite easily. Towers of Hanoi (TOH) is one such programming exercise. Try to write an iterative algorithm for TOH. Moreover, every recursive program can be written using iterative methods.\n",
    "Mathematically, recursion helps to solve a few puzzles easily.\n",
    "For example, a routine interview question,\n",
    "In a party of N people, each person will shake her/his hand with each other person only once. In total how many hand-shakes would happen?\n",
    " "
   ]
  },
  {
   "cell_type": "markdown",
   "id": "09674748",
   "metadata": {},
   "source": [
    "# Q6. What are some general design guidelines for coding functions?\n",
    "Ans:-\n",
    "\n",
    "Wrap lines so that they don't exceed 79 characters : The Python standard library is conservative and requires limiting lines to 79 characters. The lines can be wrapped using parenthesis, brackets, and braces. They should be used in preference to backslashes."
   ]
  },
  {
   "cell_type": "markdown",
   "id": "c5c773ec",
   "metadata": {},
   "source": [
    "# Q7. Name three or more ways that functions can communicate results to a caller.\n",
    "Ans:-\n",
    "    \n",
    " Well if the function does not have any arguments, then to call a function you can directly use its name. But for functions with arguments, we can call a function in two different ways, based on how we specify the arguments, and these two ways are: Call by Value. Call by Reference."
   ]
  },
  {
   "cell_type": "code",
   "execution_count": null,
   "id": "0a628a8a",
   "metadata": {},
   "outputs": [],
   "source": []
  }
 ],
 "metadata": {
  "kernelspec": {
   "display_name": "Python 3 (ipykernel)",
   "language": "python",
   "name": "python3"
  },
  "language_info": {
   "codemirror_mode": {
    "name": "ipython",
    "version": 3
   },
   "file_extension": ".py",
   "mimetype": "text/x-python",
   "name": "python",
   "nbconvert_exporter": "python",
   "pygments_lexer": "ipython3",
   "version": "3.9.7"
  }
 },
 "nbformat": 4,
 "nbformat_minor": 5
}
