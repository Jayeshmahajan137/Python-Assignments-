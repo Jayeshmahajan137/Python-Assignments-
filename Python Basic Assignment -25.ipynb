{
 "cells": [
  {
   "cell_type": "markdown",
   "id": "6325ad82",
   "metadata": {},
   "source": [
    "# Python Basic Assignment -25"
   ]
  },
  {
   "cell_type": "markdown",
   "id": "972f5715",
   "metadata": {},
   "source": [
    "# Q1. What is the difference between enclosing a list comprehension in square brackets and parentheses?\n",
    "Ans:-\n",
    "\n",
    "The difference between the two kinds of expressions is that the List comprehension is enclosed in square brackets [] while the Generator expression is enclosed in plain parentheses ()."
   ]
  },
  {
   "cell_type": "markdown",
   "id": "63704452",
   "metadata": {},
   "source": [
    "# Q2. What is the relationship between generators and iterators?\n",
    "Ans:-\n",
    "\n",
    "Iterators:-\n",
    "\n",
    "Iterators are used mostly to iterate or convert other objects to an iterator using iter() function.\n",
    "\n",
    "\n",
    "generators:-\n",
    "\n",
    "\n",
    "Generators are mostly used in loops to generate an iterator by returning all the values in the loop without affecting the iteration of the loop"
   ]
  },
  {
   "cell_type": "markdown",
   "id": "aa081b8c",
   "metadata": {},
   "source": [
    "# Q3. What are the signs that a function is a generator function?\n",
    "Ans:-\n",
    "    \n",
    "  If a function contains at least one yield statement (it may contain other yield or return statements), it becomes a generator function. Both yield and return will return some value from a function."
   ]
  },
  {
   "cell_type": "markdown",
   "id": "030eec65",
   "metadata": {},
   "source": [
    "# Q4. What is the purpose of a yield statement?\n",
    "Ans:-\n",
    "   The yield statement returns a generator object to the one who calls the function which contains yield, instead of simply returning a value\n",
    "   \n",
    "   Using yield will improve the memory efficiency — \n",
    "   \n",
    "   and subsequently, the speed/performance — when looping over a large iterable. These benefits will be less pronounced for small data sets; however, as data grows so too does the benefit of using yield"
   ]
  },
  {
   "cell_type": "markdown",
   "id": "fc4123ca",
   "metadata": {},
   "source": [
    "# Q5. What is the relationship between map calls and list comprehensions? Make a comparison and contrast between the two.\n",
    "Ans:-\n",
    "\n",
    "\n",
    "List comprehension is more concise and easier to read as compared to map. List comprehension are used when a list of results is required as map only returns a map object and does not return any list. Map is faster in case of calling an already defined function (as no lambda is required)\n",
    "\n",
    "Use a map when you want your data structure to represent a mapping for keys to values. Use a list when you want your data to be stored in an arbitrary, ordered format"
   ]
  },
  {
   "cell_type": "code",
   "execution_count": null,
   "id": "2dadadba",
   "metadata": {},
   "outputs": [],
   "source": []
  }
 ],
 "metadata": {
  "kernelspec": {
   "display_name": "Python 3 (ipykernel)",
   "language": "python",
   "name": "python3"
  },
  "language_info": {
   "codemirror_mode": {
    "name": "ipython",
    "version": 3
   },
   "file_extension": ".py",
   "mimetype": "text/x-python",
   "name": "python",
   "nbconvert_exporter": "python",
   "pygments_lexer": "ipython3",
   "version": "3.9.7"
  }
 },
 "nbformat": 4,
 "nbformat_minor": 5
}
