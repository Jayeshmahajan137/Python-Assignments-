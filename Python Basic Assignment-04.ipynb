{
 "cells": [
  {
   "cell_type": "markdown",
   "id": "7743ec83",
   "metadata": {},
   "source": [
    "# Python Basic Assignment -04"
   ]
  },
  {
   "cell_type": "markdown",
   "id": "2b23f8be",
   "metadata": {},
   "source": [
    "# Q1.What exactly is []?\n",
    "Ans:-\n",
    "   it is the square bracket used to represent list."
   ]
  },
  {
   "cell_type": "markdown",
   "id": "dc0f5a03",
   "metadata": {},
   "source": [
    "# Q2. In a list of values stored in a variable called spam, how would you assign the value &#39;hello&#39; as the\n",
    "third value? (Assume [2, 4, 6, 8, 10] are in spam.)"
   ]
  },
  {
   "cell_type": "code",
   "execution_count": 4,
   "id": "d34a5ae7",
   "metadata": {},
   "outputs": [
    {
     "data": {
      "text/plain": [
       "[2, 4, 'hello', 8, 10]"
      ]
     },
     "execution_count": 4,
     "metadata": {},
     "output_type": "execute_result"
    }
   ],
   "source": [
    "spam=[2,4,6,8,10]\n",
    "spam[2]=\"hello\"\n",
    "spam"
   ]
  },
  {
   "cell_type": "markdown",
   "id": "dc223dfb",
   "metadata": {},
   "source": [
    "# Q3. Let&#39;s pretend the spam includes the list [&#39;a&#39;, &#39;b&#39;, &#39;c&#39;, &#39;d&#39;] for the next three queries.\n",
    "3. What is the value of spam[int(int(\"3\" * 2) / 11)]?\n",
    "4. What is the value of spam[-1]?\n",
    "5. What is the value of spam[:2]?"
   ]
  },
  {
   "cell_type": "code",
   "execution_count": 5,
   "id": "812a41e8",
   "metadata": {},
   "outputs": [
    {
     "data": {
      "text/plain": [
       "'d'"
      ]
     },
     "execution_count": 5,
     "metadata": {},
     "output_type": "execute_result"
    }
   ],
   "source": [
    "spam=[\"a\",\"b\",\"c\", \"d\"]\n",
    "spam[int(int(\"3\"*2)/11)]"
   ]
  },
  {
   "cell_type": "code",
   "execution_count": 6,
   "id": "111c548e",
   "metadata": {},
   "outputs": [
    {
     "data": {
      "text/plain": [
       "'d'"
      ]
     },
     "execution_count": 6,
     "metadata": {},
     "output_type": "execute_result"
    }
   ],
   "source": [
    "spam[-1]"
   ]
  },
  {
   "cell_type": "code",
   "execution_count": 7,
   "id": "957fcb18",
   "metadata": {},
   "outputs": [
    {
     "data": {
      "text/plain": [
       "['a', 'b']"
      ]
     },
     "execution_count": 7,
     "metadata": {},
     "output_type": "execute_result"
    }
   ],
   "source": [
    "spam[:2]"
   ]
  },
  {
   "cell_type": "markdown",
   "id": "0dd13243",
   "metadata": {},
   "source": [
    "# Q4. Let&#39;s pretend bacon has the list [3.14, \"cat\",11,\"cat\", True] for the next three questions.\n",
    "6. What is the value of bacon.index(cat)?\n",
    "7. How does bacon.append(99) change the look of the list value in bacon?\n",
    "8. How does bacon.remove(\"cat\") change the look of the list in bacon?"
   ]
  },
  {
   "cell_type": "code",
   "execution_count": 8,
   "id": "481e0874",
   "metadata": {},
   "outputs": [
    {
     "data": {
      "text/plain": [
       "1"
      ]
     },
     "execution_count": 8,
     "metadata": {},
     "output_type": "execute_result"
    }
   ],
   "source": [
    "bacon=[3.14,\"cat\",11,\"cat\", True]\n",
    "bacon.index(\"cat\")"
   ]
  },
  {
   "cell_type": "code",
   "execution_count": 12,
   "id": "9b79e83f",
   "metadata": {},
   "outputs": [
    {
     "data": {
      "text/plain": [
       "[3.14, 'cat', 11, 'cat', True, 99, 99, 99, 99]"
      ]
     },
     "execution_count": 12,
     "metadata": {},
     "output_type": "execute_result"
    }
   ],
   "source": [
    "bacon.append(99)\n",
    "bacon"
   ]
  },
  {
   "cell_type": "code",
   "execution_count": 13,
   "id": "47b1c79f",
   "metadata": {},
   "outputs": [
    {
     "data": {
      "text/plain": [
       "[3.14, 11, 'cat', True, 99, 99, 99, 99]"
      ]
     },
     "execution_count": 13,
     "metadata": {},
     "output_type": "execute_result"
    }
   ],
   "source": [
    "bacon.remove(\"cat\")\n",
    "bacon"
   ]
  },
  {
   "cell_type": "markdown",
   "id": "833fab18",
   "metadata": {},
   "source": [
    "# Q5. What are the list concatenation and list replication operators?\n",
    "Ans:-\n",
    "The operator for list concatenation is +, while the operator for replication is *."
   ]
  },
  {
   "cell_type": "markdown",
   "id": "f306d01b",
   "metadata": {},
   "source": [
    "# Q6. What is difference between the list methods append() and insert()?\n",
    "Ans:-\n",
    "    append()--append the values at last index\n",
    "   \n",
    "   \n",
    "   \n",
    "   insert()---insert the values at required index "
   ]
  },
  {
   "cell_type": "markdown",
   "id": "04592408",
   "metadata": {},
   "source": [
    "# Q7. What are the two methods for removing items from a list?\n",
    "Ans:-\n",
    "  \n",
    "  \n",
    "  The methods are remove(), pop() and clear(). It helps to remove the very first given element matching from the list. The pop() method removes an element from the list based on the index given. The clear() method will remove all the elements present in the list."
   ]
  },
  {
   "cell_type": "markdown",
   "id": "6071e3c9",
   "metadata": {},
   "source": [
    "# Q8. Describe how list values and string values are identical.\n",
    "Ans:-\n",
    "\n",
    "    \n",
    " The similarity between Lists and Strings in Python is that both are sequences. The differences between them are that firstly, Lists are mutable but Strings are immutable. Secondly, elements of a list can be of different types whereas a String only contains characters that are all of String type."
   ]
  },
  {
   "cell_type": "markdown",
   "id": "a04de0f6",
   "metadata": {},
   "source": [
    "# Q9. What is the difference between tuples and lists?\n",
    "Ans:-\n",
    "\n",
    "The key difference between the tuples and lists is that while the tuples are immutable objects the lists are mutable. This means that tuples cannot be changed while the lists can be modified. Tuples are more memory efficient than the lists."
   ]
  },
  {
   "cell_type": "markdown",
   "id": "cff0f195",
   "metadata": {},
   "source": [
    "# Q10. How do you type a tuple value that only contains the integer 42?\n",
    "Ans:-\n",
    "    \n",
    "   (42,)"
   ]
  },
  {
   "cell_type": "markdown",
   "id": "175eefef",
   "metadata": {},
   "source": [
    "# Q11. How do you get a list values tuple form? How do you get a tuple values list form?\n",
    "Ans:-\n",
    "    \n",
    "  Python list method list() takes sequence types and converts them to lists. This is used to convert a given tuple into list. Note − Tuple are very similar to lists with only difference that element values of a tuple can not be changed and tuple elements are put between parentheses instead of square bracket.\n",
    "  \n",
    "  "
   ]
  },
  {
   "cell_type": "markdown",
   "id": "3f5ee20a",
   "metadata": {},
   "source": [
    "# Q12. Variables that &quot;contain&quot; list values are not necessarily lists themselves. Instead, what do they\n",
    "contain?\n",
    "Ans:- \n",
    "    \n",
    "   list can contain any data type like string, float,boolean,complex number,set, dictionary, integers, etc"
   ]
  },
  {
   "cell_type": "markdown",
   "id": "62a3a336",
   "metadata": {},
   "source": [
    "# Q13. How do you distinguish between copy.copy() and copy.deepcopy()?\n",
    "Ans:-\n",
    "\n",
    "\n",
    "copy() create reference to original object. If you change copied object - you change the original object. \n",
    "\n",
    "\n",
    ". deepcopy() creates new object and does real copying of original object to new one. Changing new deepcopied object doesn't affect original object."
   ]
  },
  {
   "cell_type": "code",
   "execution_count": null,
   "id": "53c9ffea",
   "metadata": {},
   "outputs": [],
   "source": []
  }
 ],
 "metadata": {
  "kernelspec": {
   "display_name": "Python 3 (ipykernel)",
   "language": "python",
   "name": "python3"
  },
  "language_info": {
   "codemirror_mode": {
    "name": "ipython",
    "version": 3
   },
   "file_extension": ".py",
   "mimetype": "text/x-python",
   "name": "python",
   "nbconvert_exporter": "python",
   "pygments_lexer": "ipython3",
   "version": "3.9.7"
  }
 },
 "nbformat": 4,
 "nbformat_minor": 5
}
