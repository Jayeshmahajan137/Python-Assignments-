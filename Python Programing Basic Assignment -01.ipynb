{
 "cells": [
  {
   "cell_type": "markdown",
   "id": "b1c73df6",
   "metadata": {},
   "source": [
    "# Python Programming Basic Assignment-01"
   ]
  },
  {
   "cell_type": "markdown",
   "id": "af750d1e",
   "metadata": {},
   "source": [
    "# Q1.Write a Python program to print \"Hello Python\"?"
   ]
  },
  {
   "cell_type": "code",
   "execution_count": 1,
   "id": "843905b7",
   "metadata": {},
   "outputs": [
    {
     "name": "stdout",
     "output_type": "stream",
     "text": [
      "Hello Python\n"
     ]
    }
   ],
   "source": [
    "print(\"Hello Python\")\n"
   ]
  },
  {
   "cell_type": "markdown",
   "id": "7e52c12e",
   "metadata": {},
   "source": [
    "You can run this code in a Python interpreter, or save it to a file with a .py extension and run it with the Python interpreter from the command line. When you run the code, the message \"Hello Python\" will be printed to the console."
   ]
  },
  {
   "cell_type": "markdown",
   "id": "68379e12",
   "metadata": {},
   "source": [
    "# Q2.Write a Python program to do arithmetical operations addition and division.?"
   ]
  },
  {
   "cell_type": "code",
   "execution_count": 2,
   "id": "f5d35792",
   "metadata": {},
   "outputs": [
    {
     "name": "stdout",
     "output_type": "stream",
     "text": [
      "The sum of 5 and 2 is 7\n",
      "The result of 5 divided by 2 is 2.5\n"
     ]
    }
   ],
   "source": [
    "a = 5\n",
    "b = 2\n",
    "\n",
    "# Addition\n",
    "c = a + b\n",
    "print(\"The sum of\", a, \"and\", b, \"is\", c)\n",
    "\n",
    "# Division\n",
    "d = a / b\n",
    "print(\"The result of\", a, \"divided by\", b, \"is\", d)\n"
   ]
  },
  {
   "cell_type": "markdown",
   "id": "df014e2c",
   "metadata": {},
   "source": [
    "# Q3.Write a Python program to find the area of a triangle?"
   ]
  },
  {
   "cell_type": "code",
   "execution_count": 4,
   "id": "69b692f5",
   "metadata": {},
   "outputs": [
    {
     "name": "stdout",
     "output_type": "stream",
     "text": [
      "The area of the triangle is 30.0\n"
     ]
    }
   ],
   "source": [
    "base = 15\n",
    "height = 4\n",
    "\n",
    "# Calculate the area of the triangle\n",
    "area = 0.5 * base * height\n",
    "\n",
    "# Print the result\n",
    "print(\"The area of the triangle is\", area)\n"
   ]
  },
  {
   "cell_type": "markdown",
   "id": "6717b278",
   "metadata": {},
   "source": [
    "# Q4.Write a Python program to swap two variables?"
   ]
  },
  {
   "cell_type": "code",
   "execution_count": 5,
   "id": "adb3ddfb",
   "metadata": {},
   "outputs": [
    {
     "name": "stdout",
     "output_type": "stream",
     "text": [
      "Before swapping:\n",
      "a = 5\n",
      "b = 7\n",
      "After swapping:\n",
      "a = 7\n",
      "b = 5\n"
     ]
    }
   ],
   "source": [
    "a = 5\n",
    "b = 7\n",
    "\n",
    "print(\"Before swapping:\")\n",
    "print(\"a =\", a)\n",
    "print(\"b =\", b)\n",
    "\n",
    "# Swapping the values\n",
    "temp = a\n",
    "a = b\n",
    "b = temp\n",
    "\n",
    "print(\"After swapping:\")\n",
    "print(\"a =\", a)\n",
    "print(\"b =\", b)\n"
   ]
  },
  {
   "cell_type": "markdown",
   "id": "ce32df89",
   "metadata": {},
   "source": [
    "# Q5.Write a Python program to generate a random number?"
   ]
  },
  {
   "cell_type": "code",
   "execution_count": 6,
   "id": "ad03333f",
   "metadata": {},
   "outputs": [
    {
     "name": "stdout",
     "output_type": "stream",
     "text": [
      "The random number is: 6\n"
     ]
    }
   ],
   "source": [
    "import random\n",
    "\n",
    "# Generate a random integer between 1 and 10 (inclusive)\n",
    "random_number = random.randint(1, 10)\n",
    "\n",
    "# Print the random number\n",
    "print(\"The random number is:\", random_number)\n"
   ]
  },
  {
   "cell_type": "code",
   "execution_count": null,
   "id": "4903475a",
   "metadata": {},
   "outputs": [],
   "source": []
  }
 ],
 "metadata": {
  "kernelspec": {
   "display_name": "Python 3 (ipykernel)",
   "language": "python",
   "name": "python3"
  },
  "language_info": {
   "codemirror_mode": {
    "name": "ipython",
    "version": 3
   },
   "file_extension": ".py",
   "mimetype": "text/x-python",
   "name": "python",
   "nbconvert_exporter": "python",
   "pygments_lexer": "ipython3",
   "version": "3.9.13"
  }
 },
 "nbformat": 4,
 "nbformat_minor": 5
}
